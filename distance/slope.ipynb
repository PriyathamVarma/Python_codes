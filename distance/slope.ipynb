{
  "nbformat": 4,
  "nbformat_minor": 0,
  "metadata": {
    "colab": {
      "name": "Untitled2.ipynb",
      "provenance": [],
      "authorship_tag": "ABX9TyO35UQorf/+FXON0AfUQCda",
      "include_colab_link": true
    },
    "kernelspec": {
      "name": "python3",
      "display_name": "Python 3"
    },
    "language_info": {
      "name": "python"
    }
  },
  "cells": [
    {
      "cell_type": "markdown",
      "metadata": {
        "id": "view-in-github",
        "colab_type": "text"
      },
      "source": [
        "<a href=\"https://colab.research.google.com/github/PriyathamVarma/PriyathamVarma/blob/main/distance/slope.ipynb\" target=\"_parent\"><img src=\"https://colab.research.google.com/assets/colab-badge.svg\" alt=\"Open In Colab\"/></a>"
      ]
    },
    {
      "cell_type": "code",
      "metadata": {
        "colab": {
          "base_uri": "https://localhost:8080/"
        },
        "id": "0LMIfBWU03k7",
        "outputId": "214c4f71-3018-4a98-dfe8-e30972bec773"
      },
      "source": [
        "class line():\n",
        "    def __init__(self,coor1,coor2):\n",
        "        self.coorOne=coor1\n",
        "        self.coorTwo=coor2\n",
        "        \n",
        "    def distance(self):\n",
        "        #tuple unpacking\n",
        "        x1,y1=self.coorOne\n",
        "        x2,y2=self.coorTwo\n",
        "        \n",
        "        return ((x2-x1)**2 +(y2-y1)**2)**0.5\n",
        "        \n",
        "    def slope(self): \n",
        "        x1,y1=self.coorOne\n",
        "        x2,y2=self.coorTwo\n",
        "        \n",
        "        return ((y2-y1)/(x2-x1))\n",
        "        \n",
        "#creating a class instance\n",
        "line=line((1,2),(2,4))\n",
        "\n",
        "print(line.distance())\n",
        "print(line.slope())\n"
      ],
      "execution_count": 4,
      "outputs": [
        {
          "output_type": "stream",
          "text": [
            "2.23606797749979\n",
            "2.0\n"
          ],
          "name": "stdout"
        }
      ]
    }
  ]
}