{
  "nbformat": 4,
  "nbformat_minor": 0,
  "metadata": {
    "colab": {
      "name": "task2-models.ipynb",
      "provenance": [],
      "collapsed_sections": [],
      "authorship_tag": "ABX9TyMODqT1axE6pFG95KiK6l3d",
      "include_colab_link": true
    },
    "kernelspec": {
      "name": "python3",
      "display_name": "Python 3"
    },
    "language_info": {
      "name": "python"
    }
  },
  "cells": [
    {
      "cell_type": "markdown",
      "metadata": {
        "id": "view-in-github",
        "colab_type": "text"
      },
      "source": [
        "<a href=\"https://colab.research.google.com/github/PriyathamVarma/PriyathamVarma/blob/main/task2_models.ipynb\" target=\"_parent\"><img src=\"https://colab.research.google.com/assets/colab-badge.svg\" alt=\"Open In Colab\"/></a>"
      ]
    },
    {
      "cell_type": "markdown",
      "source": [
        "# This notebook is for AI coursework chatbot task 2 models implemntation"
      ],
      "metadata": {
        "id": "84tlOfKjOO_h"
      }
    },
    {
      "cell_type": "code",
      "source": [
        "# Mounting google drive for accessing files\n",
        "from google.colab import auth\n",
        "auth.authenticate_user()\n",
        "import gspread\n",
        "from oauth2client.client import GoogleCredentials\n",
        "gc = gspread.authorize(GoogleCredentials.get_application_default())"
      ],
      "metadata": {
        "id": "uahPtpf3OWJ4"
      },
      "execution_count": 1137,
      "outputs": []
    },
    {
      "cell_type": "code",
      "source": [
        "# Imports\n",
        "\n",
        "import pandas as pd\n",
        "import numpy as np\n",
        "import matplotlib.pyplot as plt\n",
        "# Import seaborn\n",
        "#import seaborn as sns\n",
        "# imports\n",
        "#import plotly.express as px \n",
        "# Tensorflow\n",
        "import math\n",
        "import pandas_datareader as web\n",
        "from sklearn.preprocessing import MinMaxScaler\n",
        "from keras.models import Sequential\n",
        "from keras.layers import Dense,LSTM\n",
        "import datetime\n",
        "import seaborn as sns\n",
        "from sklearn.metrics import r2_score\n",
        "\n",
        "from sklearn.linear_model import LinearRegression"
      ],
      "metadata": {
        "id": "iqvwKz3aOZzF"
      },
      "execution_count": 1138,
      "outputs": []
    },
    {
      "cell_type": "code",
      "source": [
        "# Creating a wb variable to store the spreadsheet bu URL\n",
        "\n",
        "\n",
        "wb = gc.open_by_url('https://docs.google.com/spreadsheets/d/1Uc0IftU39xiQNV5gV0ASTTcElOrpgKRseG3HeIfeF2g/edit#gid=387344816')\n",
        "# Getting the sheet(if multiple sheets exists) by sheet name\n",
        "sheet = wb.worksheet('train.csv')\n",
        "# Getting all values that exist in the sheet\n",
        "data = sheet.get_all_values()\n",
        "# Converting the values into a dataframe\n",
        "data_frame = pd.DataFrame(data)"
      ],
      "metadata": {
        "id": "YR9ZMZ-hOaKq"
      },
      "execution_count": 1139,
      "outputs": []
    },
    {
      "cell_type": "code",
      "source": [
        "data_frame.info()"
      ],
      "metadata": {
        "colab": {
          "base_uri": "https://localhost:8080/"
        },
        "id": "Dg2iwnoEOny3",
        "outputId": "101e2fc8-8d31-475d-9acc-c05d50cb68fb"
      },
      "execution_count": 1140,
      "outputs": [
        {
          "output_type": "stream",
          "name": "stdout",
          "text": [
            "<class 'pandas.core.frame.DataFrame'>\n",
            "RangeIndex: 303825 entries, 0 to 303824\n",
            "Data columns (total 10 columns):\n",
            " #   Column  Non-Null Count   Dtype \n",
            "---  ------  --------------   ----- \n",
            " 0   0       303825 non-null  object\n",
            " 1   1       303825 non-null  object\n",
            " 2   2       303825 non-null  object\n",
            " 3   3       303825 non-null  object\n",
            " 4   4       303825 non-null  object\n",
            " 5   5       303825 non-null  object\n",
            " 6   6       303825 non-null  object\n",
            " 7   7       303825 non-null  object\n",
            " 8   8       303825 non-null  object\n",
            " 9   9       303825 non-null  object\n",
            "dtypes: object(10)\n",
            "memory usage: 23.2+ MB\n"
          ]
        }
      ]
    },
    {
      "cell_type": "code",
      "source": [
        "pip install pandasql"
      ],
      "metadata": {
        "colab": {
          "base_uri": "https://localhost:8080/"
        },
        "id": "Tjw0eBEjPUdl",
        "outputId": "e349053f-520a-488c-f631-d36093a50360"
      },
      "execution_count": 1141,
      "outputs": [
        {
          "output_type": "stream",
          "name": "stdout",
          "text": [
            "Requirement already satisfied: pandasql in /usr/local/lib/python3.7/dist-packages (0.7.3)\n",
            "Requirement already satisfied: numpy in /usr/local/lib/python3.7/dist-packages (from pandasql) (1.19.5)\n",
            "Requirement already satisfied: pandas in /usr/local/lib/python3.7/dist-packages (from pandasql) (1.1.5)\n",
            "Requirement already satisfied: sqlalchemy in /usr/local/lib/python3.7/dist-packages (from pandasql) (1.4.29)\n",
            "Requirement already satisfied: pytz>=2017.2 in /usr/local/lib/python3.7/dist-packages (from pandas->pandasql) (2018.9)\n",
            "Requirement already satisfied: python-dateutil>=2.7.3 in /usr/local/lib/python3.7/dist-packages (from pandas->pandasql) (2.8.2)\n",
            "Requirement already satisfied: six>=1.5 in /usr/local/lib/python3.7/dist-packages (from python-dateutil>=2.7.3->pandas->pandasql) (1.15.0)\n",
            "Requirement already satisfied: importlib-metadata in /usr/local/lib/python3.7/dist-packages (from sqlalchemy->pandasql) (4.10.0)\n",
            "Requirement already satisfied: greenlet!=0.4.17 in /usr/local/lib/python3.7/dist-packages (from sqlalchemy->pandasql) (1.1.2)\n",
            "Requirement already satisfied: typing-extensions>=3.6.4 in /usr/local/lib/python3.7/dist-packages (from importlib-metadata->sqlalchemy->pandasql) (3.10.0.2)\n",
            "Requirement already satisfied: zipp>=0.5 in /usr/local/lib/python3.7/dist-packages (from importlib-metadata->sqlalchemy->pandasql) (3.7.0)\n"
          ]
        }
      ]
    },
    {
      "cell_type": "code",
      "source": [
        "import tensorflow as tf\n",
        "import pandasql as ps"
      ],
      "metadata": {
        "id": "o_1cOWpzO-6q"
      },
      "execution_count": 1142,
      "outputs": []
    },
    {
      "cell_type": "code",
      "source": [
        "# Getting the first row to be the header\n",
        "\n",
        "data_frame.columns = data_frame.iloc[0]\n",
        "\n",
        "data_frame = data_frame.iloc[1:].reset_index(drop=True)"
      ],
      "metadata": {
        "id": "tWAoEViQQbuy"
      },
      "execution_count": 1143,
      "outputs": []
    },
    {
      "cell_type": "code",
      "source": [
        "new_df = pd.DataFrame()"
      ],
      "metadata": {
        "id": "kRXBrSuXa4PP"
      },
      "execution_count": 1144,
      "outputs": []
    },
    {
      "cell_type": "code",
      "source": [
        "new_df = data_frame.drop(['day','month'], axis=1)"
      ],
      "metadata": {
        "id": "McNfzPFoQh-g"
      },
      "execution_count": 1145,
      "outputs": []
    },
    {
      "cell_type": "code",
      "source": [
        "new_df.head(5)"
      ],
      "metadata": {
        "id": "qTRqaswhzz98",
        "colab": {
          "base_uri": "https://localhost:8080/",
          "height": 206
        },
        "outputId": "7fd2f66b-a3ba-4e59-e3e4-33a9d7c3ff7e"
      },
      "execution_count": 1146,
      "outputs": [
        {
          "output_type": "execute_result",
          "data": {
            "text/html": [
              "\n",
              "  <div id=\"df-42a9fac9-fce8-4c5f-83fd-04626ae0b8d3\">\n",
              "    <div class=\"colab-df-container\">\n",
              "      <div>\n",
              "<style scoped>\n",
              "    .dataframe tbody tr th:only-of-type {\n",
              "        vertical-align: middle;\n",
              "    }\n",
              "\n",
              "    .dataframe tbody tr th {\n",
              "        vertical-align: top;\n",
              "    }\n",
              "\n",
              "    .dataframe thead th {\n",
              "        text-align: right;\n",
              "    }\n",
              "</style>\n",
              "<table border=\"1\" class=\"dataframe\">\n",
              "  <thead>\n",
              "    <tr style=\"text-align: right;\">\n",
              "      <th></th>\n",
              "      <th>year</th>\n",
              "      <th>rail_id</th>\n",
              "      <th>station</th>\n",
              "      <th>planned_arr</th>\n",
              "      <th>planned_dep</th>\n",
              "      <th>actual_arr</th>\n",
              "      <th>month_fmt</th>\n",
              "      <th>day_fmt</th>\n",
              "    </tr>\n",
              "  </thead>\n",
              "  <tbody>\n",
              "    <tr>\n",
              "      <th>0</th>\n",
              "      <td>2017</td>\n",
              "      <td>8734960</td>\n",
              "      <td>DRCHS</td>\n",
              "      <td>09:12</td>\n",
              "      <td>09:12</td>\n",
              "      <td>09:11</td>\n",
              "      <td>02</td>\n",
              "      <td>01</td>\n",
              "    </tr>\n",
              "    <tr>\n",
              "      <th>1</th>\n",
              "      <td>2017</td>\n",
              "      <td>8734960</td>\n",
              "      <td>WARHAM</td>\n",
              "      <td>09:27</td>\n",
              "      <td>09:29</td>\n",
              "      <td>09:27</td>\n",
              "      <td>02</td>\n",
              "      <td>01</td>\n",
              "    </tr>\n",
              "    <tr>\n",
              "      <th>2</th>\n",
              "      <td>2017</td>\n",
              "      <td>8734960</td>\n",
              "      <td>HMWTHY</td>\n",
              "      <td>09:34</td>\n",
              "      <td>09:35</td>\n",
              "      <td>09:33</td>\n",
              "      <td>02</td>\n",
              "      <td>01</td>\n",
              "    </tr>\n",
              "    <tr>\n",
              "      <th>3</th>\n",
              "      <td>2017</td>\n",
              "      <td>8734960</td>\n",
              "      <td>POOLE</td>\n",
              "      <td>09:39</td>\n",
              "      <td>09:39</td>\n",
              "      <td>09:38</td>\n",
              "      <td>02</td>\n",
              "      <td>01</td>\n",
              "    </tr>\n",
              "    <tr>\n",
              "      <th>4</th>\n",
              "      <td>2017</td>\n",
              "      <td>8734960</td>\n",
              "      <td>PSTONE</td>\n",
              "      <td>09:44</td>\n",
              "      <td>09:43</td>\n",
              "      <td>09:41</td>\n",
              "      <td>02</td>\n",
              "      <td>01</td>\n",
              "    </tr>\n",
              "  </tbody>\n",
              "</table>\n",
              "</div>\n",
              "      <button class=\"colab-df-convert\" onclick=\"convertToInteractive('df-42a9fac9-fce8-4c5f-83fd-04626ae0b8d3')\"\n",
              "              title=\"Convert this dataframe to an interactive table.\"\n",
              "              style=\"display:none;\">\n",
              "        \n",
              "  <svg xmlns=\"http://www.w3.org/2000/svg\" height=\"24px\"viewBox=\"0 0 24 24\"\n",
              "       width=\"24px\">\n",
              "    <path d=\"M0 0h24v24H0V0z\" fill=\"none\"/>\n",
              "    <path d=\"M18.56 5.44l.94 2.06.94-2.06 2.06-.94-2.06-.94-.94-2.06-.94 2.06-2.06.94zm-11 1L8.5 8.5l.94-2.06 2.06-.94-2.06-.94L8.5 2.5l-.94 2.06-2.06.94zm10 10l.94 2.06.94-2.06 2.06-.94-2.06-.94-.94-2.06-.94 2.06-2.06.94z\"/><path d=\"M17.41 7.96l-1.37-1.37c-.4-.4-.92-.59-1.43-.59-.52 0-1.04.2-1.43.59L10.3 9.45l-7.72 7.72c-.78.78-.78 2.05 0 2.83L4 21.41c.39.39.9.59 1.41.59.51 0 1.02-.2 1.41-.59l7.78-7.78 2.81-2.81c.8-.78.8-2.07 0-2.86zM5.41 20L4 18.59l7.72-7.72 1.47 1.35L5.41 20z\"/>\n",
              "  </svg>\n",
              "      </button>\n",
              "      \n",
              "  <style>\n",
              "    .colab-df-container {\n",
              "      display:flex;\n",
              "      flex-wrap:wrap;\n",
              "      gap: 12px;\n",
              "    }\n",
              "\n",
              "    .colab-df-convert {\n",
              "      background-color: #E8F0FE;\n",
              "      border: none;\n",
              "      border-radius: 50%;\n",
              "      cursor: pointer;\n",
              "      display: none;\n",
              "      fill: #1967D2;\n",
              "      height: 32px;\n",
              "      padding: 0 0 0 0;\n",
              "      width: 32px;\n",
              "    }\n",
              "\n",
              "    .colab-df-convert:hover {\n",
              "      background-color: #E2EBFA;\n",
              "      box-shadow: 0px 1px 2px rgba(60, 64, 67, 0.3), 0px 1px 3px 1px rgba(60, 64, 67, 0.15);\n",
              "      fill: #174EA6;\n",
              "    }\n",
              "\n",
              "    [theme=dark] .colab-df-convert {\n",
              "      background-color: #3B4455;\n",
              "      fill: #D2E3FC;\n",
              "    }\n",
              "\n",
              "    [theme=dark] .colab-df-convert:hover {\n",
              "      background-color: #434B5C;\n",
              "      box-shadow: 0px 1px 3px 1px rgba(0, 0, 0, 0.15);\n",
              "      filter: drop-shadow(0px 1px 2px rgba(0, 0, 0, 0.3));\n",
              "      fill: #FFFFFF;\n",
              "    }\n",
              "  </style>\n",
              "\n",
              "      <script>\n",
              "        const buttonEl =\n",
              "          document.querySelector('#df-42a9fac9-fce8-4c5f-83fd-04626ae0b8d3 button.colab-df-convert');\n",
              "        buttonEl.style.display =\n",
              "          google.colab.kernel.accessAllowed ? 'block' : 'none';\n",
              "\n",
              "        async function convertToInteractive(key) {\n",
              "          const element = document.querySelector('#df-42a9fac9-fce8-4c5f-83fd-04626ae0b8d3');\n",
              "          const dataTable =\n",
              "            await google.colab.kernel.invokeFunction('convertToInteractive',\n",
              "                                                     [key], {});\n",
              "          if (!dataTable) return;\n",
              "\n",
              "          const docLinkHtml = 'Like what you see? Visit the ' +\n",
              "            '<a target=\"_blank\" href=https://colab.research.google.com/notebooks/data_table.ipynb>data table notebook</a>'\n",
              "            + ' to learn more about interactive tables.';\n",
              "          element.innerHTML = '';\n",
              "          dataTable['output_type'] = 'display_data';\n",
              "          await google.colab.output.renderOutput(dataTable, element);\n",
              "          const docLink = document.createElement('div');\n",
              "          docLink.innerHTML = docLinkHtml;\n",
              "          element.appendChild(docLink);\n",
              "        }\n",
              "      </script>\n",
              "    </div>\n",
              "  </div>\n",
              "  "
            ],
            "text/plain": [
              "0  year  rail_id station planned_arr planned_dep actual_arr month_fmt day_fmt\n",
              "0  2017  8734960   DRCHS       09:12       09:12      09:11        02      01\n",
              "1  2017  8734960  WARHAM       09:27       09:29      09:27        02      01\n",
              "2  2017  8734960  HMWTHY       09:34       09:35      09:33        02      01\n",
              "3  2017  8734960   POOLE       09:39       09:39      09:38        02      01\n",
              "4  2017  8734960  PSTONE       09:44       09:43      09:41        02      01"
            ]
          },
          "metadata": {},
          "execution_count": 1146
        }
      ]
    },
    {
      "cell_type": "code",
      "source": [
        "new_df.info()"
      ],
      "metadata": {
        "colab": {
          "base_uri": "https://localhost:8080/"
        },
        "id": "gIwivP28RlMa",
        "outputId": "87601f77-2b83-4b69-97c5-f819f2d120c9"
      },
      "execution_count": 1147,
      "outputs": [
        {
          "output_type": "stream",
          "name": "stdout",
          "text": [
            "<class 'pandas.core.frame.DataFrame'>\n",
            "RangeIndex: 303824 entries, 0 to 303823\n",
            "Data columns (total 8 columns):\n",
            " #   Column       Non-Null Count   Dtype \n",
            "---  ------       --------------   ----- \n",
            " 0   year         303824 non-null  object\n",
            " 1   rail_id      303824 non-null  object\n",
            " 2   station      303824 non-null  object\n",
            " 3   planned_arr  303824 non-null  object\n",
            " 4   planned_dep  303824 non-null  object\n",
            " 5   actual_arr   303824 non-null  object\n",
            " 6   month_fmt    303824 non-null  object\n",
            " 7   day_fmt      303824 non-null  object\n",
            "dtypes: object(8)\n",
            "memory usage: 18.5+ MB\n"
          ]
        }
      ]
    },
    {
      "cell_type": "code",
      "source": [
        "new_df['required_time'] = new_df['year'] + new_df['month_fmt'] + new_df['day_fmt'] + new_df['planned_arr']"
      ],
      "metadata": {
        "id": "xXoGVBGJa-q4"
      },
      "execution_count": 1148,
      "outputs": []
    },
    {
      "cell_type": "code",
      "source": [
        "new_df.head(5)"
      ],
      "metadata": {
        "colab": {
          "base_uri": "https://localhost:8080/",
          "height": 206
        },
        "id": "ZzSNcQU8bJw6",
        "outputId": "5b49d058-4383-4ffc-97ef-adb5c8491804"
      },
      "execution_count": 1149,
      "outputs": [
        {
          "output_type": "execute_result",
          "data": {
            "text/html": [
              "\n",
              "  <div id=\"df-4b4ef369-2864-4d33-99f2-49ab754aee5b\">\n",
              "    <div class=\"colab-df-container\">\n",
              "      <div>\n",
              "<style scoped>\n",
              "    .dataframe tbody tr th:only-of-type {\n",
              "        vertical-align: middle;\n",
              "    }\n",
              "\n",
              "    .dataframe tbody tr th {\n",
              "        vertical-align: top;\n",
              "    }\n",
              "\n",
              "    .dataframe thead th {\n",
              "        text-align: right;\n",
              "    }\n",
              "</style>\n",
              "<table border=\"1\" class=\"dataframe\">\n",
              "  <thead>\n",
              "    <tr style=\"text-align: right;\">\n",
              "      <th></th>\n",
              "      <th>year</th>\n",
              "      <th>rail_id</th>\n",
              "      <th>station</th>\n",
              "      <th>planned_arr</th>\n",
              "      <th>planned_dep</th>\n",
              "      <th>actual_arr</th>\n",
              "      <th>month_fmt</th>\n",
              "      <th>day_fmt</th>\n",
              "      <th>required_time</th>\n",
              "    </tr>\n",
              "  </thead>\n",
              "  <tbody>\n",
              "    <tr>\n",
              "      <th>0</th>\n",
              "      <td>2017</td>\n",
              "      <td>8734960</td>\n",
              "      <td>DRCHS</td>\n",
              "      <td>09:12</td>\n",
              "      <td>09:12</td>\n",
              "      <td>09:11</td>\n",
              "      <td>02</td>\n",
              "      <td>01</td>\n",
              "      <td>2017020109:12</td>\n",
              "    </tr>\n",
              "    <tr>\n",
              "      <th>1</th>\n",
              "      <td>2017</td>\n",
              "      <td>8734960</td>\n",
              "      <td>WARHAM</td>\n",
              "      <td>09:27</td>\n",
              "      <td>09:29</td>\n",
              "      <td>09:27</td>\n",
              "      <td>02</td>\n",
              "      <td>01</td>\n",
              "      <td>2017020109:27</td>\n",
              "    </tr>\n",
              "    <tr>\n",
              "      <th>2</th>\n",
              "      <td>2017</td>\n",
              "      <td>8734960</td>\n",
              "      <td>HMWTHY</td>\n",
              "      <td>09:34</td>\n",
              "      <td>09:35</td>\n",
              "      <td>09:33</td>\n",
              "      <td>02</td>\n",
              "      <td>01</td>\n",
              "      <td>2017020109:34</td>\n",
              "    </tr>\n",
              "    <tr>\n",
              "      <th>3</th>\n",
              "      <td>2017</td>\n",
              "      <td>8734960</td>\n",
              "      <td>POOLE</td>\n",
              "      <td>09:39</td>\n",
              "      <td>09:39</td>\n",
              "      <td>09:38</td>\n",
              "      <td>02</td>\n",
              "      <td>01</td>\n",
              "      <td>2017020109:39</td>\n",
              "    </tr>\n",
              "    <tr>\n",
              "      <th>4</th>\n",
              "      <td>2017</td>\n",
              "      <td>8734960</td>\n",
              "      <td>PSTONE</td>\n",
              "      <td>09:44</td>\n",
              "      <td>09:43</td>\n",
              "      <td>09:41</td>\n",
              "      <td>02</td>\n",
              "      <td>01</td>\n",
              "      <td>2017020109:44</td>\n",
              "    </tr>\n",
              "  </tbody>\n",
              "</table>\n",
              "</div>\n",
              "      <button class=\"colab-df-convert\" onclick=\"convertToInteractive('df-4b4ef369-2864-4d33-99f2-49ab754aee5b')\"\n",
              "              title=\"Convert this dataframe to an interactive table.\"\n",
              "              style=\"display:none;\">\n",
              "        \n",
              "  <svg xmlns=\"http://www.w3.org/2000/svg\" height=\"24px\"viewBox=\"0 0 24 24\"\n",
              "       width=\"24px\">\n",
              "    <path d=\"M0 0h24v24H0V0z\" fill=\"none\"/>\n",
              "    <path d=\"M18.56 5.44l.94 2.06.94-2.06 2.06-.94-2.06-.94-.94-2.06-.94 2.06-2.06.94zm-11 1L8.5 8.5l.94-2.06 2.06-.94-2.06-.94L8.5 2.5l-.94 2.06-2.06.94zm10 10l.94 2.06.94-2.06 2.06-.94-2.06-.94-.94-2.06-.94 2.06-2.06.94z\"/><path d=\"M17.41 7.96l-1.37-1.37c-.4-.4-.92-.59-1.43-.59-.52 0-1.04.2-1.43.59L10.3 9.45l-7.72 7.72c-.78.78-.78 2.05 0 2.83L4 21.41c.39.39.9.59 1.41.59.51 0 1.02-.2 1.41-.59l7.78-7.78 2.81-2.81c.8-.78.8-2.07 0-2.86zM5.41 20L4 18.59l7.72-7.72 1.47 1.35L5.41 20z\"/>\n",
              "  </svg>\n",
              "      </button>\n",
              "      \n",
              "  <style>\n",
              "    .colab-df-container {\n",
              "      display:flex;\n",
              "      flex-wrap:wrap;\n",
              "      gap: 12px;\n",
              "    }\n",
              "\n",
              "    .colab-df-convert {\n",
              "      background-color: #E8F0FE;\n",
              "      border: none;\n",
              "      border-radius: 50%;\n",
              "      cursor: pointer;\n",
              "      display: none;\n",
              "      fill: #1967D2;\n",
              "      height: 32px;\n",
              "      padding: 0 0 0 0;\n",
              "      width: 32px;\n",
              "    }\n",
              "\n",
              "    .colab-df-convert:hover {\n",
              "      background-color: #E2EBFA;\n",
              "      box-shadow: 0px 1px 2px rgba(60, 64, 67, 0.3), 0px 1px 3px 1px rgba(60, 64, 67, 0.15);\n",
              "      fill: #174EA6;\n",
              "    }\n",
              "\n",
              "    [theme=dark] .colab-df-convert {\n",
              "      background-color: #3B4455;\n",
              "      fill: #D2E3FC;\n",
              "    }\n",
              "\n",
              "    [theme=dark] .colab-df-convert:hover {\n",
              "      background-color: #434B5C;\n",
              "      box-shadow: 0px 1px 3px 1px rgba(0, 0, 0, 0.15);\n",
              "      filter: drop-shadow(0px 1px 2px rgba(0, 0, 0, 0.3));\n",
              "      fill: #FFFFFF;\n",
              "    }\n",
              "  </style>\n",
              "\n",
              "      <script>\n",
              "        const buttonEl =\n",
              "          document.querySelector('#df-4b4ef369-2864-4d33-99f2-49ab754aee5b button.colab-df-convert');\n",
              "        buttonEl.style.display =\n",
              "          google.colab.kernel.accessAllowed ? 'block' : 'none';\n",
              "\n",
              "        async function convertToInteractive(key) {\n",
              "          const element = document.querySelector('#df-4b4ef369-2864-4d33-99f2-49ab754aee5b');\n",
              "          const dataTable =\n",
              "            await google.colab.kernel.invokeFunction('convertToInteractive',\n",
              "                                                     [key], {});\n",
              "          if (!dataTable) return;\n",
              "\n",
              "          const docLinkHtml = 'Like what you see? Visit the ' +\n",
              "            '<a target=\"_blank\" href=https://colab.research.google.com/notebooks/data_table.ipynb>data table notebook</a>'\n",
              "            + ' to learn more about interactive tables.';\n",
              "          element.innerHTML = '';\n",
              "          dataTable['output_type'] = 'display_data';\n",
              "          await google.colab.output.renderOutput(dataTable, element);\n",
              "          const docLink = document.createElement('div');\n",
              "          docLink.innerHTML = docLinkHtml;\n",
              "          element.appendChild(docLink);\n",
              "        }\n",
              "      </script>\n",
              "    </div>\n",
              "  </div>\n",
              "  "
            ],
            "text/plain": [
              "0  year  rail_id station  ... month_fmt day_fmt  required_time\n",
              "0  2017  8734960   DRCHS  ...        02      01  2017020109:12\n",
              "1  2017  8734960  WARHAM  ...        02      01  2017020109:27\n",
              "2  2017  8734960  HMWTHY  ...        02      01  2017020109:34\n",
              "3  2017  8734960   POOLE  ...        02      01  2017020109:39\n",
              "4  2017  8734960  PSTONE  ...        02      01  2017020109:44\n",
              "\n",
              "[5 rows x 9 columns]"
            ]
          },
          "metadata": {},
          "execution_count": 1149
        }
      ]
    },
    {
      "cell_type": "code",
      "source": [
        "from datetime import datetime"
      ],
      "metadata": {
        "id": "FnDWLy1AbNOG"
      },
      "execution_count": 1150,
      "outputs": []
    },
    {
      "cell_type": "code",
      "source": [
        "import time\n",
        "import datetime\n",
        "\n",
        "\"\"\"date = datetime.datetime.strptime(x[0], \"%H:%M\")\"\"\"\n",
        "\n",
        "actual_arr_list = []\n",
        "for x in new_df['planned_arr'].values:\n",
        "  if len(x) == 5:\n",
        "    k = datetime.datetime.strptime(x, \"%H:%M\")\n",
        "    t = (k.hour * 60 * 60) + (k.minute * 60)\n",
        "  else:\n",
        "    t = 0\n",
        "\n",
        "  actual_arr_list.append(t)  "
      ],
      "metadata": {
        "id": "dOxq_O6SbPcq"
      },
      "execution_count": 1151,
      "outputs": []
    },
    {
      "cell_type": "code",
      "source": [
        "new_df['timeStamp'] = actual_arr_list"
      ],
      "metadata": {
        "id": "G6hZhJclhPI_"
      },
      "execution_count": 1152,
      "outputs": []
    },
    {
      "cell_type": "code",
      "source": [
        "x = new_df['planned_arr'].values"
      ],
      "metadata": {
        "id": "Bg9REFpP0DDV"
      },
      "execution_count": 1153,
      "outputs": []
    },
    {
      "cell_type": "code",
      "source": [
        "import time\n",
        "import datetime\n",
        "date = datetime.datetime.strptime(x[0], \"%H:%M\")"
      ],
      "metadata": {
        "id": "fAAIVO3Q3pbc"
      },
      "execution_count": 1154,
      "outputs": []
    },
    {
      "cell_type": "code",
      "source": [
        "\n",
        "from numpy import array\n",
        "from numpy import argmax\n",
        "from sklearn.preprocessing import LabelEncoder\n",
        "from sklearn.preprocessing import OneHotEncoder\n",
        "# define example\n",
        "data = data_frame['station'].values\n",
        "values = array(data)\n",
        "print(values)\n",
        "# integer encode\n",
        "label_encoder = LabelEncoder()\n",
        "integer_encoded = label_encoder.fit_transform(values)\n",
        "print(integer_encoded)\n",
        "# binary encode\n",
        "onehot_encoder = OneHotEncoder(sparse=False)\n",
        "integer_encoded = integer_encoded.reshape(len(integer_encoded), 1)\n",
        "onehot_encoded = onehot_encoder.fit_transform(integer_encoded)\n",
        "print(onehot_encoded)\n",
        "# invert first example\n",
        "inverted = label_encoder.inverse_transform([argmax(onehot_encoded[1, :])])\n",
        "print(inverted)"
      ],
      "metadata": {
        "colab": {
          "base_uri": "https://localhost:8080/"
        },
        "id": "1INn7DZ-NFcP",
        "outputId": "5d379e9b-772e-4dc6-cd92-8ca0244cdb9f"
      },
      "execution_count": 1155,
      "outputs": [
        {
          "output_type": "stream",
          "name": "stdout",
          "text": [
            "['DRCHS' 'WARHAM' 'HMWTHY' ... 'WDON' 'CLPHMJM' 'WATRLMN']\n",
            "[12 61 28 ... 64  9 62]\n",
            "[[0. 0. 0. ... 0. 0. 0.]\n",
            " [0. 0. 0. ... 0. 0. 0.]\n",
            " [0. 0. 0. ... 0. 0. 0.]\n",
            " ...\n",
            " [0. 0. 0. ... 0. 0. 0.]\n",
            " [0. 0. 0. ... 0. 0. 0.]\n",
            " [0. 0. 0. ... 0. 0. 0.]]\n",
            "['WARHAM']\n"
          ]
        }
      ]
    },
    {
      "cell_type": "code",
      "source": [
        "final_main_df.head(5)"
      ],
      "metadata": {
        "colab": {
          "base_uri": "https://localhost:8080/",
          "height": 206
        },
        "id": "5qN469J0eZBl",
        "outputId": "782669d7-78ec-41db-941f-73d83e4308fc"
      },
      "execution_count": 1156,
      "outputs": [
        {
          "output_type": "execute_result",
          "data": {
            "text/html": [
              "\n",
              "  <div id=\"df-e5848c2c-6e1e-42e6-937d-5a77d11fbc64\">\n",
              "    <div class=\"colab-df-container\">\n",
              "      <div>\n",
              "<style scoped>\n",
              "    .dataframe tbody tr th:only-of-type {\n",
              "        vertical-align: middle;\n",
              "    }\n",
              "\n",
              "    .dataframe tbody tr th {\n",
              "        vertical-align: top;\n",
              "    }\n",
              "\n",
              "    .dataframe thead th {\n",
              "        text-align: right;\n",
              "    }\n",
              "</style>\n",
              "<table border=\"1\" class=\"dataframe\">\n",
              "  <thead>\n",
              "    <tr style=\"text-align: right;\">\n",
              "      <th></th>\n",
              "      <th>timestamps</th>\n",
              "      <th>station</th>\n",
              "      <th>rail_ids</th>\n",
              "      <th>station_name</th>\n",
              "      <th>pta</th>\n",
              "      <th>ptd</th>\n",
              "      <th>planned_differnce</th>\n",
              "    </tr>\n",
              "  </thead>\n",
              "  <tbody>\n",
              "    <tr>\n",
              "      <th>0</th>\n",
              "      <td>33120</td>\n",
              "      <td>12</td>\n",
              "      <td>8734960</td>\n",
              "      <td>DRCHS</td>\n",
              "      <td>09:12</td>\n",
              "      <td>09:12</td>\n",
              "      <td>0</td>\n",
              "    </tr>\n",
              "    <tr>\n",
              "      <th>1</th>\n",
              "      <td>34020</td>\n",
              "      <td>61</td>\n",
              "      <td>8734960</td>\n",
              "      <td>WARHAM</td>\n",
              "      <td>09:27</td>\n",
              "      <td>09:29</td>\n",
              "      <td>-120</td>\n",
              "    </tr>\n",
              "    <tr>\n",
              "      <th>2</th>\n",
              "      <td>34440</td>\n",
              "      <td>28</td>\n",
              "      <td>8734960</td>\n",
              "      <td>HMWTHY</td>\n",
              "      <td>09:34</td>\n",
              "      <td>09:35</td>\n",
              "      <td>-60</td>\n",
              "    </tr>\n",
              "    <tr>\n",
              "      <th>3</th>\n",
              "      <td>34740</td>\n",
              "      <td>40</td>\n",
              "      <td>8734960</td>\n",
              "      <td>POOLE</td>\n",
              "      <td>09:39</td>\n",
              "      <td>09:39</td>\n",
              "      <td>0</td>\n",
              "    </tr>\n",
              "    <tr>\n",
              "      <th>4</th>\n",
              "      <td>35040</td>\n",
              "      <td>41</td>\n",
              "      <td>8734960</td>\n",
              "      <td>PSTONE</td>\n",
              "      <td>09:44</td>\n",
              "      <td>09:43</td>\n",
              "      <td>60</td>\n",
              "    </tr>\n",
              "  </tbody>\n",
              "</table>\n",
              "</div>\n",
              "      <button class=\"colab-df-convert\" onclick=\"convertToInteractive('df-e5848c2c-6e1e-42e6-937d-5a77d11fbc64')\"\n",
              "              title=\"Convert this dataframe to an interactive table.\"\n",
              "              style=\"display:none;\">\n",
              "        \n",
              "  <svg xmlns=\"http://www.w3.org/2000/svg\" height=\"24px\"viewBox=\"0 0 24 24\"\n",
              "       width=\"24px\">\n",
              "    <path d=\"M0 0h24v24H0V0z\" fill=\"none\"/>\n",
              "    <path d=\"M18.56 5.44l.94 2.06.94-2.06 2.06-.94-2.06-.94-.94-2.06-.94 2.06-2.06.94zm-11 1L8.5 8.5l.94-2.06 2.06-.94-2.06-.94L8.5 2.5l-.94 2.06-2.06.94zm10 10l.94 2.06.94-2.06 2.06-.94-2.06-.94-.94-2.06-.94 2.06-2.06.94z\"/><path d=\"M17.41 7.96l-1.37-1.37c-.4-.4-.92-.59-1.43-.59-.52 0-1.04.2-1.43.59L10.3 9.45l-7.72 7.72c-.78.78-.78 2.05 0 2.83L4 21.41c.39.39.9.59 1.41.59.51 0 1.02-.2 1.41-.59l7.78-7.78 2.81-2.81c.8-.78.8-2.07 0-2.86zM5.41 20L4 18.59l7.72-7.72 1.47 1.35L5.41 20z\"/>\n",
              "  </svg>\n",
              "      </button>\n",
              "      \n",
              "  <style>\n",
              "    .colab-df-container {\n",
              "      display:flex;\n",
              "      flex-wrap:wrap;\n",
              "      gap: 12px;\n",
              "    }\n",
              "\n",
              "    .colab-df-convert {\n",
              "      background-color: #E8F0FE;\n",
              "      border: none;\n",
              "      border-radius: 50%;\n",
              "      cursor: pointer;\n",
              "      display: none;\n",
              "      fill: #1967D2;\n",
              "      height: 32px;\n",
              "      padding: 0 0 0 0;\n",
              "      width: 32px;\n",
              "    }\n",
              "\n",
              "    .colab-df-convert:hover {\n",
              "      background-color: #E2EBFA;\n",
              "      box-shadow: 0px 1px 2px rgba(60, 64, 67, 0.3), 0px 1px 3px 1px rgba(60, 64, 67, 0.15);\n",
              "      fill: #174EA6;\n",
              "    }\n",
              "\n",
              "    [theme=dark] .colab-df-convert {\n",
              "      background-color: #3B4455;\n",
              "      fill: #D2E3FC;\n",
              "    }\n",
              "\n",
              "    [theme=dark] .colab-df-convert:hover {\n",
              "      background-color: #434B5C;\n",
              "      box-shadow: 0px 1px 3px 1px rgba(0, 0, 0, 0.15);\n",
              "      filter: drop-shadow(0px 1px 2px rgba(0, 0, 0, 0.3));\n",
              "      fill: #FFFFFF;\n",
              "    }\n",
              "  </style>\n",
              "\n",
              "      <script>\n",
              "        const buttonEl =\n",
              "          document.querySelector('#df-e5848c2c-6e1e-42e6-937d-5a77d11fbc64 button.colab-df-convert');\n",
              "        buttonEl.style.display =\n",
              "          google.colab.kernel.accessAllowed ? 'block' : 'none';\n",
              "\n",
              "        async function convertToInteractive(key) {\n",
              "          const element = document.querySelector('#df-e5848c2c-6e1e-42e6-937d-5a77d11fbc64');\n",
              "          const dataTable =\n",
              "            await google.colab.kernel.invokeFunction('convertToInteractive',\n",
              "                                                     [key], {});\n",
              "          if (!dataTable) return;\n",
              "\n",
              "          const docLinkHtml = 'Like what you see? Visit the ' +\n",
              "            '<a target=\"_blank\" href=https://colab.research.google.com/notebooks/data_table.ipynb>data table notebook</a>'\n",
              "            + ' to learn more about interactive tables.';\n",
              "          element.innerHTML = '';\n",
              "          dataTable['output_type'] = 'display_data';\n",
              "          await google.colab.output.renderOutput(dataTable, element);\n",
              "          const docLink = document.createElement('div');\n",
              "          docLink.innerHTML = docLinkHtml;\n",
              "          element.appendChild(docLink);\n",
              "        }\n",
              "      </script>\n",
              "    </div>\n",
              "  </div>\n",
              "  "
            ],
            "text/plain": [
              "   timestamps  station rail_ids station_name    pta    ptd  planned_differnce\n",
              "0       33120       12  8734960        DRCHS  09:12  09:12                  0\n",
              "1       34020       61  8734960       WARHAM  09:27  09:29               -120\n",
              "2       34440       28  8734960       HMWTHY  09:34  09:35                -60\n",
              "3       34740       40  8734960        POOLE  09:39  09:39                  0\n",
              "4       35040       41  8734960       PSTONE  09:44  09:43                 60"
            ]
          },
          "metadata": {},
          "execution_count": 1156
        }
      ]
    },
    {
      "cell_type": "code",
      "source": [
        "# list of integer encode values\n",
        "\n",
        "list_of_int_encoded = []\n",
        "\n",
        "for t in range(0,len(integer_encoded)):\n",
        "  list_of_int_encoded.append(integer_encoded[t][0])"
      ],
      "metadata": {
        "id": "7ki0BeIIQDVN"
      },
      "execution_count": 1157,
      "outputs": []
    },
    {
      "cell_type": "code",
      "source": [
        "final_main_df = pd.DataFrame()"
      ],
      "metadata": {
        "id": "YNbsEH9_QsRa"
      },
      "execution_count": 1158,
      "outputs": []
    },
    {
      "cell_type": "code",
      "source": [
        "final_main_df['timestamps'] = actual_arr_list\n",
        "final_main_df['station'] = list_of_int_encoded\n",
        "final_main_df['rail_ids'] = data_frame['rail_id']\n",
        "final_main_df['station_name'] = values"
      ],
      "metadata": {
        "id": "A5eYtuptQzUR"
      },
      "execution_count": 1159,
      "outputs": []
    },
    {
      "cell_type": "markdown",
      "source": [
        "#  models"
      ],
      "metadata": {
        "id": "08uWV6QMu7ln"
      }
    },
    {
      "cell_type": "code",
      "source": [
        "x = integer_encoded"
      ],
      "metadata": {
        "id": "yJVBxIZvvfrE"
      },
      "execution_count": 1160,
      "outputs": []
    },
    {
      "cell_type": "code",
      "source": [
        "final_main_df.info()"
      ],
      "metadata": {
        "colab": {
          "base_uri": "https://localhost:8080/"
        },
        "id": "CKoln2l5v-lo",
        "outputId": "ec3fc4b4-2718-4435-821b-4e913357099a"
      },
      "execution_count": 1161,
      "outputs": [
        {
          "output_type": "stream",
          "name": "stdout",
          "text": [
            "<class 'pandas.core.frame.DataFrame'>\n",
            "RangeIndex: 303824 entries, 0 to 303823\n",
            "Data columns (total 4 columns):\n",
            " #   Column        Non-Null Count   Dtype \n",
            "---  ------        --------------   ----- \n",
            " 0   timestamps    303824 non-null  int64 \n",
            " 1   station       303824 non-null  int64 \n",
            " 2   rail_ids      303824 non-null  object\n",
            " 3   station_name  303824 non-null  object\n",
            "dtypes: int64(2), object(2)\n",
            "memory usage: 9.3+ MB\n"
          ]
        }
      ]
    },
    {
      "cell_type": "markdown",
      "source": [
        "# Class starts from here"
      ],
      "metadata": {
        "id": "VmlL5YtAtqre"
      }
    },
    {
      "cell_type": "code",
      "source": [
        "index_for_x = []\n",
        "for i in range(0,len(final_main_df['rail_ids'])):\n",
        "  if final_main_df['rail_ids'][i] == '8734960':\n",
        "    index_for_x.append(i)"
      ],
      "metadata": {
        "id": "KyrQQlWWvtzC"
      },
      "execution_count": 1162,
      "outputs": []
    },
    {
      "cell_type": "code",
      "source": [
        "final_main_df.info()"
      ],
      "metadata": {
        "colab": {
          "base_uri": "https://localhost:8080/"
        },
        "id": "_f2YMfozyDNS",
        "outputId": "b17a9628-dd97-47e2-c882-2b141a0329bb"
      },
      "execution_count": 1163,
      "outputs": [
        {
          "output_type": "stream",
          "name": "stdout",
          "text": [
            "<class 'pandas.core.frame.DataFrame'>\n",
            "RangeIndex: 303824 entries, 0 to 303823\n",
            "Data columns (total 4 columns):\n",
            " #   Column        Non-Null Count   Dtype \n",
            "---  ------        --------------   ----- \n",
            " 0   timestamps    303824 non-null  int64 \n",
            " 1   station       303824 non-null  int64 \n",
            " 2   rail_ids      303824 non-null  object\n",
            " 3   station_name  303824 non-null  object\n",
            "dtypes: int64(2), object(2)\n",
            "memory usage: 9.3+ MB\n"
          ]
        }
      ]
    },
    {
      "cell_type": "code",
      "source": [
        "y_list = []\n",
        "x_list = []\n",
        "for u in range(0,len(final_main_df['timestamps'])):\n",
        "  if u in index_for_x:\n",
        "    y_list.append(final_main_df['timestamps'][u])\n",
        "    x_list.append(final_main_df['station'][u])\n",
        "\n"
      ],
      "metadata": {
        "id": "H45FTBrxxJq0"
      },
      "execution_count": 1164,
      "outputs": []
    },
    {
      "cell_type": "code",
      "source": [
        "x_list"
      ],
      "metadata": {
        "colab": {
          "base_uri": "https://localhost:8080/"
        },
        "id": "dUyS2l6rQSDJ",
        "outputId": "1268bc66-07ad-4ce3-89ff-da670681cc18"
      },
      "execution_count": 1165,
      "outputs": [
        {
          "output_type": "execute_result",
          "data": {
            "text/plain": [
              "[12,\n",
              " 61,\n",
              " 28,\n",
              " 40,\n",
              " 41,\n",
              " 4,\n",
              " 3,\n",
              " 1,\n",
              " 48,\n",
              " 49,\n",
              " 69,\n",
              " 70,\n",
              " 62,\n",
              " 12,\n",
              " 61,\n",
              " 28,\n",
              " 40,\n",
              " 41,\n",
              " 4,\n",
              " 3,\n",
              " 1,\n",
              " 48,\n",
              " 49,\n",
              " 69,\n",
              " 70,\n",
              " 62,\n",
              " 12,\n",
              " 61,\n",
              " 28,\n",
              " 40,\n",
              " 41,\n",
              " 4,\n",
              " 3,\n",
              " 1,\n",
              " 48,\n",
              " 49,\n",
              " 69,\n",
              " 70,\n",
              " 62,\n",
              " 12,\n",
              " 61,\n",
              " 28,\n",
              " 40,\n",
              " 41,\n",
              " 4,\n",
              " 3,\n",
              " 1,\n",
              " 48,\n",
              " 49,\n",
              " 69,\n",
              " 70,\n",
              " 62,\n",
              " 12,\n",
              " 61,\n",
              " 28,\n",
              " 40,\n",
              " 41,\n",
              " 4,\n",
              " 3,\n",
              " 1,\n",
              " 48,\n",
              " 49,\n",
              " 69,\n",
              " 70,\n",
              " 62,\n",
              " 12,\n",
              " 61,\n",
              " 28,\n",
              " 40,\n",
              " 41,\n",
              " 4,\n",
              " 3,\n",
              " 1,\n",
              " 48,\n",
              " 49,\n",
              " 69,\n",
              " 70,\n",
              " 62,\n",
              " 12,\n",
              " 61,\n",
              " 28,\n",
              " 40,\n",
              " 41,\n",
              " 4,\n",
              " 3,\n",
              " 1,\n",
              " 48,\n",
              " 49,\n",
              " 69,\n",
              " 70,\n",
              " 62,\n",
              " 12,\n",
              " 61,\n",
              " 28,\n",
              " 40,\n",
              " 41,\n",
              " 4,\n",
              " 3,\n",
              " 1,\n",
              " 48,\n",
              " 49,\n",
              " 69,\n",
              " 70,\n",
              " 62,\n",
              " 12,\n",
              " 61,\n",
              " 28,\n",
              " 40,\n",
              " 41,\n",
              " 4,\n",
              " 3,\n",
              " 1,\n",
              " 48,\n",
              " 49,\n",
              " 69,\n",
              " 70,\n",
              " 62,\n",
              " 12,\n",
              " 61,\n",
              " 28,\n",
              " 40,\n",
              " 41,\n",
              " 4,\n",
              " 3,\n",
              " 1,\n",
              " 48,\n",
              " 49,\n",
              " 69,\n",
              " 70,\n",
              " 62,\n",
              " 12,\n",
              " 61,\n",
              " 28,\n",
              " 40,\n",
              " 41,\n",
              " 4,\n",
              " 3,\n",
              " 1,\n",
              " 48,\n",
              " 49,\n",
              " 69,\n",
              " 70,\n",
              " 62,\n",
              " 12,\n",
              " 61,\n",
              " 28,\n",
              " 40,\n",
              " 41,\n",
              " 4,\n",
              " 3,\n",
              " 1,\n",
              " 48,\n",
              " 49,\n",
              " 69,\n",
              " 70,\n",
              " 62,\n",
              " 12,\n",
              " 61,\n",
              " 28,\n",
              " 40,\n",
              " 41,\n",
              " 4,\n",
              " 3,\n",
              " 1,\n",
              " 48,\n",
              " 49,\n",
              " 69,\n",
              " 70,\n",
              " 62,\n",
              " 12,\n",
              " 61,\n",
              " 28,\n",
              " 40,\n",
              " 41,\n",
              " 4,\n",
              " 3,\n",
              " 1,\n",
              " 48,\n",
              " 49,\n",
              " 69,\n",
              " 70,\n",
              " 62,\n",
              " 12,\n",
              " 61,\n",
              " 28,\n",
              " 40,\n",
              " 41,\n",
              " 4,\n",
              " 3,\n",
              " 1,\n",
              " 48,\n",
              " 49,\n",
              " 69,\n",
              " 70,\n",
              " 62,\n",
              " 12,\n",
              " 61,\n",
              " 28,\n",
              " 40,\n",
              " 41,\n",
              " 4,\n",
              " 3,\n",
              " 1,\n",
              " 48,\n",
              " 49,\n",
              " 69,\n",
              " 70,\n",
              " 62,\n",
              " 12,\n",
              " 61,\n",
              " 28,\n",
              " 40,\n",
              " 41,\n",
              " 4,\n",
              " 3,\n",
              " 1,\n",
              " 48,\n",
              " 49,\n",
              " 69,\n",
              " 70,\n",
              " 62,\n",
              " 12,\n",
              " 61,\n",
              " 28,\n",
              " 40,\n",
              " 41,\n",
              " 4,\n",
              " 3,\n",
              " 1,\n",
              " 48,\n",
              " 49,\n",
              " 69,\n",
              " 70,\n",
              " 62,\n",
              " 12,\n",
              " 61,\n",
              " 28,\n",
              " 40,\n",
              " 41,\n",
              " 4,\n",
              " 3,\n",
              " 1,\n",
              " 48,\n",
              " 49,\n",
              " 69,\n",
              " 70,\n",
              " 62,\n",
              " 12,\n",
              " 61,\n",
              " 28,\n",
              " 40,\n",
              " 41,\n",
              " 4,\n",
              " 3,\n",
              " 1,\n",
              " 48,\n",
              " 49,\n",
              " 69,\n",
              " 70,\n",
              " 62,\n",
              " 12,\n",
              " 61,\n",
              " 28,\n",
              " 40,\n",
              " 41,\n",
              " 4,\n",
              " 3,\n",
              " 1,\n",
              " 48,\n",
              " 49,\n",
              " 69,\n",
              " 70,\n",
              " 62,\n",
              " 12,\n",
              " 61,\n",
              " 28,\n",
              " 40,\n",
              " 41,\n",
              " 4,\n",
              " 3,\n",
              " 1,\n",
              " 48,\n",
              " 49,\n",
              " 69,\n",
              " 70,\n",
              " 62,\n",
              " 12,\n",
              " 61,\n",
              " 28,\n",
              " 40,\n",
              " 41,\n",
              " 4,\n",
              " 3,\n",
              " 1,\n",
              " 48,\n",
              " 49,\n",
              " 69,\n",
              " 70,\n",
              " 62,\n",
              " 12,\n",
              " 61,\n",
              " 28,\n",
              " 40,\n",
              " 41,\n",
              " 4,\n",
              " 3,\n",
              " 1,\n",
              " 48,\n",
              " 49,\n",
              " 69,\n",
              " 70,\n",
              " 62,\n",
              " 12,\n",
              " 61,\n",
              " 28,\n",
              " 40,\n",
              " 41,\n",
              " 4,\n",
              " 3,\n",
              " 1,\n",
              " 48,\n",
              " 49,\n",
              " 69,\n",
              " 70,\n",
              " 62,\n",
              " 12,\n",
              " 61,\n",
              " 28,\n",
              " 40,\n",
              " 41,\n",
              " 4,\n",
              " 3,\n",
              " 1,\n",
              " 48,\n",
              " 49,\n",
              " 69,\n",
              " 70,\n",
              " 62,\n",
              " 12,\n",
              " 61,\n",
              " 28,\n",
              " 40,\n",
              " 41,\n",
              " 4,\n",
              " 3,\n",
              " 1,\n",
              " 48,\n",
              " 49,\n",
              " 69,\n",
              " 70,\n",
              " 62,\n",
              " 12,\n",
              " 61,\n",
              " 28,\n",
              " 40,\n",
              " 41,\n",
              " 4,\n",
              " 3,\n",
              " 1,\n",
              " 48,\n",
              " 49,\n",
              " 69,\n",
              " 70,\n",
              " 62,\n",
              " 12,\n",
              " 61,\n",
              " 28,\n",
              " 40,\n",
              " 41,\n",
              " 4,\n",
              " 3,\n",
              " 1,\n",
              " 48,\n",
              " 49,\n",
              " 69,\n",
              " 70,\n",
              " 62,\n",
              " 12,\n",
              " 61,\n",
              " 28,\n",
              " 40,\n",
              " 41,\n",
              " 4,\n",
              " 3,\n",
              " 1,\n",
              " 48,\n",
              " 49,\n",
              " 69,\n",
              " 70,\n",
              " 62,\n",
              " 12,\n",
              " 61,\n",
              " 28,\n",
              " 40,\n",
              " 41,\n",
              " 4,\n",
              " 3,\n",
              " 1,\n",
              " 48,\n",
              " 49,\n",
              " 69,\n",
              " 70,\n",
              " 62,\n",
              " 12,\n",
              " 61,\n",
              " 28,\n",
              " 40,\n",
              " 41,\n",
              " 4,\n",
              " 3,\n",
              " 1,\n",
              " 48,\n",
              " 49,\n",
              " 69,\n",
              " 70,\n",
              " 62,\n",
              " 12,\n",
              " 61,\n",
              " 28,\n",
              " 40,\n",
              " 41,\n",
              " 4,\n",
              " 3,\n",
              " 1,\n",
              " 48,\n",
              " 49,\n",
              " 69,\n",
              " 70,\n",
              " 62,\n",
              " 12,\n",
              " 61,\n",
              " 28,\n",
              " 40,\n",
              " 41,\n",
              " 4,\n",
              " 3,\n",
              " 1,\n",
              " 48,\n",
              " 49,\n",
              " 69,\n",
              " 70,\n",
              " 62,\n",
              " 12,\n",
              " 61,\n",
              " 28,\n",
              " 40,\n",
              " 41,\n",
              " 4,\n",
              " 3,\n",
              " 1,\n",
              " 48,\n",
              " 49,\n",
              " 69,\n",
              " 70,\n",
              " 62,\n",
              " 12,\n",
              " 61,\n",
              " 28,\n",
              " 40,\n",
              " 41,\n",
              " 4,\n",
              " 3,\n",
              " 1,\n",
              " 48,\n",
              " 49,\n",
              " 69,\n",
              " 70,\n",
              " 62,\n",
              " 12,\n",
              " 61,\n",
              " 28,\n",
              " 40,\n",
              " 41,\n",
              " 4,\n",
              " 3,\n",
              " 1,\n",
              " 48,\n",
              " 49,\n",
              " 69,\n",
              " 70,\n",
              " 62,\n",
              " 12,\n",
              " 61,\n",
              " 28,\n",
              " 40,\n",
              " 41,\n",
              " 4,\n",
              " 3,\n",
              " 1,\n",
              " 48,\n",
              " 49,\n",
              " 69,\n",
              " 70,\n",
              " 62,\n",
              " 12,\n",
              " 61,\n",
              " 28,\n",
              " 40,\n",
              " 41,\n",
              " 4,\n",
              " 3,\n",
              " 1,\n",
              " 48,\n",
              " 49,\n",
              " 69,\n",
              " 70,\n",
              " 62,\n",
              " 12,\n",
              " 61,\n",
              " 28,\n",
              " 40,\n",
              " 41,\n",
              " 4,\n",
              " 3,\n",
              " 1,\n",
              " 48,\n",
              " 49,\n",
              " 69,\n",
              " 70,\n",
              " 62,\n",
              " 12,\n",
              " 61,\n",
              " 28,\n",
              " 40,\n",
              " 41,\n",
              " 4,\n",
              " 3,\n",
              " 1,\n",
              " 48,\n",
              " 49,\n",
              " 69,\n",
              " 70,\n",
              " 62,\n",
              " 12,\n",
              " 61,\n",
              " 28,\n",
              " 40,\n",
              " 41,\n",
              " 4,\n",
              " 3,\n",
              " 1,\n",
              " 48,\n",
              " 49,\n",
              " 69,\n",
              " 70,\n",
              " 62,\n",
              " 12,\n",
              " 61,\n",
              " 28,\n",
              " 40,\n",
              " 41,\n",
              " 4,\n",
              " 3,\n",
              " 1,\n",
              " 48,\n",
              " 49,\n",
              " 69,\n",
              " 70,\n",
              " 62,\n",
              " 12,\n",
              " 61,\n",
              " 28,\n",
              " 40,\n",
              " 41,\n",
              " 4,\n",
              " 3,\n",
              " 1,\n",
              " 48,\n",
              " 49,\n",
              " 69,\n",
              " 70,\n",
              " 62,\n",
              " 12,\n",
              " 61,\n",
              " 28,\n",
              " 40,\n",
              " 41,\n",
              " 4,\n",
              " 3,\n",
              " 1,\n",
              " 48,\n",
              " 49,\n",
              " 69,\n",
              " 70,\n",
              " 62,\n",
              " 12,\n",
              " 61,\n",
              " 28,\n",
              " 40,\n",
              " 41,\n",
              " 4,\n",
              " 3,\n",
              " 1,\n",
              " 48,\n",
              " 49,\n",
              " 69,\n",
              " 70,\n",
              " 62,\n",
              " 12,\n",
              " 61,\n",
              " 28,\n",
              " 40,\n",
              " 41,\n",
              " 4,\n",
              " 3,\n",
              " 1,\n",
              " 48,\n",
              " 49,\n",
              " 69,\n",
              " 70,\n",
              " 62,\n",
              " 12,\n",
              " 61,\n",
              " 28,\n",
              " 40,\n",
              " 41,\n",
              " 4,\n",
              " 3,\n",
              " 1,\n",
              " 48,\n",
              " 49,\n",
              " 69,\n",
              " 70,\n",
              " 62,\n",
              " 12,\n",
              " 61,\n",
              " 28,\n",
              " 40,\n",
              " 41,\n",
              " 4,\n",
              " 3,\n",
              " 1,\n",
              " 48,\n",
              " 49,\n",
              " 69,\n",
              " 70,\n",
              " 62,\n",
              " 12,\n",
              " 61,\n",
              " 28,\n",
              " 40,\n",
              " 41,\n",
              " 4,\n",
              " 3,\n",
              " 1,\n",
              " 48,\n",
              " 49,\n",
              " 69,\n",
              " 70,\n",
              " 62,\n",
              " 12,\n",
              " 61,\n",
              " 28,\n",
              " 40,\n",
              " 41,\n",
              " 4,\n",
              " 3,\n",
              " 1,\n",
              " 48,\n",
              " 49,\n",
              " 69,\n",
              " 70,\n",
              " 62,\n",
              " 12,\n",
              " 61,\n",
              " 28,\n",
              " 40,\n",
              " 41,\n",
              " 4,\n",
              " 3,\n",
              " 1,\n",
              " 48,\n",
              " 49,\n",
              " 69,\n",
              " 70,\n",
              " 62,\n",
              " 12,\n",
              " 61,\n",
              " 28,\n",
              " 40,\n",
              " 41,\n",
              " 4,\n",
              " 3,\n",
              " 1,\n",
              " 48,\n",
              " 49,\n",
              " 69,\n",
              " 70,\n",
              " 62,\n",
              " 12,\n",
              " 61,\n",
              " 28,\n",
              " 40,\n",
              " 41,\n",
              " 4,\n",
              " 3,\n",
              " 1,\n",
              " 48,\n",
              " 49,\n",
              " 69,\n",
              " 70,\n",
              " 62,\n",
              " 12,\n",
              " 61,\n",
              " 28,\n",
              " 40,\n",
              " 41,\n",
              " 4,\n",
              " 3,\n",
              " 1,\n",
              " 48,\n",
              " 49,\n",
              " 69,\n",
              " 70,\n",
              " 62,\n",
              " 12,\n",
              " 61,\n",
              " 28,\n",
              " 40,\n",
              " 41,\n",
              " 4,\n",
              " 3,\n",
              " 1,\n",
              " 48,\n",
              " 49,\n",
              " 69,\n",
              " 70,\n",
              " 62,\n",
              " 12,\n",
              " 61,\n",
              " 28,\n",
              " 40,\n",
              " 41,\n",
              " 4,\n",
              " 3,\n",
              " 1,\n",
              " 48,\n",
              " 49,\n",
              " 69,\n",
              " 70,\n",
              " 62,\n",
              " 12,\n",
              " 61,\n",
              " 28,\n",
              " 40,\n",
              " 41,\n",
              " 4,\n",
              " 3,\n",
              " 1,\n",
              " 48,\n",
              " 49,\n",
              " 69,\n",
              " 70,\n",
              " 62,\n",
              " 12,\n",
              " 61,\n",
              " 28,\n",
              " 40,\n",
              " 41,\n",
              " 4,\n",
              " 3,\n",
              " 1,\n",
              " 48,\n",
              " 49,\n",
              " 69,\n",
              " 70,\n",
              " 62,\n",
              " 12,\n",
              " 61,\n",
              " 28,\n",
              " 40,\n",
              " 41,\n",
              " 4,\n",
              " 3,\n",
              " 1,\n",
              " 48,\n",
              " 49,\n",
              " 69,\n",
              " 70,\n",
              " 62,\n",
              " 12,\n",
              " 61,\n",
              " 28,\n",
              " 40,\n",
              " 41,\n",
              " 4,\n",
              " 3,\n",
              " 1,\n",
              " 48,\n",
              " 49,\n",
              " 69,\n",
              " 70,\n",
              " 62,\n",
              " 12,\n",
              " 61,\n",
              " 28,\n",
              " 40,\n",
              " 41,\n",
              " 4,\n",
              " 3,\n",
              " 1,\n",
              " 48,\n",
              " 49,\n",
              " 69,\n",
              " 70,\n",
              " 62,\n",
              " 12,\n",
              " 61,\n",
              " 28,\n",
              " 40,\n",
              " 41,\n",
              " 4,\n",
              " 3,\n",
              " 1,\n",
              " 48,\n",
              " 49,\n",
              " 69,\n",
              " 70,\n",
              " 62,\n",
              " 12,\n",
              " 61,\n",
              " 28,\n",
              " 40,\n",
              " 41,\n",
              " 4,\n",
              " 3,\n",
              " 1,\n",
              " 48,\n",
              " 49,\n",
              " 69,\n",
              " 70,\n",
              " 62,\n",
              " 12,\n",
              " 61,\n",
              " 28,\n",
              " 40,\n",
              " 41,\n",
              " 4,\n",
              " 3,\n",
              " 1,\n",
              " 48,\n",
              " 49,\n",
              " 69,\n",
              " 70,\n",
              " 62,\n",
              " 12,\n",
              " 61,\n",
              " 28,\n",
              " 40,\n",
              " 41,\n",
              " 4,\n",
              " 3,\n",
              " 1,\n",
              " 48,\n",
              " 49,\n",
              " 69,\n",
              " 70,\n",
              " 62,\n",
              " 12,\n",
              " 61,\n",
              " 28,\n",
              " 40,\n",
              " 41,\n",
              " 4,\n",
              " 3,\n",
              " 1,\n",
              " 48,\n",
              " 49,\n",
              " 69,\n",
              " 70,\n",
              " 62,\n",
              " 12,\n",
              " 61,\n",
              " 28,\n",
              " 40,\n",
              " 41,\n",
              " 4,\n",
              " 3,\n",
              " 1,\n",
              " 48,\n",
              " 49,\n",
              " 69,\n",
              " 70,\n",
              " 62,\n",
              " 12,\n",
              " 61,\n",
              " 28,\n",
              " 40,\n",
              " 41,\n",
              " 4,\n",
              " 3,\n",
              " 1,\n",
              " 48,\n",
              " 49,\n",
              " 69,\n",
              " 70,\n",
              " 62,\n",
              " 12,\n",
              " 61,\n",
              " 28,\n",
              " 40,\n",
              " 41,\n",
              " 4,\n",
              " 3,\n",
              " 1,\n",
              " 48,\n",
              " 49,\n",
              " 69,\n",
              " 70,\n",
              " 62,\n",
              " 12,\n",
              " 61,\n",
              " 28,\n",
              " 40,\n",
              " 41,\n",
              " 4,\n",
              " 3,\n",
              " 1,\n",
              " 48,\n",
              " 49,\n",
              " 69,\n",
              " 70,\n",
              " 62,\n",
              " 12,\n",
              " 61,\n",
              " 28,\n",
              " 40,\n",
              " 41,\n",
              " 4,\n",
              " 3,\n",
              " 1,\n",
              " 48,\n",
              " 49,\n",
              " 69,\n",
              " 70,\n",
              " 62,\n",
              " 12,\n",
              " 61,\n",
              " 28,\n",
              " 40,\n",
              " 41,\n",
              " 4,\n",
              " 3,\n",
              " 1,\n",
              " 48,\n",
              " 49,\n",
              " 69,\n",
              " 70,\n",
              " 62,\n",
              " 12,\n",
              " 61,\n",
              " 28,\n",
              " 40,\n",
              " 41,\n",
              " 4,\n",
              " 3,\n",
              " 1,\n",
              " 48,\n",
              " 49,\n",
              " 69,\n",
              " 70,\n",
              " 62,\n",
              " 12,\n",
              " 61,\n",
              " 28,\n",
              " 40,\n",
              " 41,\n",
              " 4,\n",
              " 3,\n",
              " 1,\n",
              " 48,\n",
              " 49,\n",
              " 69,\n",
              " 70,\n",
              " 62,\n",
              " 12,\n",
              " 61,\n",
              " 28,\n",
              " 40,\n",
              " 41,\n",
              " 4,\n",
              " 3,\n",
              " 1,\n",
              " 48,\n",
              " 49,\n",
              " 69,\n",
              " 70,\n",
              " 62,\n",
              " 12,\n",
              " 61,\n",
              " 28,\n",
              " 40,\n",
              " 41,\n",
              " 4,\n",
              " 3,\n",
              " 1,\n",
              " 48,\n",
              " 49,\n",
              " 69,\n",
              " 70,\n",
              " ...]"
            ]
          },
          "metadata": {},
          "execution_count": 1165
        }
      ]
    },
    {
      "cell_type": "markdown",
      "source": [
        "# Test"
      ],
      "metadata": {
        "id": "xmeZaQqT-w-z"
      }
    },
    {
      "cell_type": "code",
      "source": [
        "from sklearn.metrics import precision_recall_fscore_support\n",
        "from sklearn.metrics import f1_score"
      ],
      "metadata": {
        "id": "iayGLY2wDqrQ"
      },
      "execution_count": 1166,
      "outputs": []
    },
    {
      "cell_type": "code",
      "source": [
        "# Splitting into training and testing\n",
        "#splitting into train and test\n",
        "from sklearn.model_selection import train_test_split\n",
        "\n",
        "# Without stratification divide into first partition and test set.\n",
        "train_X,test_X, train_y, test_y= train_test_split (x_list,y_list, test_size=0.4,random_state=10)\n"
      ],
      "metadata": {
        "id": "ck0oe8AfDQ3X"
      },
      "execution_count": 1167,
      "outputs": []
    },
    {
      "cell_type": "code",
      "source": [
        "train_X = np.array(train_X).reshape(-1,1)\n",
        "train_y = np.array(train_y).reshape(-1,1)\n",
        "test_X = np.array(test_X).reshape(-1,1)\n",
        "test_y = np.array(test_y).reshape(-1,1)"
      ],
      "metadata": {
        "id": "ZAVkKTMHQJEo"
      },
      "execution_count": 1168,
      "outputs": []
    },
    {
      "cell_type": "code",
      "source": [
        "#classifier 1\n",
        "#LinearSVC\n",
        "\n",
        "from sklearn.svm import LinearSVC\n",
        "\n",
        "svc = LinearSVC()\n",
        "svc.fit(train_X, train_y);"
      ],
      "metadata": {
        "colab": {
          "base_uri": "https://localhost:8080/"
        },
        "id": "VxN8zXxbDdNs",
        "outputId": "723e1952-e45b-417f-80fa-38afebf76c06"
      },
      "execution_count": 1169,
      "outputs": [
        {
          "output_type": "stream",
          "name": "stderr",
          "text": [
            "/usr/local/lib/python3.7/dist-packages/sklearn/utils/validation.py:993: DataConversionWarning: A column-vector y was passed when a 1d array was expected. Please change the shape of y to (n_samples, ), for example using ravel().\n",
            "  y = column_or_1d(y, warn=True)\n",
            "/usr/local/lib/python3.7/dist-packages/sklearn/svm/_base.py:1208: ConvergenceWarning: Liblinear failed to converge, increase the number of iterations.\n",
            "  ConvergenceWarning,\n"
          ]
        }
      ]
    },
    {
      "cell_type": "code",
      "source": [
        "precision_recall_fscore_support(test_y, svc.predict(test_X), average='macro')"
      ],
      "metadata": {
        "colab": {
          "base_uri": "https://localhost:8080/"
        },
        "id": "92eX-GGVDxOq",
        "outputId": "2e8bb7c8-b65e-4826-bdad-d03d2f3c834a"
      },
      "execution_count": 1170,
      "outputs": [
        {
          "output_type": "stream",
          "name": "stderr",
          "text": [
            "/usr/local/lib/python3.7/dist-packages/sklearn/metrics/_classification.py:1318: UndefinedMetricWarning: Precision and F-score are ill-defined and being set to 0.0 in labels with no predicted samples. Use `zero_division` parameter to control this behavior.\n",
            "  _warn_prf(average, modifier, msg_start, len(result))\n",
            "/usr/local/lib/python3.7/dist-packages/sklearn/metrics/_classification.py:1318: UndefinedMetricWarning: Recall and F-score are ill-defined and being set to 0.0 in labels with no true samples. Use `zero_division` parameter to control this behavior.\n",
            "  _warn_prf(average, modifier, msg_start, len(result))\n"
          ]
        },
        {
          "output_type": "execute_result",
          "data": {
            "text/plain": [
              "(0.07815206142075697, 0.0967741935483871, 0.08468019729296604, None)"
            ]
          },
          "metadata": {},
          "execution_count": 1170
        }
      ]
    },
    {
      "cell_type": "code",
      "source": [
        "#classifier 2\n",
        "#NaiveBayes\n",
        "\n",
        "from sklearn.naive_bayes import GaussianNB\n",
        "\n",
        "naive_bayes = GaussianNB()\n",
        "naive_bayes.fit(train_X, train_y);"
      ],
      "metadata": {
        "id": "XCTrVEVUD5iu",
        "colab": {
          "base_uri": "https://localhost:8080/"
        },
        "outputId": "90a85689-4992-412b-c907-88e5c9c9380b"
      },
      "execution_count": 1171,
      "outputs": [
        {
          "output_type": "stream",
          "name": "stderr",
          "text": [
            "/usr/local/lib/python3.7/dist-packages/sklearn/utils/validation.py:993: DataConversionWarning: A column-vector y was passed when a 1d array was expected. Please change the shape of y to (n_samples, ), for example using ravel().\n",
            "  y = column_or_1d(y, warn=True)\n"
          ]
        }
      ]
    },
    {
      "cell_type": "code",
      "source": [
        "precision_recall_fscore_support(test_y, naive_bayes.predict(test_X), average='macro')"
      ],
      "metadata": {
        "colab": {
          "base_uri": "https://localhost:8080/"
        },
        "id": "YxlvjyWfD6Mc",
        "outputId": "2b047e69-464f-4e06-e7b4-93b9d9c04153"
      },
      "execution_count": 1172,
      "outputs": [
        {
          "output_type": "stream",
          "name": "stderr",
          "text": [
            "/usr/local/lib/python3.7/dist-packages/sklearn/metrics/_classification.py:1318: UndefinedMetricWarning: Precision and F-score are ill-defined and being set to 0.0 in labels with no predicted samples. Use `zero_division` parameter to control this behavior.\n",
            "  _warn_prf(average, modifier, msg_start, len(result))\n"
          ]
        },
        {
          "output_type": "execute_result",
          "data": {
            "text/plain": [
              "(0.5438434314714722, 0.5666666666666667, 0.5536577648064896, None)"
            ]
          },
          "metadata": {},
          "execution_count": 1172
        }
      ]
    },
    {
      "cell_type": "code",
      "source": [
        "#classifier 3\n",
        "#stochastic gradient descent\n",
        "from sklearn.linear_model import SGDClassifier\n",
        "\n",
        "sgd = SGDClassifier()\n",
        "sgd.fit(train_X, train_y);"
      ],
      "metadata": {
        "id": "9O09-JaVD-xR",
        "colab": {
          "base_uri": "https://localhost:8080/"
        },
        "outputId": "76a40155-63c7-45dc-8339-88bdfe50087e"
      },
      "execution_count": 1173,
      "outputs": [
        {
          "output_type": "stream",
          "name": "stderr",
          "text": [
            "/usr/local/lib/python3.7/dist-packages/sklearn/utils/validation.py:993: DataConversionWarning: A column-vector y was passed when a 1d array was expected. Please change the shape of y to (n_samples, ), for example using ravel().\n",
            "  y = column_or_1d(y, warn=True)\n"
          ]
        }
      ]
    },
    {
      "cell_type": "code",
      "source": [
        "precision_recall_fscore_support(test_y, sgd.predict(test_X), average='macro')"
      ],
      "metadata": {
        "colab": {
          "base_uri": "https://localhost:8080/"
        },
        "id": "jGNEOwbTED3H",
        "outputId": "0e9018e9-746f-4963-b6a2-c17b464f5d7e"
      },
      "execution_count": 1174,
      "outputs": [
        {
          "output_type": "stream",
          "name": "stderr",
          "text": [
            "/usr/local/lib/python3.7/dist-packages/sklearn/metrics/_classification.py:1318: UndefinedMetricWarning: Precision and F-score are ill-defined and being set to 0.0 in labels with no predicted samples. Use `zero_division` parameter to control this behavior.\n",
            "  _warn_prf(average, modifier, msg_start, len(result))\n"
          ]
        },
        {
          "output_type": "execute_result",
          "data": {
            "text/plain": [
              "(0.046217570227232066, 0.1, 0.05483300901378601, None)"
            ]
          },
          "metadata": {},
          "execution_count": 1174
        }
      ]
    },
    {
      "cell_type": "code",
      "source": [
        "#classifier 4\n",
        "#knn classifier\n",
        "from sklearn.neighbors import KNeighborsClassifier\n",
        "\n",
        "clf_nn = KNeighborsClassifier(n_neighbors=5)\n",
        "clf_knn=clf_nn\n",
        "clf_knn.fit(train_X,train_y)\n",
        "y_hat = clf_knn.predict(test_X)\n",
        "y_hat\n",
        "\n",
        "\n",
        "from sklearn.metrics import accuracy_score\n",
        "\n",
        "#we can use the built in accuracy metrics in sklearn.\n",
        "accuracy = accuracy_score(test_y, y_hat)\n",
        "print('calculated accuracy:',accuracy)"
      ],
      "metadata": {
        "colab": {
          "base_uri": "https://localhost:8080/"
        },
        "id": "J8Qu939gEGTB",
        "outputId": "0f95266b-a479-4a0c-f2ed-8bf0f38780a2"
      },
      "execution_count": 1175,
      "outputs": [
        {
          "output_type": "stream",
          "name": "stderr",
          "text": [
            "/usr/local/lib/python3.7/dist-packages/sklearn/neighbors/_classification.py:198: DataConversionWarning: A column-vector y was passed when a 1d array was expected. Please change the shape of y to (n_samples,), for example using ravel().\n",
            "  return self._fit(X, y)\n"
          ]
        },
        {
          "output_type": "stream",
          "name": "stdout",
          "text": [
            "calculated accuracy: 0.9710806697108066\n"
          ]
        }
      ]
    },
    {
      "cell_type": "code",
      "source": [
        "precision_recall_fscore_support(test_y, y_hat, average='macro')"
      ],
      "metadata": {
        "colab": {
          "base_uri": "https://localhost:8080/"
        },
        "id": "aDKMcAxlEK3L",
        "outputId": "1bda9dde-aa07-4e7a-b457-b1405d040611"
      },
      "execution_count": 1176,
      "outputs": [
        {
          "output_type": "stream",
          "name": "stderr",
          "text": [
            "/usr/local/lib/python3.7/dist-packages/sklearn/metrics/_classification.py:1318: UndefinedMetricWarning: Precision and F-score are ill-defined and being set to 0.0 in labels with no predicted samples. Use `zero_division` parameter to control this behavior.\n",
            "  _warn_prf(average, modifier, msg_start, len(result))\n"
          ]
        },
        {
          "output_type": "execute_result",
          "data": {
            "text/plain": [
              "(0.510166455526455, 0.5333333333333333, 0.520151719901481, None)"
            ]
          },
          "metadata": {},
          "execution_count": 1176
        }
      ]
    },
    {
      "cell_type": "code",
      "source": [
        "#classifier 5\n",
        "#Random forest classifier\n",
        "from sklearn.ensemble import RandomForestClassifier\n",
        "\n",
        "random_variable = RandomForestClassifier(max_depth=100)\n",
        "\n",
        "random_variable.fit(train_X,train_y)\n",
        "\n",
        "new_random_variable = random_variable.predict(test_X)\n",
        "\n",
        "new_random_variable\n",
        "\n",
        "\n",
        "from sklearn.metrics import accuracy_score\n",
        "\n",
        "#we can use the built in accuracy metrics in sklearn.\n",
        "accuracy2 = accuracy_score(test_y, new_random_variable)\n",
        "print('Sklearn calculated accuracy:',accuracy2)"
      ],
      "metadata": {
        "colab": {
          "base_uri": "https://localhost:8080/"
        },
        "id": "6du2e3vUEN_K",
        "outputId": "54509534-d92d-46c3-e819-b1cf5be68f7b"
      },
      "execution_count": 1177,
      "outputs": [
        {
          "output_type": "stream",
          "name": "stderr",
          "text": [
            "/usr/local/lib/python3.7/dist-packages/ipykernel_launcher.py:7: DataConversionWarning: A column-vector y was passed when a 1d array was expected. Please change the shape of y to (n_samples,), for example using ravel().\n",
            "  import sys\n"
          ]
        },
        {
          "output_type": "stream",
          "name": "stdout",
          "text": [
            "Sklearn calculated accuracy: 0.971841704718417\n"
          ]
        }
      ]
    },
    {
      "cell_type": "code",
      "source": [
        "precision_recall_fscore_support(test_y, new_random_variable, average='macro')"
      ],
      "metadata": {
        "colab": {
          "base_uri": "https://localhost:8080/"
        },
        "id": "pPYFv4OwEY8b",
        "outputId": "80cc1ef0-f600-44a1-f0ac-a34d07ec4245"
      },
      "execution_count": 1178,
      "outputs": [
        {
          "output_type": "stream",
          "name": "stderr",
          "text": [
            "/usr/local/lib/python3.7/dist-packages/sklearn/metrics/_classification.py:1318: UndefinedMetricWarning: Precision and F-score are ill-defined and being set to 0.0 in labels with no predicted samples. Use `zero_division` parameter to control this behavior.\n",
            "  _warn_prf(average, modifier, msg_start, len(result))\n"
          ]
        },
        {
          "output_type": "execute_result",
          "data": {
            "text/plain": [
              "(0.5438434314714722, 0.5666666666666667, 0.5536577648064896, None)"
            ]
          },
          "metadata": {},
          "execution_count": 1178
        }
      ]
    },
    {
      "cell_type": "code",
      "source": [
        "#classifier 6\n",
        "#decision tree classifier\n",
        "from sklearn.tree import DecisionTreeClassifier\n",
        "\n",
        "decision_tree = DecisionTreeClassifier(max_depth=100)\n",
        "\n",
        "decision_tree.fit(train_X,train_y)\n",
        "\n",
        "new_decision_tree = decision_tree.predict(test_X)\n",
        "\n",
        "decision_tree\n",
        "\n",
        "\n",
        "from sklearn.metrics import accuracy_score\n",
        "\n",
        "#we can use the built in accuracy metrics in sklearn.\n",
        "accuracy3 = accuracy_score(test_y, new_decision_tree)\n",
        "print('Sklearn calculated accuracy:',accuracy3)"
      ],
      "metadata": {
        "colab": {
          "base_uri": "https://localhost:8080/"
        },
        "id": "5PQrqCkUEbq1",
        "outputId": "35088f0d-f374-4622-db6b-705aa5eb13c2"
      },
      "execution_count": 1179,
      "outputs": [
        {
          "output_type": "stream",
          "name": "stdout",
          "text": [
            "Sklearn calculated accuracy: 0.971841704718417\n"
          ]
        }
      ]
    },
    {
      "cell_type": "code",
      "source": [
        "precision_recall_fscore_support(test_y, new_decision_tree, average='macro')"
      ],
      "metadata": {
        "colab": {
          "base_uri": "https://localhost:8080/"
        },
        "id": "56oydpfOEfCt",
        "outputId": "9fc9325b-db58-40dc-9d03-60db4565f0e5"
      },
      "execution_count": 1180,
      "outputs": [
        {
          "output_type": "stream",
          "name": "stderr",
          "text": [
            "/usr/local/lib/python3.7/dist-packages/sklearn/metrics/_classification.py:1318: UndefinedMetricWarning: Precision and F-score are ill-defined and being set to 0.0 in labels with no predicted samples. Use `zero_division` parameter to control this behavior.\n",
            "  _warn_prf(average, modifier, msg_start, len(result))\n"
          ]
        },
        {
          "output_type": "execute_result",
          "data": {
            "text/plain": [
              "(0.5438434314714722, 0.5666666666666667, 0.5536577648064896, None)"
            ]
          },
          "metadata": {},
          "execution_count": 1180
        }
      ]
    },
    {
      "cell_type": "code",
      "source": [
        "#scores\n",
        "#comparison of classifiers\n",
        "\n",
        "from sklearn.metrics import accuracy_score\n",
        "\n",
        "classifiers = [svc, sgd,  naive_bayes ,clf_nn,decision_tree, random_variable]\n",
        "\n",
        "# for each classifier get the accuracy score\n",
        "scores = [accuracy_score(clf.predict(test_X), test_y) for clf in classifiers]\n",
        "    \n",
        "index = np.argmax(scores)\n",
        "\n",
        "print(scores,2)\n",
        "\n",
        "print(classifiers[index])\n",
        "print(\"highest score\",round(scores[index],2))\n",
        "accuracy_percentage = (round(scores[index],2))*100\n",
        "print(\"ACCURACY PERCENTAGE FOR CLASSIFIER \",accuracy_percentage,\"%\") "
      ],
      "metadata": {
        "colab": {
          "base_uri": "https://localhost:8080/"
        },
        "id": "y6bPEG0SEmN9",
        "outputId": "229fa20f-1883-48bb-a497-e2a32796aa3a"
      },
      "execution_count": 1181,
      "outputs": [
        {
          "output_type": "stream",
          "name": "stdout",
          "text": [
            "[0.21385083713850836, 0.23059360730593606, 0.971841704718417, 0.9710806697108066, 0.971841704718417, 0.971841704718417] 2\n",
            "GaussianNB()\n",
            "highest score 0.97\n",
            "ACCURACY PERCENTAGE FOR CLASSIFIER  97.0 %\n"
          ]
        }
      ]
    },
    {
      "cell_type": "markdown",
      "source": [
        "# Test for linear regression\n"
      ],
      "metadata": {
        "id": "8QWhhmKyHe3h"
      }
    },
    {
      "cell_type": "code",
      "source": [
        "new_df.head(5)"
      ],
      "metadata": {
        "colab": {
          "base_uri": "https://localhost:8080/",
          "height": 206
        },
        "id": "7Pk6Ui0o6o6u",
        "outputId": "06c9d32a-0ac1-4357-da61-a67eb67b12e1"
      },
      "execution_count": 1182,
      "outputs": [
        {
          "output_type": "execute_result",
          "data": {
            "text/html": [
              "\n",
              "  <div id=\"df-35a6484e-2391-4c4a-abf3-4c3d5cfa5418\">\n",
              "    <div class=\"colab-df-container\">\n",
              "      <div>\n",
              "<style scoped>\n",
              "    .dataframe tbody tr th:only-of-type {\n",
              "        vertical-align: middle;\n",
              "    }\n",
              "\n",
              "    .dataframe tbody tr th {\n",
              "        vertical-align: top;\n",
              "    }\n",
              "\n",
              "    .dataframe thead th {\n",
              "        text-align: right;\n",
              "    }\n",
              "</style>\n",
              "<table border=\"1\" class=\"dataframe\">\n",
              "  <thead>\n",
              "    <tr style=\"text-align: right;\">\n",
              "      <th></th>\n",
              "      <th>year</th>\n",
              "      <th>rail_id</th>\n",
              "      <th>station</th>\n",
              "      <th>planned_arr</th>\n",
              "      <th>planned_dep</th>\n",
              "      <th>actual_arr</th>\n",
              "      <th>month_fmt</th>\n",
              "      <th>day_fmt</th>\n",
              "      <th>required_time</th>\n",
              "      <th>timeStamp</th>\n",
              "    </tr>\n",
              "  </thead>\n",
              "  <tbody>\n",
              "    <tr>\n",
              "      <th>0</th>\n",
              "      <td>2017</td>\n",
              "      <td>8734960</td>\n",
              "      <td>DRCHS</td>\n",
              "      <td>09:12</td>\n",
              "      <td>09:12</td>\n",
              "      <td>09:11</td>\n",
              "      <td>02</td>\n",
              "      <td>01</td>\n",
              "      <td>2017020109:12</td>\n",
              "      <td>33120</td>\n",
              "    </tr>\n",
              "    <tr>\n",
              "      <th>1</th>\n",
              "      <td>2017</td>\n",
              "      <td>8734960</td>\n",
              "      <td>WARHAM</td>\n",
              "      <td>09:27</td>\n",
              "      <td>09:29</td>\n",
              "      <td>09:27</td>\n",
              "      <td>02</td>\n",
              "      <td>01</td>\n",
              "      <td>2017020109:27</td>\n",
              "      <td>34020</td>\n",
              "    </tr>\n",
              "    <tr>\n",
              "      <th>2</th>\n",
              "      <td>2017</td>\n",
              "      <td>8734960</td>\n",
              "      <td>HMWTHY</td>\n",
              "      <td>09:34</td>\n",
              "      <td>09:35</td>\n",
              "      <td>09:33</td>\n",
              "      <td>02</td>\n",
              "      <td>01</td>\n",
              "      <td>2017020109:34</td>\n",
              "      <td>34440</td>\n",
              "    </tr>\n",
              "    <tr>\n",
              "      <th>3</th>\n",
              "      <td>2017</td>\n",
              "      <td>8734960</td>\n",
              "      <td>POOLE</td>\n",
              "      <td>09:39</td>\n",
              "      <td>09:39</td>\n",
              "      <td>09:38</td>\n",
              "      <td>02</td>\n",
              "      <td>01</td>\n",
              "      <td>2017020109:39</td>\n",
              "      <td>34740</td>\n",
              "    </tr>\n",
              "    <tr>\n",
              "      <th>4</th>\n",
              "      <td>2017</td>\n",
              "      <td>8734960</td>\n",
              "      <td>PSTONE</td>\n",
              "      <td>09:44</td>\n",
              "      <td>09:43</td>\n",
              "      <td>09:41</td>\n",
              "      <td>02</td>\n",
              "      <td>01</td>\n",
              "      <td>2017020109:44</td>\n",
              "      <td>35040</td>\n",
              "    </tr>\n",
              "  </tbody>\n",
              "</table>\n",
              "</div>\n",
              "      <button class=\"colab-df-convert\" onclick=\"convertToInteractive('df-35a6484e-2391-4c4a-abf3-4c3d5cfa5418')\"\n",
              "              title=\"Convert this dataframe to an interactive table.\"\n",
              "              style=\"display:none;\">\n",
              "        \n",
              "  <svg xmlns=\"http://www.w3.org/2000/svg\" height=\"24px\"viewBox=\"0 0 24 24\"\n",
              "       width=\"24px\">\n",
              "    <path d=\"M0 0h24v24H0V0z\" fill=\"none\"/>\n",
              "    <path d=\"M18.56 5.44l.94 2.06.94-2.06 2.06-.94-2.06-.94-.94-2.06-.94 2.06-2.06.94zm-11 1L8.5 8.5l.94-2.06 2.06-.94-2.06-.94L8.5 2.5l-.94 2.06-2.06.94zm10 10l.94 2.06.94-2.06 2.06-.94-2.06-.94-.94-2.06-.94 2.06-2.06.94z\"/><path d=\"M17.41 7.96l-1.37-1.37c-.4-.4-.92-.59-1.43-.59-.52 0-1.04.2-1.43.59L10.3 9.45l-7.72 7.72c-.78.78-.78 2.05 0 2.83L4 21.41c.39.39.9.59 1.41.59.51 0 1.02-.2 1.41-.59l7.78-7.78 2.81-2.81c.8-.78.8-2.07 0-2.86zM5.41 20L4 18.59l7.72-7.72 1.47 1.35L5.41 20z\"/>\n",
              "  </svg>\n",
              "      </button>\n",
              "      \n",
              "  <style>\n",
              "    .colab-df-container {\n",
              "      display:flex;\n",
              "      flex-wrap:wrap;\n",
              "      gap: 12px;\n",
              "    }\n",
              "\n",
              "    .colab-df-convert {\n",
              "      background-color: #E8F0FE;\n",
              "      border: none;\n",
              "      border-radius: 50%;\n",
              "      cursor: pointer;\n",
              "      display: none;\n",
              "      fill: #1967D2;\n",
              "      height: 32px;\n",
              "      padding: 0 0 0 0;\n",
              "      width: 32px;\n",
              "    }\n",
              "\n",
              "    .colab-df-convert:hover {\n",
              "      background-color: #E2EBFA;\n",
              "      box-shadow: 0px 1px 2px rgba(60, 64, 67, 0.3), 0px 1px 3px 1px rgba(60, 64, 67, 0.15);\n",
              "      fill: #174EA6;\n",
              "    }\n",
              "\n",
              "    [theme=dark] .colab-df-convert {\n",
              "      background-color: #3B4455;\n",
              "      fill: #D2E3FC;\n",
              "    }\n",
              "\n",
              "    [theme=dark] .colab-df-convert:hover {\n",
              "      background-color: #434B5C;\n",
              "      box-shadow: 0px 1px 3px 1px rgba(0, 0, 0, 0.15);\n",
              "      filter: drop-shadow(0px 1px 2px rgba(0, 0, 0, 0.3));\n",
              "      fill: #FFFFFF;\n",
              "    }\n",
              "  </style>\n",
              "\n",
              "      <script>\n",
              "        const buttonEl =\n",
              "          document.querySelector('#df-35a6484e-2391-4c4a-abf3-4c3d5cfa5418 button.colab-df-convert');\n",
              "        buttonEl.style.display =\n",
              "          google.colab.kernel.accessAllowed ? 'block' : 'none';\n",
              "\n",
              "        async function convertToInteractive(key) {\n",
              "          const element = document.querySelector('#df-35a6484e-2391-4c4a-abf3-4c3d5cfa5418');\n",
              "          const dataTable =\n",
              "            await google.colab.kernel.invokeFunction('convertToInteractive',\n",
              "                                                     [key], {});\n",
              "          if (!dataTable) return;\n",
              "\n",
              "          const docLinkHtml = 'Like what you see? Visit the ' +\n",
              "            '<a target=\"_blank\" href=https://colab.research.google.com/notebooks/data_table.ipynb>data table notebook</a>'\n",
              "            + ' to learn more about interactive tables.';\n",
              "          element.innerHTML = '';\n",
              "          dataTable['output_type'] = 'display_data';\n",
              "          await google.colab.output.renderOutput(dataTable, element);\n",
              "          const docLink = document.createElement('div');\n",
              "          docLink.innerHTML = docLinkHtml;\n",
              "          element.appendChild(docLink);\n",
              "        }\n",
              "      </script>\n",
              "    </div>\n",
              "  </div>\n",
              "  "
            ],
            "text/plain": [
              "0  year  rail_id station  ... day_fmt  required_time timeStamp\n",
              "0  2017  8734960   DRCHS  ...      01  2017020109:12     33120\n",
              "1  2017  8734960  WARHAM  ...      01  2017020109:27     34020\n",
              "2  2017  8734960  HMWTHY  ...      01  2017020109:34     34440\n",
              "3  2017  8734960   POOLE  ...      01  2017020109:39     34740\n",
              "4  2017  8734960  PSTONE  ...      01  2017020109:44     35040\n",
              "\n",
              "[5 rows x 10 columns]"
            ]
          },
          "metadata": {},
          "execution_count": 1182
        }
      ]
    },
    {
      "cell_type": "code",
      "source": [
        "y_array = np.array(y_list)"
      ],
      "metadata": {
        "id": "HNZCEaX40fTh"
      },
      "execution_count": 1183,
      "outputs": []
    },
    {
      "cell_type": "code",
      "source": [
        "x_list = np.array(x_list).reshape(-1,1)"
      ],
      "metadata": {
        "id": "PFGGFkB2SRi8"
      },
      "execution_count": 1184,
      "outputs": []
    },
    {
      "cell_type": "code",
      "source": [
        "model = LinearRegression()\n",
        "model.fit(x_list, y_array)\n",
        "r_sq = model.score(x_list, y_array)\n",
        "print(r_sq*100)"
      ],
      "metadata": {
        "colab": {
          "base_uri": "https://localhost:8080/"
        },
        "id": "tKf4M6so1P76",
        "outputId": "9599497d-6033-44bb-dcc5-7c32fef9b132"
      },
      "execution_count": 1185,
      "outputs": [
        {
          "output_type": "stream",
          "name": "stdout",
          "text": [
            "29.906440854576843\n"
          ]
        }
      ]
    },
    {
      "cell_type": "code",
      "source": [
        "# predict\n",
        "y_pred = model.predict(np.array(x_list).reshape(-1,1))"
      ],
      "metadata": {
        "id": "VYfvLVAj32jk"
      },
      "execution_count": 1186,
      "outputs": []
    },
    {
      "cell_type": "code",
      "source": [
        "plt.figure(figsize=(10,5))\n",
        "plt.scatter(x_list,y_array,color=\"orange\")\n",
        "plt.plot(x_list,y_pred,\"blue\")\n",
        "plt.title('Linear Regression Model')\n",
        "plt.xlabel('Station')\n",
        "plt.ylabel('Time(Total seconds)')\n",
        "plt.show()"
      ],
      "metadata": {
        "colab": {
          "base_uri": "https://localhost:8080/",
          "height": 350
        },
        "id": "VSMlpCdu5heg",
        "outputId": "62c03b8f-9218-4480-d34c-888d4ddb1011"
      },
      "execution_count": 1187,
      "outputs": [
        {
          "output_type": "display_data",
          "data": {
            "image/png": "[encoded data removed]",
            "text/plain": [
              "<Figure size 720x360 with 1 Axes>"
            ]
          },
          "metadata": {
            "needs_background": "light"
          }
        }
      ]
    },
    {
      "cell_type": "code",
      "source": [
        "# polynomial regression model\n",
        "from sklearn.preprocessing import PolynomialFeatures\n",
        "poly_reg = PolynomialFeatures(degree=25)\n",
        "X_poly = poly_reg.fit_transform(x_list)\n",
        " \n",
        "lin_reg2 = LinearRegression()\n",
        "lin_reg2.fit(X_poly,y_array)\n",
        " \n",
        "  \n",
        "X_grid = np.arange(min(x_list),max(x_list),0.1)\n",
        "X_grid = X_grid.reshape(len(X_grid),1) \n",
        "\n",
        "r2_value = r2_score(y_array, lin_reg2.predict(poly_reg.fit_transform(x_list)))#r2 values\n",
        "plt.figure(figsize=(20,10))  \n",
        "plt.plot(X_grid, lin_reg2.predict(poly_reg.fit_transform(X_grid)),color='red') \n",
        "plt.scatter(x_list,y_array, color='blue')  \n",
        "plt.title(f\"Station timings with {r2_value}\")\n",
        "plt.xlabel('Station')\n",
        "plt.ylabel('Time')\n",
        "plt.show()"
      ],
      "metadata": {
        "colab": {
          "base_uri": "https://localhost:8080/",
          "height": 586
        },
        "id": "14xTJRtqFGUJ",
        "outputId": "1a95cded-1803-450c-86f8-bc80607fdf46"
      },
      "execution_count": 1188,
      "outputs": [
        {
          "output_type": "display_data",
          "data": {
            "image/png": "[encoded data removed]",
            "text/plain": [
              "<Figure size 1440x720 with 1 Axes>"
            ]
          },
          "metadata": {
            "needs_background": "light"
          }
        }
      ]
    },
    {
      "cell_type": "code",
      "source": [
        "\"\"\"from sklearn.preprocessing import PolynomialFeatures\n",
        "r2_list = []\n",
        "features_list = []\n",
        "for i in range(0,70):\n",
        "\n",
        "    poly_reg = PolynomialFeatures(degree=i)\n",
        "    X_poly = poly_reg.fit_transform(x_list)\n",
        "    \n",
        "    lin_reg2 = LinearRegression()\n",
        "    lin_reg2.fit(X_poly,y_array)\n",
        "    \n",
        "      \n",
        "    X_grid = np.arange(min(x_list),max(x_list),0.1)\n",
        "    X_grid = X_grid.reshape(len(X_grid),1) \n",
        "\n",
        "    r2_value = r2_score(y_array, lin_reg2.predict(poly_reg.fit_transform(x_list)))#r2 values\n",
        "\n",
        "    r2_list.append(r2_value*100)\n",
        "    features_list.append(i)\n",
        "\n",
        "    plt.figure(figsize=(20,10))  \n",
        "    plt.plot(X_grid, lin_reg2.predict(poly_reg.fit_transform(X_grid)),color='red') \n",
        "    plt.scatter(x_list,y_array, color='blue')  \n",
        "    plt.title(f\"Station timings with {r2_value}\")\n",
        "    plt.xlabel('Station')\n",
        "    plt.ylabel('Time')\n",
        "    plt.show()\"\"\""
      ],
      "metadata": {
        "colab": {
          "base_uri": "https://localhost:8080/",
          "height": 122
        },
        "id": "31I-B9iYHX07",
        "outputId": "e8afd2fb-fa1d-4430-ddf0-7f2b369d37c7"
      },
      "execution_count": 1189,
      "outputs": [
        {
          "output_type": "execute_result",
          "data": {
            "application/vnd.google.colaboratory.intrinsic+json": {
              "type": "string"
            },
            "text/plain": [
              "'from sklearn.preprocessing import PolynomialFeatures\\nr2_list = []\\nfeatures_list = []\\nfor i in range(0,70):\\n\\n    poly_reg = PolynomialFeatures(degree=i)\\n    X_poly = poly_reg.fit_transform(x_list)\\n    \\n    lin_reg2 = LinearRegression()\\n    lin_reg2.fit(X_poly,y_array)\\n    \\n      \\n    X_grid = np.arange(min(x_list),max(x_list),0.1)\\n    X_grid = X_grid.reshape(len(X_grid),1) \\n\\n    r2_value = r2_score(y_array, lin_reg2.predict(poly_reg.fit_transform(x_list)))#r2 values\\n\\n    r2_list.append(r2_value*100)\\n    features_list.append(i)\\n\\n    plt.figure(figsize=(20,10))  \\n    plt.plot(X_grid, lin_reg2.predict(poly_reg.fit_transform(X_grid)),color=\\'red\\') \\n    plt.scatter(x_list,y_array, color=\\'blue\\')  \\n    plt.title(f\"Station timings with {r2_value}\")\\n    plt.xlabel(\\'Station\\')\\n    plt.ylabel(\\'Time\\')\\n    plt.show()'"
            ]
          },
          "metadata": {},
          "execution_count": 1189
        }
      ]
    },
    {
      "cell_type": "code",
      "source": [
        "# polynomial regression model\n",
        "from sklearn.preprocessing import PolynomialFeatures\n",
        "poly_reg = PolynomialFeatures(degree=25)\n",
        "X_poly = poly_reg.fit_transform(x_list)\n",
        " \n",
        "lin_reg2 = LinearRegression()\n",
        "lin_reg2.fit(X_poly,y_array)\n",
        " \n",
        "  \n",
        "X_grid = np.arange(min(x_list),max(x_list),0.1)\n",
        "X_grid = X_grid.reshape(len(X_grid),1) \n",
        "\n",
        "r2_value = r2_score(y_array, lin_reg2.predict(poly_reg.fit_transform(x_list)))#r2 values\n",
        "plt.figure(figsize=(10,5))  \n",
        "plt.plot(X_grid, lin_reg2.predict(poly_reg.fit_transform(X_grid)),color='blue') \n",
        "plt.scatter(x_list,y_array, color='red')  \n",
        "plt.title(f\"Station timings\")\n",
        "plt.xlabel('Station(Integer encoded)')\n",
        "plt.ylabel('Time(Seconds)')\n",
        "plt.show()"
      ],
      "metadata": {
        "colab": {
          "base_uri": "https://localhost:8080/",
          "height": 350
        },
        "id": "tdI_zd0VTR3j",
        "outputId": "6b292fd1-c3b5-4c39-a3b9-7c76e4c35a1d"
      },
      "execution_count": 1190,
      "outputs": [
        {
          "output_type": "display_data",
          "data": {
            "image/png": "[encoded data removed]",
            "text/plain": [
              "<Figure size 720x360 with 1 Axes>"
            ]
          },
          "metadata": {
            "needs_background": "light"
          }
        }
      ]
    },
    {
      "cell_type": "code",
      "source": [
        "# data frame for features and its r2 values\n",
        "features_df = pd.DataFrame()\n",
        "features_df['features'] = features_list\n",
        "features_df['r2_value'] = r2_list"
      ],
      "metadata": {
        "id": "ugb9C5mMNkHa"
      },
      "execution_count": 1191,
      "outputs": []
    },
    {
      "cell_type": "code",
      "source": [
        "\"\"\"features_df.style.background_gradient(cmap=\"Blues\")\"\"\""
      ],
      "metadata": {
        "colab": {
          "base_uri": "https://localhost:8080/",
          "height": 35
        },
        "id": "GGbgXjH_O9nh",
        "outputId": "48b6bbf3-d5f7-4168-d185-a5aa0a12f0ea"
      },
      "execution_count": 1192,
      "outputs": [
        {
          "output_type": "execute_result",
          "data": {
            "application/vnd.google.colaboratory.intrinsic+json": {
              "type": "string"
            },
            "text/plain": [
              "'features_df.style.background_gradient(cmap=\"Blues\")'"
            ]
          },
          "metadata": {},
          "execution_count": 1192
        }
      ]
    },
    {
      "cell_type": "code",
      "source": [
        "\"\"\"plt.figure(figsize=(10,5))\n",
        "\n",
        "plt.plot(features_df)\n",
        "plt.xlabel('Features')\n",
        "plt.ylabel('R2 value(%)')\n",
        "plt.title('Features vs r2 value(%) for Ploynomial regression')\n",
        "plt.show()\"\"\""
      ],
      "metadata": {
        "colab": {
          "base_uri": "https://localhost:8080/",
          "height": 53
        },
        "id": "IfQx5fpSNz9I",
        "outputId": "fd47f57a-9f5c-4b3f-f14f-463a9f032e91"
      },
      "execution_count": 1193,
      "outputs": [
        {
          "output_type": "execute_result",
          "data": {
            "application/vnd.google.colaboratory.intrinsic+json": {
              "type": "string"
            },
            "text/plain": [
              "\"plt.figure(figsize=(10,5))\\n\\nplt.plot(features_df)\\nplt.xlabel('Features')\\nplt.ylabel('R2 value(%)')\\nplt.title('Features vs r2 value(%) for Ploynomial regression')\\nplt.show()\""
            ]
          },
          "metadata": {},
          "execution_count": 1193
        }
      ]
    },
    {
      "cell_type": "code",
      "source": [
        "y_poly_pred = lin_reg2.predict(poly_reg.fit_transform(np.array(x_list).reshape(-1,1)))"
      ],
      "metadata": {
        "id": "WD32cJimF--v"
      },
      "execution_count": 1194,
      "outputs": []
    },
    {
      "cell_type": "markdown",
      "source": [
        "# Number to hours and minutes\n"
      ],
      "metadata": {
        "id": "9B1brvHGD6ze"
      }
    },
    {
      "cell_type": "code",
      "source": [
        "def convertor(num):\n",
        "  b = num/3600\n",
        "  a = int(num/3600)\n",
        "  c = b - a \n",
        "  d = int(c * 60)\n",
        "  \"\"\"print(f'{a}:{d}')\"\"\"\n",
        "  return (f'{a}:{d}')\n",
        "\n"
      ],
      "metadata": {
        "id": "ZBEujNHaFIrJ"
      },
      "execution_count": 1195,
      "outputs": []
    },
    {
      "cell_type": "code",
      "source": [
        "convertor(y_array[0])\n"
      ],
      "metadata": {
        "colab": {
          "base_uri": "https://localhost:8080/",
          "height": 35
        },
        "id": "bW7C0S1DFUgi",
        "outputId": "016926e3-2642-4b0c-fc36-b9ef0be4d310"
      },
      "execution_count": 1196,
      "outputs": [
        {
          "output_type": "execute_result",
          "data": {
            "application/vnd.google.colaboratory.intrinsic+json": {
              "type": "string"
            },
            "text/plain": [
              "'9:11'"
            ]
          },
          "metadata": {},
          "execution_count": 1196
        }
      ]
    },
    {
      "cell_type": "code",
      "source": [
        "convertor(y_poly_pred[0])"
      ],
      "metadata": {
        "colab": {
          "base_uri": "https://localhost:8080/",
          "height": 35
        },
        "id": "aZDPrhBm3Er9",
        "outputId": "814de795-4b60-47e2-d691-1280fae66a43"
      },
      "execution_count": 1197,
      "outputs": [
        {
          "output_type": "execute_result",
          "data": {
            "application/vnd.google.colaboratory.intrinsic+json": {
              "type": "string"
            },
            "text/plain": [
              "'9:39'"
            ]
          },
          "metadata": {},
          "execution_count": 1197
        }
      ]
    },
    {
      "cell_type": "markdown",
      "source": [
        "# Test for stations\n"
      ],
      "metadata": {
        "id": "PtUJKnIB46Gj"
      }
    },
    {
      "cell_type": "code",
      "source": [
        "final_main_df['pta'] = data_frame['planned_arr']\n",
        "final_main_df['ptd'] = data_frame['planned_dep']"
      ],
      "metadata": {
        "id": "TVbT3zPLfPg7"
      },
      "execution_count": 1198,
      "outputs": []
    },
    {
      "cell_type": "code",
      "source": [
        "final_main_df['pta'].values[0]"
      ],
      "metadata": {
        "colab": {
          "base_uri": "https://localhost:8080/",
          "height": 35
        },
        "id": "hIW2jh8Mg1Ew",
        "outputId": "99ddbf68-2d05-462f-e934-8117ea7d734b"
      },
      "execution_count": 1199,
      "outputs": [
        {
          "output_type": "execute_result",
          "data": {
            "application/vnd.google.colaboratory.intrinsic+json": {
              "type": "string"
            },
            "text/plain": [
              "'09:12'"
            ]
          },
          "metadata": {},
          "execution_count": 1199
        }
      ]
    },
    {
      "cell_type": "code",
      "source": [
        "planned_arr_list = []\n",
        "planned_dep_list = []\n",
        "for x,y in zip(final_main_df['pta'].values,final_main_df['ptd'].values):\n",
        "  if len(x) == 5:\n",
        "    k = datetime.datetime.strptime(x, \"%H:%M\")    \n",
        "    t = (k.hour * 60 * 60) + (k.minute * 60)\n",
        "    \n",
        "  if len(y) == 5:\n",
        "    k1 = datetime.datetime.strptime(y, \"%H:%M\")\n",
        "    t1 = (k1.hour * 60 * 60) + (k1.minute * 60)\n",
        "\n",
        "  else:\n",
        "    t = 0\n",
        "    t1 = 0\n",
        "\n",
        "  planned_arr_list.append(t)\n",
        "  planned_dep_list.append(t1)"
      ],
      "metadata": {
        "id": "nONWcoAehxp5"
      },
      "execution_count": 1200,
      "outputs": []
    },
    {
      "cell_type": "code",
      "source": [
        "planned_dep_list[1:10]"
      ],
      "metadata": {
        "colab": {
          "base_uri": "https://localhost:8080/"
        },
        "id": "i2JrzHxGi655",
        "outputId": "3697bb7b-b842-46fb-aa09-0cbf78b920d1"
      },
      "execution_count": 1201,
      "outputs": [
        {
          "output_type": "execute_result",
          "data": {
            "text/plain": [
              "[34140, 34500, 34740, 34980, 35220, 35640, 36600, 37800, 38220]"
            ]
          },
          "metadata": {},
          "execution_count": 1201
        }
      ]
    },
    {
      "cell_type": "code",
      "source": [
        "planned_arr_list[1:10]"
      ],
      "metadata": {
        "colab": {
          "base_uri": "https://localhost:8080/"
        },
        "id": "vuXPB-YvjRsZ",
        "outputId": "8296af4d-1678-4f86-d177-004a3c5dce0f"
      },
      "execution_count": 1202,
      "outputs": [
        {
          "output_type": "execute_result",
          "data": {
            "text/plain": [
              "[34020, 34440, 34740, 35040, 35280, 35580, 36600, 37560, 38220]"
            ]
          },
          "metadata": {},
          "execution_count": 1202
        }
      ]
    },
    {
      "cell_type": "code",
      "source": [
        "planned_time_diff = [int(x-y) for x,y in zip(planned_arr_list,planned_dep_list)]"
      ],
      "metadata": {
        "id": "VNM_tO5Oja6J"
      },
      "execution_count": 1203,
      "outputs": []
    },
    {
      "cell_type": "code",
      "source": [
        "final_main_df['planned_differnce'] = planned_time_diff"
      ],
      "metadata": {
        "id": "GfqGsaecjk8t"
      },
      "execution_count": 1204,
      "outputs": []
    },
    {
      "cell_type": "code",
      "source": [
        "final_main_df.head(20)"
      ],
      "metadata": {
        "colab": {
          "base_uri": "https://localhost:8080/",
          "height": 676
        },
        "id": "4x9OyGyljyF3",
        "outputId": "62f113bf-17f9-4327-8460-6dbbcafaef90"
      },
      "execution_count": 1205,
      "outputs": [
        {
          "output_type": "execute_result",
          "data": {
            "text/html": [
              "\n",
              "  <div id=\"df-088f3e7f-40ec-4c6c-b0a7-ca6ef5ef1eab\">\n",
              "    <div class=\"colab-df-container\">\n",
              "      <div>\n",
              "<style scoped>\n",
              "    .dataframe tbody tr th:only-of-type {\n",
              "        vertical-align: middle;\n",
              "    }\n",
              "\n",
              "    .dataframe tbody tr th {\n",
              "        vertical-align: top;\n",
              "    }\n",
              "\n",
              "    .dataframe thead th {\n",
              "        text-align: right;\n",
              "    }\n",
              "</style>\n",
              "<table border=\"1\" class=\"dataframe\">\n",
              "  <thead>\n",
              "    <tr style=\"text-align: right;\">\n",
              "      <th></th>\n",
              "      <th>timestamps</th>\n",
              "      <th>station</th>\n",
              "      <th>rail_ids</th>\n",
              "      <th>station_name</th>\n",
              "      <th>pta</th>\n",
              "      <th>ptd</th>\n",
              "      <th>planned_differnce</th>\n",
              "    </tr>\n",
              "  </thead>\n",
              "  <tbody>\n",
              "    <tr>\n",
              "      <th>0</th>\n",
              "      <td>33120</td>\n",
              "      <td>12</td>\n",
              "      <td>8734960</td>\n",
              "      <td>DRCHS</td>\n",
              "      <td>09:12</td>\n",
              "      <td>09:12</td>\n",
              "      <td>0</td>\n",
              "    </tr>\n",
              "    <tr>\n",
              "      <th>1</th>\n",
              "      <td>34020</td>\n",
              "      <td>61</td>\n",
              "      <td>8734960</td>\n",
              "      <td>WARHAM</td>\n",
              "      <td>09:27</td>\n",
              "      <td>09:29</td>\n",
              "      <td>-120</td>\n",
              "    </tr>\n",
              "    <tr>\n",
              "      <th>2</th>\n",
              "      <td>34440</td>\n",
              "      <td>28</td>\n",
              "      <td>8734960</td>\n",
              "      <td>HMWTHY</td>\n",
              "      <td>09:34</td>\n",
              "      <td>09:35</td>\n",
              "      <td>-60</td>\n",
              "    </tr>\n",
              "    <tr>\n",
              "      <th>3</th>\n",
              "      <td>34740</td>\n",
              "      <td>40</td>\n",
              "      <td>8734960</td>\n",
              "      <td>POOLE</td>\n",
              "      <td>09:39</td>\n",
              "      <td>09:39</td>\n",
              "      <td>0</td>\n",
              "    </tr>\n",
              "    <tr>\n",
              "      <th>4</th>\n",
              "      <td>35040</td>\n",
              "      <td>41</td>\n",
              "      <td>8734960</td>\n",
              "      <td>PSTONE</td>\n",
              "      <td>09:44</td>\n",
              "      <td>09:43</td>\n",
              "      <td>60</td>\n",
              "    </tr>\n",
              "    <tr>\n",
              "      <th>5</th>\n",
              "      <td>35280</td>\n",
              "      <td>4</td>\n",
              "      <td>8734960</td>\n",
              "      <td>BRANKSM</td>\n",
              "      <td>09:48</td>\n",
              "      <td>09:47</td>\n",
              "      <td>60</td>\n",
              "    </tr>\n",
              "    <tr>\n",
              "      <th>6</th>\n",
              "      <td>35580</td>\n",
              "      <td>3</td>\n",
              "      <td>8734960</td>\n",
              "      <td>BOMO</td>\n",
              "      <td>09:53</td>\n",
              "      <td>09:54</td>\n",
              "      <td>-60</td>\n",
              "    </tr>\n",
              "    <tr>\n",
              "      <th>7</th>\n",
              "      <td>36600</td>\n",
              "      <td>1</td>\n",
              "      <td>8734960</td>\n",
              "      <td>BKNHRST</td>\n",
              "      <td>10:10</td>\n",
              "      <td>10:10</td>\n",
              "      <td>0</td>\n",
              "    </tr>\n",
              "    <tr>\n",
              "      <th>8</th>\n",
              "      <td>37560</td>\n",
              "      <td>48</td>\n",
              "      <td>8734960</td>\n",
              "      <td>SOTON</td>\n",
              "      <td>10:26</td>\n",
              "      <td>10:30</td>\n",
              "      <td>-240</td>\n",
              "    </tr>\n",
              "    <tr>\n",
              "      <th>9</th>\n",
              "      <td>38220</td>\n",
              "      <td>49</td>\n",
              "      <td>8734960</td>\n",
              "      <td>SOTPKWY</td>\n",
              "      <td>10:37</td>\n",
              "      <td>10:37</td>\n",
              "      <td>0</td>\n",
              "    </tr>\n",
              "    <tr>\n",
              "      <th>10</th>\n",
              "      <td>38820</td>\n",
              "      <td>69</td>\n",
              "      <td>8734960</td>\n",
              "      <td>WNCHSTR</td>\n",
              "      <td>10:47</td>\n",
              "      <td>10:48</td>\n",
              "      <td>-60</td>\n",
              "    </tr>\n",
              "    <tr>\n",
              "      <th>11</th>\n",
              "      <td>40740</td>\n",
              "      <td>70</td>\n",
              "      <td>8734960</td>\n",
              "      <td>WOKING</td>\n",
              "      <td>11:19</td>\n",
              "      <td>11:35</td>\n",
              "      <td>-960</td>\n",
              "    </tr>\n",
              "    <tr>\n",
              "      <th>12</th>\n",
              "      <td>42540</td>\n",
              "      <td>62</td>\n",
              "      <td>8734960</td>\n",
              "      <td>WATRLMN</td>\n",
              "      <td>11:49</td>\n",
              "      <td></td>\n",
              "      <td>0</td>\n",
              "    </tr>\n",
              "    <tr>\n",
              "      <th>13</th>\n",
              "      <td>36720</td>\n",
              "      <td>12</td>\n",
              "      <td>8734963</td>\n",
              "      <td>DRCHS</td>\n",
              "      <td>10:12</td>\n",
              "      <td>10:13</td>\n",
              "      <td>-60</td>\n",
              "    </tr>\n",
              "    <tr>\n",
              "      <th>14</th>\n",
              "      <td>37620</td>\n",
              "      <td>61</td>\n",
              "      <td>8734963</td>\n",
              "      <td>WARHAM</td>\n",
              "      <td>10:27</td>\n",
              "      <td>10:29</td>\n",
              "      <td>-120</td>\n",
              "    </tr>\n",
              "    <tr>\n",
              "      <th>15</th>\n",
              "      <td>38040</td>\n",
              "      <td>28</td>\n",
              "      <td>8734963</td>\n",
              "      <td>HMWTHY</td>\n",
              "      <td>10:34</td>\n",
              "      <td>10:35</td>\n",
              "      <td>-60</td>\n",
              "    </tr>\n",
              "    <tr>\n",
              "      <th>16</th>\n",
              "      <td>38340</td>\n",
              "      <td>40</td>\n",
              "      <td>8734963</td>\n",
              "      <td>POOLE</td>\n",
              "      <td>10:39</td>\n",
              "      <td>10:40</td>\n",
              "      <td>-60</td>\n",
              "    </tr>\n",
              "    <tr>\n",
              "      <th>17</th>\n",
              "      <td>38640</td>\n",
              "      <td>41</td>\n",
              "      <td>8734963</td>\n",
              "      <td>PSTONE</td>\n",
              "      <td>10:44</td>\n",
              "      <td>10:44</td>\n",
              "      <td>0</td>\n",
              "    </tr>\n",
              "    <tr>\n",
              "      <th>18</th>\n",
              "      <td>38880</td>\n",
              "      <td>4</td>\n",
              "      <td>8734963</td>\n",
              "      <td>BRANKSM</td>\n",
              "      <td>10:48</td>\n",
              "      <td>10:48</td>\n",
              "      <td>0</td>\n",
              "    </tr>\n",
              "    <tr>\n",
              "      <th>19</th>\n",
              "      <td>39240</td>\n",
              "      <td>3</td>\n",
              "      <td>8734963</td>\n",
              "      <td>BOMO</td>\n",
              "      <td>10:54</td>\n",
              "      <td>10:58</td>\n",
              "      <td>-240</td>\n",
              "    </tr>\n",
              "  </tbody>\n",
              "</table>\n",
              "</div>\n",
              "      <button class=\"colab-df-convert\" onclick=\"convertToInteractive('df-088f3e7f-40ec-4c6c-b0a7-ca6ef5ef1eab')\"\n",
              "              title=\"Convert this dataframe to an interactive table.\"\n",
              "              style=\"display:none;\">\n",
              "        \n",
              "  <svg xmlns=\"http://www.w3.org/2000/svg\" height=\"24px\"viewBox=\"0 0 24 24\"\n",
              "       width=\"24px\">\n",
              "    <path d=\"M0 0h24v24H0V0z\" fill=\"none\"/>\n",
              "    <path d=\"M18.56 5.44l.94 2.06.94-2.06 2.06-.94-2.06-.94-.94-2.06-.94 2.06-2.06.94zm-11 1L8.5 8.5l.94-2.06 2.06-.94-2.06-.94L8.5 2.5l-.94 2.06-2.06.94zm10 10l.94 2.06.94-2.06 2.06-.94-2.06-.94-.94-2.06-.94 2.06-2.06.94z\"/><path d=\"M17.41 7.96l-1.37-1.37c-.4-.4-.92-.59-1.43-.59-.52 0-1.04.2-1.43.59L10.3 9.45l-7.72 7.72c-.78.78-.78 2.05 0 2.83L4 21.41c.39.39.9.59 1.41.59.51 0 1.02-.2 1.41-.59l7.78-7.78 2.81-2.81c.8-.78.8-2.07 0-2.86zM5.41 20L4 18.59l7.72-7.72 1.47 1.35L5.41 20z\"/>\n",
              "  </svg>\n",
              "      </button>\n",
              "      \n",
              "  <style>\n",
              "    .colab-df-container {\n",
              "      display:flex;\n",
              "      flex-wrap:wrap;\n",
              "      gap: 12px;\n",
              "    }\n",
              "\n",
              "    .colab-df-convert {\n",
              "      background-color: #E8F0FE;\n",
              "      border: none;\n",
              "      border-radius: 50%;\n",
              "      cursor: pointer;\n",
              "      display: none;\n",
              "      fill: #1967D2;\n",
              "      height: 32px;\n",
              "      padding: 0 0 0 0;\n",
              "      width: 32px;\n",
              "    }\n",
              "\n",
              "    .colab-df-convert:hover {\n",
              "      background-color: #E2EBFA;\n",
              "      box-shadow: 0px 1px 2px rgba(60, 64, 67, 0.3), 0px 1px 3px 1px rgba(60, 64, 67, 0.15);\n",
              "      fill: #174EA6;\n",
              "    }\n",
              "\n",
              "    [theme=dark] .colab-df-convert {\n",
              "      background-color: #3B4455;\n",
              "      fill: #D2E3FC;\n",
              "    }\n",
              "\n",
              "    [theme=dark] .colab-df-convert:hover {\n",
              "      background-color: #434B5C;\n",
              "      box-shadow: 0px 1px 3px 1px rgba(0, 0, 0, 0.15);\n",
              "      filter: drop-shadow(0px 1px 2px rgba(0, 0, 0, 0.3));\n",
              "      fill: #FFFFFF;\n",
              "    }\n",
              "  </style>\n",
              "\n",
              "      <script>\n",
              "        const buttonEl =\n",
              "          document.querySelector('#df-088f3e7f-40ec-4c6c-b0a7-ca6ef5ef1eab button.colab-df-convert');\n",
              "        buttonEl.style.display =\n",
              "          google.colab.kernel.accessAllowed ? 'block' : 'none';\n",
              "\n",
              "        async function convertToInteractive(key) {\n",
              "          const element = document.querySelector('#df-088f3e7f-40ec-4c6c-b0a7-ca6ef5ef1eab');\n",
              "          const dataTable =\n",
              "            await google.colab.kernel.invokeFunction('convertToInteractive',\n",
              "                                                     [key], {});\n",
              "          if (!dataTable) return;\n",
              "\n",
              "          const docLinkHtml = 'Like what you see? Visit the ' +\n",
              "            '<a target=\"_blank\" href=https://colab.research.google.com/notebooks/data_table.ipynb>data table notebook</a>'\n",
              "            + ' to learn more about interactive tables.';\n",
              "          element.innerHTML = '';\n",
              "          dataTable['output_type'] = 'display_data';\n",
              "          await google.colab.output.renderOutput(dataTable, element);\n",
              "          const docLink = document.createElement('div');\n",
              "          docLink.innerHTML = docLinkHtml;\n",
              "          element.appendChild(docLink);\n",
              "        }\n",
              "      </script>\n",
              "    </div>\n",
              "  </div>\n",
              "  "
            ],
            "text/plain": [
              "    timestamps  station rail_ids station_name    pta    ptd  planned_differnce\n",
              "0        33120       12  8734960        DRCHS  09:12  09:12                  0\n",
              "1        34020       61  8734960       WARHAM  09:27  09:29               -120\n",
              "2        34440       28  8734960       HMWTHY  09:34  09:35                -60\n",
              "3        34740       40  8734960        POOLE  09:39  09:39                  0\n",
              "4        35040       41  8734960       PSTONE  09:44  09:43                 60\n",
              "5        35280        4  8734960      BRANKSM  09:48  09:47                 60\n",
              "6        35580        3  8734960         BOMO  09:53  09:54                -60\n",
              "7        36600        1  8734960      BKNHRST  10:10  10:10                  0\n",
              "8        37560       48  8734960        SOTON  10:26  10:30               -240\n",
              "9        38220       49  8734960      SOTPKWY  10:37  10:37                  0\n",
              "10       38820       69  8734960      WNCHSTR  10:47  10:48                -60\n",
              "11       40740       70  8734960       WOKING  11:19  11:35               -960\n",
              "12       42540       62  8734960      WATRLMN  11:49                         0\n",
              "13       36720       12  8734963        DRCHS  10:12  10:13                -60\n",
              "14       37620       61  8734963       WARHAM  10:27  10:29               -120\n",
              "15       38040       28  8734963       HMWTHY  10:34  10:35                -60\n",
              "16       38340       40  8734963        POOLE  10:39  10:40                -60\n",
              "17       38640       41  8734963       PSTONE  10:44  10:44                  0\n",
              "18       38880        4  8734963      BRANKSM  10:48  10:48                  0\n",
              "19       39240        3  8734963         BOMO  10:54  10:58               -240"
            ]
          },
          "metadata": {},
          "execution_count": 1205
        }
      ]
    },
    {
      "cell_type": "code",
      "source": [
        "enter_time = input(\"Enter the delayed time in %H:%M:\")\n",
        "\n",
        "k = datetime.datetime.strptime(enter_time, \"%H:%M\")\n",
        "time = (k.hour * 60 * 60) + (k.minute * 60)\n",
        "\n",
        "print(time)"
      ],
      "metadata": {
        "id": "Mdm8QUF2wHP7"
      },
      "execution_count": null,
      "outputs": []
    },
    {
      "cell_type": "markdown",
      "source": [
        "# Function for calculating all required values"
      ],
      "metadata": {
        "id": "jq9cSqF9kEdL"
      }
    },
    {
      "cell_type": "code",
      "source": [
        "# get the sttaion realted row indices\n",
        "list_for_stations = []\n",
        "for i in range(0,len(final_main_df['station_name'])):\n",
        "  if final_main_df['station_name'][i] == 'POOLE':\n",
        "    list_for_stations.append(i)"
      ],
      "metadata": {
        "id": "-EzKqcShkKWZ"
      },
      "execution_count": 1206,
      "outputs": []
    },
    {
      "cell_type": "code",
      "source": [
        "# set the station name as index\n",
        "indexed_df = final_main_df.set_index('station_name')"
      ],
      "metadata": {
        "id": "Ib7virRglXw0"
      },
      "execution_count": 1207,
      "outputs": []
    },
    {
      "cell_type": "code",
      "source": [
        "# get the unique train ids by station name\n",
        "unique_train = np.unique(indexed_df.loc['POOLE'].rail_ids.values)"
      ],
      "metadata": {
        "id": "eb4ejWwTyIy4"
      },
      "execution_count": 1208,
      "outputs": []
    },
    {
      "cell_type": "code",
      "source": [
        "# get the number of unique trains\n",
        "unique_trains = unique_train"
      ],
      "metadata": {
        "id": "FKQRYce-yRHF"
      },
      "execution_count": 1209,
      "outputs": []
    },
    {
      "cell_type": "code",
      "source": [
        "numb = int(int(len(unique_train)/100)/2)"
      ],
      "metadata": {
        "id": "fElzoKvq4U9O"
      },
      "execution_count": 1210,
      "outputs": []
    },
    {
      "cell_type": "code",
      "source": [
        "top_trains = unique_train[0:numb]"
      ],
      "metadata": {
        "id": "ZRbxlRksza5M"
      },
      "execution_count": 1211,
      "outputs": []
    },
    {
      "cell_type": "code",
      "source": [
        "top_trains"
      ],
      "metadata": {
        "colab": {
          "base_uri": "https://localhost:8080/"
        },
        "id": "1-F_kR_U8lPL",
        "outputId": "c08feb90-fe57-44a3-ce10-2158102c9fb2"
      },
      "execution_count": 1212,
      "outputs": [
        {
          "output_type": "execute_result",
          "data": {
            "text/plain": [
              "array(['7900005', '7900006', '7900033'], dtype=object)"
            ]
          },
          "metadata": {},
          "execution_count": 1212
        }
      ]
    },
    {
      "cell_type": "code",
      "source": [
        "# for loop for getting data frames\n",
        "for rail_id in top_trains:\n",
        "  # for loop - rail ids\n",
        "  list_of_columns = final_main_df.columns\n",
        "  latest_df = pd.DataFrame(columns = list_of_columns)\n",
        "  for i in range(0,len(final_main_df['rail_ids'])):\n",
        "    if final_main_df['rail_ids'][i] == rail_id:     \n",
        "      series = pd.Series(final_main_df.iloc[i].values, index=latest_df.columns)\n",
        "      latest_df = latest_df.append(series,ignore_index=True)\n",
        "  print(f'*************** Data frame for {rail_id} ***************************')  \n",
        "  # getting stations after the required stations\n",
        "  for j in range(len(latest_df['station_name'])):\n",
        "    if 'POOLE' in latest_df['station_name'][j]:\n",
        "      global t\n",
        "      t = j\n",
        "\n",
        "  \"\"\"print(latest_df.iloc[t:])\"\"\" \n",
        "  y_list = latest_df['timestamps']\n",
        "  x_list = latest_df['station']\n",
        "\n",
        "  # polynomial regression model\n",
        "  from sklearn.preprocessing import PolynomialFeatures\n",
        "  poly_reg = PolynomialFeatures(degree=25)\n",
        "  y_array = np.array(y_list)\n",
        "  x_list = np.array(x_list).reshape(-1,1)\n",
        "  X_poly = poly_reg.fit_transform(x_list)\n",
        "  \n",
        "  lin_reg2 = LinearRegression()\n",
        "  lin_reg2.fit(X_poly,y_array)\n",
        "  \n",
        "    \n",
        "  X_grid = np.arange(min(x_list),max(x_list),0.1)\n",
        "  X_grid = X_grid.reshape(len(X_grid),1) \n",
        "\n",
        "  r2_value = r2_score(y_array, lin_reg2.predict(poly_reg.fit_transform(x_list)))#r2 values\n",
        "  y_poly_predictions = lin_reg2.predict(poly_reg.fit_transform(x_list))\n",
        "  print(r2_value)\n",
        "  plt.figure(figsize=(10,5))  \n",
        "  plt.plot(X_grid, lin_reg2.predict(poly_reg.fit_transform(X_grid)),color='blue') \n",
        "  plt.scatter(x_list,y_array, color='red')  \n",
        "  plt.title(f\"Station timings for {rail_id}\")\n",
        "  plt.xlabel('Station(Integer encoded)')\n",
        "  plt.ylabel('Time(Seconds)')\n",
        "  plt.show()\n",
        "\n",
        "  print('******* Estimations **********')\n",
        "  latest_df['estimated_arrival_timestamps'] = y_poly_predictions\n",
        "  estimated_dep_list = latest_df['estimated_arrival_timestamps'] - latest_df['planned_differnce']\n",
        "  latest_df['estimated_dep_timestamps'] = estimated_dep_list\n",
        "\n",
        "  #for loops for getting estimates\n",
        "  final_est_arrival = [convertor(int(c)) for c in latest_df['estimated_arrival_timestamps'].values]\n",
        "  final_est_departure = [convertor(int(c)) for c in latest_df['estimated_dep_timestamps'].values]\n",
        "\n",
        "  latest_df['estimated_arrival'] = final_est_arrival\n",
        "  latest_df['estimated_departure'] = final_est_departure\n",
        "\n",
        "\n",
        "  \"\"\"print(latest_df)\"\"\"\n",
        "\n",
        "  # final dataframes\n",
        "  indexed_latest_df = latest_df[t:].set_index('station_name')\n",
        "  \"\"\"print(indexed_latest_df)\"\"\"\n",
        "  print(len(y_poly_predictions[t:]))\n",
        "\n",
        "  req_poly_preds = y_array[t:]\n",
        "  associated_stations_time_diff = []\n",
        "  for k in range(len(req_poly_preds)):\n",
        "    if k < len(req_poly_preds)-1:\n",
        "      associated_stations_time_diff.append(req_poly_preds[k]-req_poly_preds[k+1])\n",
        "\n",
        "  #inserting 0 at first\n",
        "  associated_stations_time_diff.insert(0,0)    \n",
        "\n",
        "  # for loop for getting the differnce times\n",
        "  new_list = []\n",
        "  for q in range(0,len(associated_stations_time_diff)):\n",
        "    a = sum(associated_stations_time_diff[:q+1])\n",
        "    new_list.append(a)\n",
        "\n",
        "  # for loop for getting exact times\n",
        "  final_list = [time-o for o in new_list]  \n",
        "  \"\"\"print(final_list)\"\"\"\n",
        "\n",
        "  indexed_latest_df['act_arrival'] = final_list\n",
        "  final_dep_list = indexed_latest_df['act_arrival'] - indexed_latest_df['planned_differnce']\n",
        "  actual_dep_list = list(final_dep_list.values)\n",
        "\n",
        "  # for getting actual times\n",
        "  indexed_latest_df['act_arr'] = [convertor(g) for g in final_list]\n",
        "  indexed_latest_df['act_dep'] = [convertor(g) for g in actual_dep_list]\n",
        "\n",
        "  #unwanted columns\n",
        "  indexed_latest_df.drop(columns=unwanted_columns)\n",
        "\n",
        "\n",
        "  #getting into dataframe\n",
        "  print(indexed_latest_df)\n"
      ],
      "metadata": {
        "colab": {
          "base_uri": "https://localhost:8080/",
          "height": 1000
        },
        "id": "pU0NQawl2nj5",
        "outputId": "0397bd80-cc74-4b39-e79d-912877754dc2"
      },
      "execution_count": 1298,
      "outputs": [
        {
          "output_type": "stream",
          "name": "stdout",
          "text": [
            "*************** Data frame for 7900005 ***************************\n",
            "0.46878218493124324\n"
          ]
        },
        {
          "output_type": "display_data",
          "data": {
            "image/png": "[encoded data removed]",
            "text/plain": [
              "<Figure size 720x360 with 1 Axes>"
            ]
          },
          "metadata": {
            "needs_background": "light"
          }
        },
        {
          "output_type": "stream",
          "name": "stdout",
          "text": [
            "******* Estimations **********\n",
            "11\n",
            "             timestamps station rail_ids  ... act_arrival act_arr act_dep\n",
            "station_name                              ...                            \n",
            "POOLE             36360      40  7900005  ...       33600    9:20    9:20\n",
            "POKSDWN           37560      39  7900005  ...       34800    9:39    9:39\n",
            "CHRISTC           37740       8  7900005  ...       34980    9:43    9:43\n",
            "NMILTON           38160      37  7900005  ...       35400    9:50    9:50\n",
            "BKNHRST           38640       1  7900005  ...       35880    9:58    9:58\n",
            "SOTON             39480      48  7900005  ...       36720   10:11   10:11\n",
            "SOTPKWY           40020      49  7900005  ...       37260   10:20   10:20\n",
            "WNCHSTR           40620      69  7900005  ...       37860   10:31   10:31\n",
            "BSNGSTK           41640       6  7900005  ...       38880   10:48   11:15\n",
            "CLPHMJM           43920       9  7900005  ...       41160   11:26   11:26\n",
            "WATRLMN           44400      62  7900005  ...       41640   11:33   11:33\n",
            "\n",
            "[11 rows x 13 columns]\n",
            "*************** Data frame for 7900006 ***************************\n",
            "0.4639454946962458\n"
          ]
        },
        {
          "output_type": "display_data",
          "data": {
            "image/png": "[encoded data removed]",
            "text/plain": [
              "<Figure size 720x360 with 1 Axes>"
            ]
          },
          "metadata": {
            "needs_background": "light"
          }
        },
        {
          "output_type": "stream",
          "name": "stdout",
          "text": [
            "******* Estimations **********\n",
            "14\n",
            "             timestamps station rail_ids  ... act_arrival act_arr act_dep\n",
            "station_name                              ...                            \n",
            "POOLE             36360      40  7900006  ...       33600    9:20    9:31\n",
            "PSTONE            36480      41  7900006  ...       33720    9:22    9:35\n",
            "BRANKSM           36660       4  7900006  ...       33900    9:24    9:39\n",
            "BOMO              37020       3  7900006  ...       34260    9:31    9:46\n",
            "POKSDWN           37560      39  7900006  ...       34800    9:39    9:50\n",
            "CHRISTC           37740       8  7900006  ...       34980    9:43    9:54\n",
            "NMILTON           38160      37  7900006  ...       35400    9:50    10:3\n",
            "BKNHRST           38640       1  7900006  ...       35880    9:58    10:9\n",
            "SOTON             39480      48  7900006  ...       36720   10:11   10:24\n",
            "SOTPKWY           40020      49  7900006  ...       37260   10:20   10:31\n",
            "WNCHSTR           40620      69  7900006  ...       37860   10:31   10:41\n",
            "BSNGSTK           41640       6  7900006  ...       38880   10:48    11:7\n",
            "CLPHMJM           43920       9  7900006  ...       41160   11:26   11:26\n",
            "WATRLMN           44400      62  7900006  ...       41640   11:33   11:33\n",
            "\n",
            "[14 rows x 13 columns]\n",
            "*************** Data frame for 7900033 ***************************\n",
            "0.8670306376033973\n"
          ]
        },
        {
          "output_type": "display_data",
          "data": {
            "image/png": "[encoded data removed]",
            "text/plain": [
              "<Figure size 720x360 with 1 Axes>"
            ]
          },
          "metadata": {
            "needs_background": "light"
          }
        },
        {
          "output_type": "stream",
          "name": "stdout",
          "text": [
            "******* Estimations **********\n",
            "10\n",
            "             timestamps station rail_ids  ... act_arrival act_arr act_dep\n",
            "station_name                              ...                            \n",
            "POOLE             38340      40  7900033  ...       33600    9:20    9:20\n",
            "PSTONE            38640      41  7900033  ...       33900    9:24    9:24\n",
            "BRANKSM           38880       4  7900033  ...       34140    9:28    9:28\n",
            "BOMO              39240       3  7900033  ...       34500    9:35    9:35\n",
            "BKNHRST           40440       1  7900033  ...       35700    9:54    9:54\n",
            "SOTON             41280      48  7900033  ...       36540    10:9   10:18\n",
            "SOTPKWY           41820      49  7900033  ...       37080   10:18   10:18\n",
            "WNCHSTR           42420      69  7900033  ...       37680   10:28   10:20\n",
            "WOKING            44340      70  7900033  ...       39600    11:0    11:5\n",
            "WATRLMN           46140      62  7900033  ...       41400   11:30   11:30\n",
            "\n",
            "[10 rows x 13 columns]\n"
          ]
        }
      ]
    },
    {
      "cell_type": "code",
      "source": [
        ""
      ],
      "metadata": {
        "id": "nNjllLCs5ZZh"
      },
      "execution_count": null,
      "outputs": []
    }
  ]
}