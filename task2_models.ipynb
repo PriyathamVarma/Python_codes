{
  "nbformat": 4,
  "nbformat_minor": 0,
  "metadata": {
    "colab": {
      "name": "task2-models.ipynb",
      "provenance": [],
      "collapsed_sections": [],
      "authorship_tag": "ABX9TyPPAdAqwRa9mlprvWSbGA51",
      "include_colab_link": true
    },
    "kernelspec": {
      "name": "python3",
      "display_name": "Python 3"
    },
    "language_info": {
      "name": "python"
    }
  },
  "cells": [
    {
      "cell_type": "markdown",
      "metadata": {
        "id": "view-in-github",
        "colab_type": "text"
      },
      "source": [
        "<a href=\"https://colab.research.google.com/github/PriyathamVarma/PriyathamVarma/blob/main/task2_models.ipynb\" target=\"_parent\"><img src=\"https://colab.research.google.com/assets/colab-badge.svg\" alt=\"Open In Colab\"/></a>"
      ]
    },
    {
      "cell_type": "markdown",
      "source": [
        "# This notebook is for AI coursework chatbot task 2 models implemntation"
      ],
      "metadata": {
        "id": "84tlOfKjOO_h"
      }
    },
    {
      "cell_type": "code",
      "source": [
        "# Mounting google drive for accessing files\n",
        "from google.colab import auth\n",
        "auth.authenticate_user()\n",
        "import gspread\n",
        "from oauth2client.client import GoogleCredentials\n",
        "gc = gspread.authorize(GoogleCredentials.get_application_default())"
      ],
      "metadata": {
        "id": "uahPtpf3OWJ4"
      },
      "execution_count": 577,
      "outputs": []
    },
    {
      "cell_type": "code",
      "source": [
        "# Imports\n",
        "\n",
        "import pandas as pd\n",
        "import numpy as np\n",
        "import matplotlib.pyplot as plt\n",
        "# Import seaborn\n",
        "#import seaborn as sns\n",
        "# imports\n",
        "#import plotly.express as px \n",
        "# Tensorflow\n",
        "import math\n",
        "import pandas_datareader as web\n",
        "from sklearn.preprocessing import MinMaxScaler\n",
        "from keras.models import Sequential\n",
        "from keras.layers import Dense,LSTM\n",
        "import datetime\n",
        "import seaborn as sns\n",
        "from sklearn.metrics import r2_score\n",
        "\n",
        "from sklearn.linear_model import LinearRegression"
      ],
      "metadata": {
        "id": "iqvwKz3aOZzF"
      },
      "execution_count": 578,
      "outputs": []
    },
    {
      "cell_type": "code",
      "source": [
        "# Creating a wb variable to store the spreadsheet bu URL\n",
        "\n",
        "\n",
        "wb = gc.open_by_url('https://docs.google.com/spreadsheets/d/1Uc0IftU39xiQNV5gV0ASTTcElOrpgKRseG3HeIfeF2g/edit#gid=387344816')\n",
        "# Getting the sheet(if multiple sheets exists) by sheet name\n",
        "sheet = wb.worksheet('train.csv')\n",
        "# Getting all values that exist in the sheet\n",
        "data = sheet.get_all_values()\n",
        "# Converting the values into a dataframe\n",
        "data_frame = pd.DataFrame(data)"
      ],
      "metadata": {
        "id": "YR9ZMZ-hOaKq"
      },
      "execution_count": 579,
      "outputs": []
    },
    {
      "cell_type": "code",
      "source": [
        "data_frame.info()"
      ],
      "metadata": {
        "colab": {
          "base_uri": "https://localhost:8080/"
        },
        "id": "Dg2iwnoEOny3",
        "outputId": "c7f278ec-dd9d-4e0a-a750-ffb1294156a6"
      },
      "execution_count": 580,
      "outputs": [
        {
          "output_type": "stream",
          "name": "stdout",
          "text": [
            "<class 'pandas.core.frame.DataFrame'>\n",
            "RangeIndex: 303825 entries, 0 to 303824\n",
            "Data columns (total 10 columns):\n",
            " #   Column  Non-Null Count   Dtype \n",
            "---  ------  --------------   ----- \n",
            " 0   0       303825 non-null  object\n",
            " 1   1       303825 non-null  object\n",
            " 2   2       303825 non-null  object\n",
            " 3   3       303825 non-null  object\n",
            " 4   4       303825 non-null  object\n",
            " 5   5       303825 non-null  object\n",
            " 6   6       303825 non-null  object\n",
            " 7   7       303825 non-null  object\n",
            " 8   8       303825 non-null  object\n",
            " 9   9       303825 non-null  object\n",
            "dtypes: object(10)\n",
            "memory usage: 23.2+ MB\n"
          ]
        }
      ]
    },
    {
      "cell_type": "code",
      "source": [
        "pip install pandasql"
      ],
      "metadata": {
        "colab": {
          "base_uri": "https://localhost:8080/"
        },
        "id": "Tjw0eBEjPUdl",
        "outputId": "ea9f6fce-d6b1-432f-d3aa-2d634043e138"
      },
      "execution_count": 581,
      "outputs": [
        {
          "output_type": "stream",
          "name": "stdout",
          "text": [
            "Requirement already satisfied: pandasql in /usr/local/lib/python3.7/dist-packages (0.7.3)\n",
            "Requirement already satisfied: sqlalchemy in /usr/local/lib/python3.7/dist-packages (from pandasql) (1.4.29)\n",
            "Requirement already satisfied: pandas in /usr/local/lib/python3.7/dist-packages (from pandasql) (1.1.5)\n",
            "Requirement already satisfied: numpy in /usr/local/lib/python3.7/dist-packages (from pandasql) (1.19.5)\n",
            "Requirement already satisfied: python-dateutil>=2.7.3 in /usr/local/lib/python3.7/dist-packages (from pandas->pandasql) (2.8.2)\n",
            "Requirement already satisfied: pytz>=2017.2 in /usr/local/lib/python3.7/dist-packages (from pandas->pandasql) (2018.9)\n",
            "Requirement already satisfied: six>=1.5 in /usr/local/lib/python3.7/dist-packages (from python-dateutil>=2.7.3->pandas->pandasql) (1.15.0)\n",
            "Requirement already satisfied: greenlet!=0.4.17 in /usr/local/lib/python3.7/dist-packages (from sqlalchemy->pandasql) (1.1.2)\n",
            "Requirement already satisfied: importlib-metadata in /usr/local/lib/python3.7/dist-packages (from sqlalchemy->pandasql) (4.10.0)\n",
            "Requirement already satisfied: typing-extensions>=3.6.4 in /usr/local/lib/python3.7/dist-packages (from importlib-metadata->sqlalchemy->pandasql) (3.10.0.2)\n",
            "Requirement already satisfied: zipp>=0.5 in /usr/local/lib/python3.7/dist-packages (from importlib-metadata->sqlalchemy->pandasql) (3.7.0)\n"
          ]
        }
      ]
    },
    {
      "cell_type": "code",
      "source": [
        "import tensorflow as tf\n",
        "import pandasql as ps"
      ],
      "metadata": {
        "id": "o_1cOWpzO-6q"
      },
      "execution_count": 582,
      "outputs": []
    },
    {
      "cell_type": "code",
      "source": [
        "# Getting the first row to be the header\n",
        "\n",
        "data_frame.columns = data_frame.iloc[0]\n",
        "\n",
        "data_frame = data_frame.iloc[1:].reset_index(drop=True)"
      ],
      "metadata": {
        "id": "tWAoEViQQbuy"
      },
      "execution_count": 583,
      "outputs": []
    },
    {
      "cell_type": "code",
      "source": [
        "new_df = pd.DataFrame()"
      ],
      "metadata": {
        "id": "kRXBrSuXa4PP"
      },
      "execution_count": 584,
      "outputs": []
    },
    {
      "cell_type": "code",
      "source": [
        "new_df = data_frame.drop(['day','month'], axis=1)"
      ],
      "metadata": {
        "id": "McNfzPFoQh-g"
      },
      "execution_count": 585,
      "outputs": []
    },
    {
      "cell_type": "code",
      "source": [
        "new_df.head(5)"
      ],
      "metadata": {
        "id": "qTRqaswhzz98",
        "colab": {
          "base_uri": "https://localhost:8080/",
          "height": 206
        },
        "outputId": "862241bf-f44a-4e4f-e1fd-f127a1ef2f87"
      },
      "execution_count": 646,
      "outputs": [
        {
          "output_type": "execute_result",
          "data": {
            "text/html": [
              "\n",
              "  <div id=\"df-f43c6fd6-847f-4192-b857-edd0d5f89acb\">\n",
              "    <div class=\"colab-df-container\">\n",
              "      <div>\n",
              "<style scoped>\n",
              "    .dataframe tbody tr th:only-of-type {\n",
              "        vertical-align: middle;\n",
              "    }\n",
              "\n",
              "    .dataframe tbody tr th {\n",
              "        vertical-align: top;\n",
              "    }\n",
              "\n",
              "    .dataframe thead th {\n",
              "        text-align: right;\n",
              "    }\n",
              "</style>\n",
              "<table border=\"1\" class=\"dataframe\">\n",
              "  <thead>\n",
              "    <tr style=\"text-align: right;\">\n",
              "      <th></th>\n",
              "      <th>year</th>\n",
              "      <th>rail_id</th>\n",
              "      <th>station</th>\n",
              "      <th>planned_arr</th>\n",
              "      <th>planned_dep</th>\n",
              "      <th>actual_arr</th>\n",
              "      <th>month_fmt</th>\n",
              "      <th>day_fmt</th>\n",
              "      <th>required_time</th>\n",
              "      <th>timeStamp</th>\n",
              "    </tr>\n",
              "  </thead>\n",
              "  <tbody>\n",
              "    <tr>\n",
              "      <th>0</th>\n",
              "      <td>2017</td>\n",
              "      <td>8734960</td>\n",
              "      <td>DRCHS</td>\n",
              "      <td>09:12</td>\n",
              "      <td>09:12</td>\n",
              "      <td>09:11</td>\n",
              "      <td>02</td>\n",
              "      <td>01</td>\n",
              "      <td>2017020109:12</td>\n",
              "      <td>33120</td>\n",
              "    </tr>\n",
              "    <tr>\n",
              "      <th>1</th>\n",
              "      <td>2017</td>\n",
              "      <td>8734960</td>\n",
              "      <td>WARHAM</td>\n",
              "      <td>09:27</td>\n",
              "      <td>09:29</td>\n",
              "      <td>09:27</td>\n",
              "      <td>02</td>\n",
              "      <td>01</td>\n",
              "      <td>2017020109:27</td>\n",
              "      <td>34020</td>\n",
              "    </tr>\n",
              "    <tr>\n",
              "      <th>2</th>\n",
              "      <td>2017</td>\n",
              "      <td>8734960</td>\n",
              "      <td>HMWTHY</td>\n",
              "      <td>09:34</td>\n",
              "      <td>09:35</td>\n",
              "      <td>09:33</td>\n",
              "      <td>02</td>\n",
              "      <td>01</td>\n",
              "      <td>2017020109:34</td>\n",
              "      <td>34440</td>\n",
              "    </tr>\n",
              "    <tr>\n",
              "      <th>3</th>\n",
              "      <td>2017</td>\n",
              "      <td>8734960</td>\n",
              "      <td>POOLE</td>\n",
              "      <td>09:39</td>\n",
              "      <td>09:39</td>\n",
              "      <td>09:38</td>\n",
              "      <td>02</td>\n",
              "      <td>01</td>\n",
              "      <td>2017020109:39</td>\n",
              "      <td>34740</td>\n",
              "    </tr>\n",
              "    <tr>\n",
              "      <th>4</th>\n",
              "      <td>2017</td>\n",
              "      <td>8734960</td>\n",
              "      <td>PSTONE</td>\n",
              "      <td>09:44</td>\n",
              "      <td>09:43</td>\n",
              "      <td>09:41</td>\n",
              "      <td>02</td>\n",
              "      <td>01</td>\n",
              "      <td>2017020109:44</td>\n",
              "      <td>35040</td>\n",
              "    </tr>\n",
              "  </tbody>\n",
              "</table>\n",
              "</div>\n",
              "      <button class=\"colab-df-convert\" onclick=\"convertToInteractive('df-f43c6fd6-847f-4192-b857-edd0d5f89acb')\"\n",
              "              title=\"Convert this dataframe to an interactive table.\"\n",
              "              style=\"display:none;\">\n",
              "        \n",
              "  <svg xmlns=\"http://www.w3.org/2000/svg\" height=\"24px\"viewBox=\"0 0 24 24\"\n",
              "       width=\"24px\">\n",
              "    <path d=\"M0 0h24v24H0V0z\" fill=\"none\"/>\n",
              "    <path d=\"M18.56 5.44l.94 2.06.94-2.06 2.06-.94-2.06-.94-.94-2.06-.94 2.06-2.06.94zm-11 1L8.5 8.5l.94-2.06 2.06-.94-2.06-.94L8.5 2.5l-.94 2.06-2.06.94zm10 10l.94 2.06.94-2.06 2.06-.94-2.06-.94-.94-2.06-.94 2.06-2.06.94z\"/><path d=\"M17.41 7.96l-1.37-1.37c-.4-.4-.92-.59-1.43-.59-.52 0-1.04.2-1.43.59L10.3 9.45l-7.72 7.72c-.78.78-.78 2.05 0 2.83L4 21.41c.39.39.9.59 1.41.59.51 0 1.02-.2 1.41-.59l7.78-7.78 2.81-2.81c.8-.78.8-2.07 0-2.86zM5.41 20L4 18.59l7.72-7.72 1.47 1.35L5.41 20z\"/>\n",
              "  </svg>\n",
              "      </button>\n",
              "      \n",
              "  <style>\n",
              "    .colab-df-container {\n",
              "      display:flex;\n",
              "      flex-wrap:wrap;\n",
              "      gap: 12px;\n",
              "    }\n",
              "\n",
              "    .colab-df-convert {\n",
              "      background-color: #E8F0FE;\n",
              "      border: none;\n",
              "      border-radius: 50%;\n",
              "      cursor: pointer;\n",
              "      display: none;\n",
              "      fill: #1967D2;\n",
              "      height: 32px;\n",
              "      padding: 0 0 0 0;\n",
              "      width: 32px;\n",
              "    }\n",
              "\n",
              "    .colab-df-convert:hover {\n",
              "      background-color: #E2EBFA;\n",
              "      box-shadow: 0px 1px 2px rgba(60, 64, 67, 0.3), 0px 1px 3px 1px rgba(60, 64, 67, 0.15);\n",
              "      fill: #174EA6;\n",
              "    }\n",
              "\n",
              "    [theme=dark] .colab-df-convert {\n",
              "      background-color: #3B4455;\n",
              "      fill: #D2E3FC;\n",
              "    }\n",
              "\n",
              "    [theme=dark] .colab-df-convert:hover {\n",
              "      background-color: #434B5C;\n",
              "      box-shadow: 0px 1px 3px 1px rgba(0, 0, 0, 0.15);\n",
              "      filter: drop-shadow(0px 1px 2px rgba(0, 0, 0, 0.3));\n",
              "      fill: #FFFFFF;\n",
              "    }\n",
              "  </style>\n",
              "\n",
              "      <script>\n",
              "        const buttonEl =\n",
              "          document.querySelector('#df-f43c6fd6-847f-4192-b857-edd0d5f89acb button.colab-df-convert');\n",
              "        buttonEl.style.display =\n",
              "          google.colab.kernel.accessAllowed ? 'block' : 'none';\n",
              "\n",
              "        async function convertToInteractive(key) {\n",
              "          const element = document.querySelector('#df-f43c6fd6-847f-4192-b857-edd0d5f89acb');\n",
              "          const dataTable =\n",
              "            await google.colab.kernel.invokeFunction('convertToInteractive',\n",
              "                                                     [key], {});\n",
              "          if (!dataTable) return;\n",
              "\n",
              "          const docLinkHtml = 'Like what you see? Visit the ' +\n",
              "            '<a target=\"_blank\" href=https://colab.research.google.com/notebooks/data_table.ipynb>data table notebook</a>'\n",
              "            + ' to learn more about interactive tables.';\n",
              "          element.innerHTML = '';\n",
              "          dataTable['output_type'] = 'display_data';\n",
              "          await google.colab.output.renderOutput(dataTable, element);\n",
              "          const docLink = document.createElement('div');\n",
              "          docLink.innerHTML = docLinkHtml;\n",
              "          element.appendChild(docLink);\n",
              "        }\n",
              "      </script>\n",
              "    </div>\n",
              "  </div>\n",
              "  "
            ],
            "text/plain": [
              "0  year  rail_id station  ... day_fmt  required_time timeStamp\n",
              "0  2017  8734960   DRCHS  ...      01  2017020109:12     33120\n",
              "1  2017  8734960  WARHAM  ...      01  2017020109:27     34020\n",
              "2  2017  8734960  HMWTHY  ...      01  2017020109:34     34440\n",
              "3  2017  8734960   POOLE  ...      01  2017020109:39     34740\n",
              "4  2017  8734960  PSTONE  ...      01  2017020109:44     35040\n",
              "\n",
              "[5 rows x 10 columns]"
            ]
          },
          "metadata": {},
          "execution_count": 646
        }
      ]
    },
    {
      "cell_type": "code",
      "source": [
        "new_df.info()"
      ],
      "metadata": {
        "colab": {
          "base_uri": "https://localhost:8080/"
        },
        "id": "gIwivP28RlMa",
        "outputId": "84af8ea4-a0c4-4111-9180-7aeca348319a"
      },
      "execution_count": 587,
      "outputs": [
        {
          "output_type": "stream",
          "name": "stdout",
          "text": [
            "<class 'pandas.core.frame.DataFrame'>\n",
            "RangeIndex: 303824 entries, 0 to 303823\n",
            "Data columns (total 8 columns):\n",
            " #   Column       Non-Null Count   Dtype \n",
            "---  ------       --------------   ----- \n",
            " 0   year         303824 non-null  object\n",
            " 1   rail_id      303824 non-null  object\n",
            " 2   station      303824 non-null  object\n",
            " 3   planned_arr  303824 non-null  object\n",
            " 4   planned_dep  303824 non-null  object\n",
            " 5   actual_arr   303824 non-null  object\n",
            " 6   month_fmt    303824 non-null  object\n",
            " 7   day_fmt      303824 non-null  object\n",
            "dtypes: object(8)\n",
            "memory usage: 18.5+ MB\n"
          ]
        }
      ]
    },
    {
      "cell_type": "code",
      "source": [
        "new_df['required_time'] = new_df['year'] + new_df['month_fmt'] + new_df['day_fmt'] + new_df['planned_arr']"
      ],
      "metadata": {
        "id": "xXoGVBGJa-q4"
      },
      "execution_count": 588,
      "outputs": []
    },
    {
      "cell_type": "code",
      "source": [
        "new_df.head(5)"
      ],
      "metadata": {
        "colab": {
          "base_uri": "https://localhost:8080/",
          "height": 206
        },
        "id": "ZzSNcQU8bJw6",
        "outputId": "811adcea-6c1b-41fc-e06c-b3d1fe60d950"
      },
      "execution_count": 761,
      "outputs": [
        {
          "output_type": "execute_result",
          "data": {
            "text/html": [
              "\n",
              "  <div id=\"df-d99e276e-3b9c-4fc6-9a17-5a1c71ee1a23\">\n",
              "    <div class=\"colab-df-container\">\n",
              "      <div>\n",
              "<style scoped>\n",
              "    .dataframe tbody tr th:only-of-type {\n",
              "        vertical-align: middle;\n",
              "    }\n",
              "\n",
              "    .dataframe tbody tr th {\n",
              "        vertical-align: top;\n",
              "    }\n",
              "\n",
              "    .dataframe thead th {\n",
              "        text-align: right;\n",
              "    }\n",
              "</style>\n",
              "<table border=\"1\" class=\"dataframe\">\n",
              "  <thead>\n",
              "    <tr style=\"text-align: right;\">\n",
              "      <th></th>\n",
              "      <th>year</th>\n",
              "      <th>rail_id</th>\n",
              "      <th>station</th>\n",
              "      <th>planned_arr</th>\n",
              "      <th>planned_dep</th>\n",
              "      <th>actual_arr</th>\n",
              "      <th>month_fmt</th>\n",
              "      <th>day_fmt</th>\n",
              "      <th>required_time</th>\n",
              "      <th>timeStamp</th>\n",
              "    </tr>\n",
              "  </thead>\n",
              "  <tbody>\n",
              "    <tr>\n",
              "      <th>0</th>\n",
              "      <td>2017</td>\n",
              "      <td>8734960</td>\n",
              "      <td>DRCHS</td>\n",
              "      <td>09:12</td>\n",
              "      <td>09:12</td>\n",
              "      <td>09:11</td>\n",
              "      <td>02</td>\n",
              "      <td>01</td>\n",
              "      <td>2017020109:12</td>\n",
              "      <td>33120</td>\n",
              "    </tr>\n",
              "    <tr>\n",
              "      <th>1</th>\n",
              "      <td>2017</td>\n",
              "      <td>8734960</td>\n",
              "      <td>WARHAM</td>\n",
              "      <td>09:27</td>\n",
              "      <td>09:29</td>\n",
              "      <td>09:27</td>\n",
              "      <td>02</td>\n",
              "      <td>01</td>\n",
              "      <td>2017020109:27</td>\n",
              "      <td>34020</td>\n",
              "    </tr>\n",
              "    <tr>\n",
              "      <th>2</th>\n",
              "      <td>2017</td>\n",
              "      <td>8734960</td>\n",
              "      <td>HMWTHY</td>\n",
              "      <td>09:34</td>\n",
              "      <td>09:35</td>\n",
              "      <td>09:33</td>\n",
              "      <td>02</td>\n",
              "      <td>01</td>\n",
              "      <td>2017020109:34</td>\n",
              "      <td>34440</td>\n",
              "    </tr>\n",
              "    <tr>\n",
              "      <th>3</th>\n",
              "      <td>2017</td>\n",
              "      <td>8734960</td>\n",
              "      <td>POOLE</td>\n",
              "      <td>09:39</td>\n",
              "      <td>09:39</td>\n",
              "      <td>09:38</td>\n",
              "      <td>02</td>\n",
              "      <td>01</td>\n",
              "      <td>2017020109:39</td>\n",
              "      <td>34740</td>\n",
              "    </tr>\n",
              "    <tr>\n",
              "      <th>4</th>\n",
              "      <td>2017</td>\n",
              "      <td>8734960</td>\n",
              "      <td>PSTONE</td>\n",
              "      <td>09:44</td>\n",
              "      <td>09:43</td>\n",
              "      <td>09:41</td>\n",
              "      <td>02</td>\n",
              "      <td>01</td>\n",
              "      <td>2017020109:44</td>\n",
              "      <td>35040</td>\n",
              "    </tr>\n",
              "  </tbody>\n",
              "</table>\n",
              "</div>\n",
              "      <button class=\"colab-df-convert\" onclick=\"convertToInteractive('df-d99e276e-3b9c-4fc6-9a17-5a1c71ee1a23')\"\n",
              "              title=\"Convert this dataframe to an interactive table.\"\n",
              "              style=\"display:none;\">\n",
              "        \n",
              "  <svg xmlns=\"http://www.w3.org/2000/svg\" height=\"24px\"viewBox=\"0 0 24 24\"\n",
              "       width=\"24px\">\n",
              "    <path d=\"M0 0h24v24H0V0z\" fill=\"none\"/>\n",
              "    <path d=\"M18.56 5.44l.94 2.06.94-2.06 2.06-.94-2.06-.94-.94-2.06-.94 2.06-2.06.94zm-11 1L8.5 8.5l.94-2.06 2.06-.94-2.06-.94L8.5 2.5l-.94 2.06-2.06.94zm10 10l.94 2.06.94-2.06 2.06-.94-2.06-.94-.94-2.06-.94 2.06-2.06.94z\"/><path d=\"M17.41 7.96l-1.37-1.37c-.4-.4-.92-.59-1.43-.59-.52 0-1.04.2-1.43.59L10.3 9.45l-7.72 7.72c-.78.78-.78 2.05 0 2.83L4 21.41c.39.39.9.59 1.41.59.51 0 1.02-.2 1.41-.59l7.78-7.78 2.81-2.81c.8-.78.8-2.07 0-2.86zM5.41 20L4 18.59l7.72-7.72 1.47 1.35L5.41 20z\"/>\n",
              "  </svg>\n",
              "      </button>\n",
              "      \n",
              "  <style>\n",
              "    .colab-df-container {\n",
              "      display:flex;\n",
              "      flex-wrap:wrap;\n",
              "      gap: 12px;\n",
              "    }\n",
              "\n",
              "    .colab-df-convert {\n",
              "      background-color: #E8F0FE;\n",
              "      border: none;\n",
              "      border-radius: 50%;\n",
              "      cursor: pointer;\n",
              "      display: none;\n",
              "      fill: #1967D2;\n",
              "      height: 32px;\n",
              "      padding: 0 0 0 0;\n",
              "      width: 32px;\n",
              "    }\n",
              "\n",
              "    .colab-df-convert:hover {\n",
              "      background-color: #E2EBFA;\n",
              "      box-shadow: 0px 1px 2px rgba(60, 64, 67, 0.3), 0px 1px 3px 1px rgba(60, 64, 67, 0.15);\n",
              "      fill: #174EA6;\n",
              "    }\n",
              "\n",
              "    [theme=dark] .colab-df-convert {\n",
              "      background-color: #3B4455;\n",
              "      fill: #D2E3FC;\n",
              "    }\n",
              "\n",
              "    [theme=dark] .colab-df-convert:hover {\n",
              "      background-color: #434B5C;\n",
              "      box-shadow: 0px 1px 3px 1px rgba(0, 0, 0, 0.15);\n",
              "      filter: drop-shadow(0px 1px 2px rgba(0, 0, 0, 0.3));\n",
              "      fill: #FFFFFF;\n",
              "    }\n",
              "  </style>\n",
              "\n",
              "      <script>\n",
              "        const buttonEl =\n",
              "          document.querySelector('#df-d99e276e-3b9c-4fc6-9a17-5a1c71ee1a23 button.colab-df-convert');\n",
              "        buttonEl.style.display =\n",
              "          google.colab.kernel.accessAllowed ? 'block' : 'none';\n",
              "\n",
              "        async function convertToInteractive(key) {\n",
              "          const element = document.querySelector('#df-d99e276e-3b9c-4fc6-9a17-5a1c71ee1a23');\n",
              "          const dataTable =\n",
              "            await google.colab.kernel.invokeFunction('convertToInteractive',\n",
              "                                                     [key], {});\n",
              "          if (!dataTable) return;\n",
              "\n",
              "          const docLinkHtml = 'Like what you see? Visit the ' +\n",
              "            '<a target=\"_blank\" href=https://colab.research.google.com/notebooks/data_table.ipynb>data table notebook</a>'\n",
              "            + ' to learn more about interactive tables.';\n",
              "          element.innerHTML = '';\n",
              "          dataTable['output_type'] = 'display_data';\n",
              "          await google.colab.output.renderOutput(dataTable, element);\n",
              "          const docLink = document.createElement('div');\n",
              "          docLink.innerHTML = docLinkHtml;\n",
              "          element.appendChild(docLink);\n",
              "        }\n",
              "      </script>\n",
              "    </div>\n",
              "  </div>\n",
              "  "
            ],
            "text/plain": [
              "0  year  rail_id station  ... day_fmt  required_time timeStamp\n",
              "0  2017  8734960   DRCHS  ...      01  2017020109:12     33120\n",
              "1  2017  8734960  WARHAM  ...      01  2017020109:27     34020\n",
              "2  2017  8734960  HMWTHY  ...      01  2017020109:34     34440\n",
              "3  2017  8734960   POOLE  ...      01  2017020109:39     34740\n",
              "4  2017  8734960  PSTONE  ...      01  2017020109:44     35040\n",
              "\n",
              "[5 rows x 10 columns]"
            ]
          },
          "metadata": {},
          "execution_count": 761
        }
      ]
    },
    {
      "cell_type": "code",
      "source": [
        "from datetime import datetime"
      ],
      "metadata": {
        "id": "FnDWLy1AbNOG"
      },
      "execution_count": 590,
      "outputs": []
    },
    {
      "cell_type": "code",
      "source": [
        "import time\n",
        "import datetime\n",
        "\n",
        "\"\"\"date = datetime.datetime.strptime(x[0], \"%H:%M\")\"\"\"\n",
        "\n",
        "actual_arr_list = []\n",
        "for x in new_df['planned_arr'].values:\n",
        "  if len(x) == 5:\n",
        "    k = datetime.datetime.strptime(x, \"%H:%M\")\n",
        "    t = (k.hour * 60 * 60) + (k.minute * 60)\n",
        "  else:\n",
        "    t = 0\n",
        "\n",
        "  actual_arr_list.append(t)  "
      ],
      "metadata": {
        "id": "dOxq_O6SbPcq"
      },
      "execution_count": 591,
      "outputs": []
    },
    {
      "cell_type": "code",
      "source": [
        "new_df['timeStamp'] = actual_arr_list"
      ],
      "metadata": {
        "id": "G6hZhJclhPI_"
      },
      "execution_count": 592,
      "outputs": []
    },
    {
      "cell_type": "code",
      "source": [
        "x = new_df['planned_arr'].values"
      ],
      "metadata": {
        "id": "Bg9REFpP0DDV"
      },
      "execution_count": 593,
      "outputs": []
    },
    {
      "cell_type": "code",
      "source": [
        "import time\n",
        "import datetime\n",
        "date = datetime.datetime.strptime(x[0], \"%H:%M\")"
      ],
      "metadata": {
        "id": "fAAIVO3Q3pbc"
      },
      "execution_count": 594,
      "outputs": []
    },
    {
      "cell_type": "code",
      "source": [
        "\n",
        "from numpy import array\n",
        "from numpy import argmax\n",
        "from sklearn.preprocessing import LabelEncoder\n",
        "from sklearn.preprocessing import OneHotEncoder\n",
        "# define example\n",
        "data = data_frame['station'].values\n",
        "values = array(data)\n",
        "print(values)\n",
        "# integer encode\n",
        "label_encoder = LabelEncoder()\n",
        "integer_encoded = label_encoder.fit_transform(values)\n",
        "print(integer_encoded)\n",
        "# binary encode\n",
        "onehot_encoder = OneHotEncoder(sparse=False)\n",
        "integer_encoded = integer_encoded.reshape(len(integer_encoded), 1)\n",
        "onehot_encoded = onehot_encoder.fit_transform(integer_encoded)\n",
        "print(onehot_encoded)\n",
        "# invert first example\n",
        "inverted = label_encoder.inverse_transform([argmax(onehot_encoded[1, :])])\n",
        "print(inverted)"
      ],
      "metadata": {
        "colab": {
          "base_uri": "https://localhost:8080/"
        },
        "id": "1INn7DZ-NFcP",
        "outputId": "734e941c-969c-4b9f-a823-65b6439f5d1a"
      },
      "execution_count": 595,
      "outputs": [
        {
          "output_type": "stream",
          "name": "stdout",
          "text": [
            "['DRCHS' 'WARHAM' 'HMWTHY' ... 'WDON' 'CLPHMJM' 'WATRLMN']\n",
            "[12 61 28 ... 64  9 62]\n",
            "[[0. 0. 0. ... 0. 0. 0.]\n",
            " [0. 0. 0. ... 0. 0. 0.]\n",
            " [0. 0. 0. ... 0. 0. 0.]\n",
            " ...\n",
            " [0. 0. 0. ... 0. 0. 0.]\n",
            " [0. 0. 0. ... 0. 0. 0.]\n",
            " [0. 0. 0. ... 0. 0. 0.]]\n",
            "['WARHAM']\n"
          ]
        }
      ]
    },
    {
      "cell_type": "code",
      "source": [
        "final_main_df.head(5)"
      ],
      "metadata": {
        "colab": {
          "base_uri": "https://localhost:8080/",
          "height": 206
        },
        "id": "5qN469J0eZBl",
        "outputId": "f7470d40-c5ba-4c9b-df5b-e142ba36fd42"
      },
      "execution_count": 596,
      "outputs": [
        {
          "output_type": "execute_result",
          "data": {
            "text/html": [
              "\n",
              "  <div id=\"df-d1f48fd9-0b1e-4b0e-9a4e-c0a8ec1bb208\">\n",
              "    <div class=\"colab-df-container\">\n",
              "      <div>\n",
              "<style scoped>\n",
              "    .dataframe tbody tr th:only-of-type {\n",
              "        vertical-align: middle;\n",
              "    }\n",
              "\n",
              "    .dataframe tbody tr th {\n",
              "        vertical-align: top;\n",
              "    }\n",
              "\n",
              "    .dataframe thead th {\n",
              "        text-align: right;\n",
              "    }\n",
              "</style>\n",
              "<table border=\"1\" class=\"dataframe\">\n",
              "  <thead>\n",
              "    <tr style=\"text-align: right;\">\n",
              "      <th></th>\n",
              "      <th>timestamps</th>\n",
              "      <th>station</th>\n",
              "      <th>rail_ids</th>\n",
              "    </tr>\n",
              "  </thead>\n",
              "  <tbody>\n",
              "    <tr>\n",
              "      <th>0</th>\n",
              "      <td>33120</td>\n",
              "      <td>12</td>\n",
              "      <td>8734960</td>\n",
              "    </tr>\n",
              "    <tr>\n",
              "      <th>1</th>\n",
              "      <td>34020</td>\n",
              "      <td>61</td>\n",
              "      <td>8734960</td>\n",
              "    </tr>\n",
              "    <tr>\n",
              "      <th>2</th>\n",
              "      <td>34440</td>\n",
              "      <td>28</td>\n",
              "      <td>8734960</td>\n",
              "    </tr>\n",
              "    <tr>\n",
              "      <th>3</th>\n",
              "      <td>34740</td>\n",
              "      <td>40</td>\n",
              "      <td>8734960</td>\n",
              "    </tr>\n",
              "    <tr>\n",
              "      <th>4</th>\n",
              "      <td>35040</td>\n",
              "      <td>41</td>\n",
              "      <td>8734960</td>\n",
              "    </tr>\n",
              "  </tbody>\n",
              "</table>\n",
              "</div>\n",
              "      <button class=\"colab-df-convert\" onclick=\"convertToInteractive('df-d1f48fd9-0b1e-4b0e-9a4e-c0a8ec1bb208')\"\n",
              "              title=\"Convert this dataframe to an interactive table.\"\n",
              "              style=\"display:none;\">\n",
              "        \n",
              "  <svg xmlns=\"http://www.w3.org/2000/svg\" height=\"24px\"viewBox=\"0 0 24 24\"\n",
              "       width=\"24px\">\n",
              "    <path d=\"M0 0h24v24H0V0z\" fill=\"none\"/>\n",
              "    <path d=\"M18.56 5.44l.94 2.06.94-2.06 2.06-.94-2.06-.94-.94-2.06-.94 2.06-2.06.94zm-11 1L8.5 8.5l.94-2.06 2.06-.94-2.06-.94L8.5 2.5l-.94 2.06-2.06.94zm10 10l.94 2.06.94-2.06 2.06-.94-2.06-.94-.94-2.06-.94 2.06-2.06.94z\"/><path d=\"M17.41 7.96l-1.37-1.37c-.4-.4-.92-.59-1.43-.59-.52 0-1.04.2-1.43.59L10.3 9.45l-7.72 7.72c-.78.78-.78 2.05 0 2.83L4 21.41c.39.39.9.59 1.41.59.51 0 1.02-.2 1.41-.59l7.78-7.78 2.81-2.81c.8-.78.8-2.07 0-2.86zM5.41 20L4 18.59l7.72-7.72 1.47 1.35L5.41 20z\"/>\n",
              "  </svg>\n",
              "      </button>\n",
              "      \n",
              "  <style>\n",
              "    .colab-df-container {\n",
              "      display:flex;\n",
              "      flex-wrap:wrap;\n",
              "      gap: 12px;\n",
              "    }\n",
              "\n",
              "    .colab-df-convert {\n",
              "      background-color: #E8F0FE;\n",
              "      border: none;\n",
              "      border-radius: 50%;\n",
              "      cursor: pointer;\n",
              "      display: none;\n",
              "      fill: #1967D2;\n",
              "      height: 32px;\n",
              "      padding: 0 0 0 0;\n",
              "      width: 32px;\n",
              "    }\n",
              "\n",
              "    .colab-df-convert:hover {\n",
              "      background-color: #E2EBFA;\n",
              "      box-shadow: 0px 1px 2px rgba(60, 64, 67, 0.3), 0px 1px 3px 1px rgba(60, 64, 67, 0.15);\n",
              "      fill: #174EA6;\n",
              "    }\n",
              "\n",
              "    [theme=dark] .colab-df-convert {\n",
              "      background-color: #3B4455;\n",
              "      fill: #D2E3FC;\n",
              "    }\n",
              "\n",
              "    [theme=dark] .colab-df-convert:hover {\n",
              "      background-color: #434B5C;\n",
              "      box-shadow: 0px 1px 3px 1px rgba(0, 0, 0, 0.15);\n",
              "      filter: drop-shadow(0px 1px 2px rgba(0, 0, 0, 0.3));\n",
              "      fill: #FFFFFF;\n",
              "    }\n",
              "  </style>\n",
              "\n",
              "      <script>\n",
              "        const buttonEl =\n",
              "          document.querySelector('#df-d1f48fd9-0b1e-4b0e-9a4e-c0a8ec1bb208 button.colab-df-convert');\n",
              "        buttonEl.style.display =\n",
              "          google.colab.kernel.accessAllowed ? 'block' : 'none';\n",
              "\n",
              "        async function convertToInteractive(key) {\n",
              "          const element = document.querySelector('#df-d1f48fd9-0b1e-4b0e-9a4e-c0a8ec1bb208');\n",
              "          const dataTable =\n",
              "            await google.colab.kernel.invokeFunction('convertToInteractive',\n",
              "                                                     [key], {});\n",
              "          if (!dataTable) return;\n",
              "\n",
              "          const docLinkHtml = 'Like what you see? Visit the ' +\n",
              "            '<a target=\"_blank\" href=https://colab.research.google.com/notebooks/data_table.ipynb>data table notebook</a>'\n",
              "            + ' to learn more about interactive tables.';\n",
              "          element.innerHTML = '';\n",
              "          dataTable['output_type'] = 'display_data';\n",
              "          await google.colab.output.renderOutput(dataTable, element);\n",
              "          const docLink = document.createElement('div');\n",
              "          docLink.innerHTML = docLinkHtml;\n",
              "          element.appendChild(docLink);\n",
              "        }\n",
              "      </script>\n",
              "    </div>\n",
              "  </div>\n",
              "  "
            ],
            "text/plain": [
              "   timestamps  station rail_ids\n",
              "0       33120       12  8734960\n",
              "1       34020       61  8734960\n",
              "2       34440       28  8734960\n",
              "3       34740       40  8734960\n",
              "4       35040       41  8734960"
            ]
          },
          "metadata": {},
          "execution_count": 596
        }
      ]
    },
    {
      "cell_type": "code",
      "source": [
        "# list of integer encode values\n",
        "\n",
        "list_of_int_encoded = []\n",
        "\n",
        "for t in range(0,len(integer_encoded)):\n",
        "  list_of_int_encoded.append(integer_encoded[t][0])"
      ],
      "metadata": {
        "id": "7ki0BeIIQDVN"
      },
      "execution_count": 597,
      "outputs": []
    },
    {
      "cell_type": "code",
      "source": [
        "final_main_df = pd.DataFrame()"
      ],
      "metadata": {
        "id": "YNbsEH9_QsRa"
      },
      "execution_count": 598,
      "outputs": []
    },
    {
      "cell_type": "code",
      "source": [
        "final_main_df['timestamps'] = actual_arr_list\n",
        "final_main_df['station'] = list_of_int_encoded\n",
        "final_main_df['rail_ids'] = data_frame['rail_id']\n",
        "final_main_df['station_name'] = values"
      ],
      "metadata": {
        "id": "A5eYtuptQzUR"
      },
      "execution_count": 599,
      "outputs": []
    },
    {
      "cell_type": "markdown",
      "source": [
        "#  models"
      ],
      "metadata": {
        "id": "08uWV6QMu7ln"
      }
    },
    {
      "cell_type": "code",
      "source": [
        "x = integer_encoded"
      ],
      "metadata": {
        "id": "yJVBxIZvvfrE"
      },
      "execution_count": 600,
      "outputs": []
    },
    {
      "cell_type": "code",
      "source": [
        "final_main_df.info()"
      ],
      "metadata": {
        "colab": {
          "base_uri": "https://localhost:8080/"
        },
        "id": "CKoln2l5v-lo",
        "outputId": "0a4b6cab-9fba-49ee-e2e4-06983d896d4a"
      },
      "execution_count": 601,
      "outputs": [
        {
          "output_type": "stream",
          "name": "stdout",
          "text": [
            "<class 'pandas.core.frame.DataFrame'>\n",
            "RangeIndex: 303824 entries, 0 to 303823\n",
            "Data columns (total 4 columns):\n",
            " #   Column        Non-Null Count   Dtype \n",
            "---  ------        --------------   ----- \n",
            " 0   timestamps    303824 non-null  int64 \n",
            " 1   station       303824 non-null  int64 \n",
            " 2   rail_ids      303824 non-null  object\n",
            " 3   station_name  303824 non-null  object\n",
            "dtypes: int64(2), object(2)\n",
            "memory usage: 9.3+ MB\n"
          ]
        }
      ]
    },
    {
      "cell_type": "markdown",
      "source": [
        "# Class starts from here"
      ],
      "metadata": {
        "id": "VmlL5YtAtqre"
      }
    },
    {
      "cell_type": "code",
      "source": [
        "index_for_x = []\n",
        "for i in range(0,len(final_main_df['rail_ids'])):\n",
        "  if final_main_df['rail_ids'][i] == '8734960':\n",
        "    index_for_x.append(i)"
      ],
      "metadata": {
        "id": "KyrQQlWWvtzC"
      },
      "execution_count": 602,
      "outputs": []
    },
    {
      "cell_type": "code",
      "source": [
        "final_main_df.info()"
      ],
      "metadata": {
        "colab": {
          "base_uri": "https://localhost:8080/"
        },
        "id": "_f2YMfozyDNS",
        "outputId": "191c1988-f0b8-4be7-9b71-0494906bc9d5"
      },
      "execution_count": 603,
      "outputs": [
        {
          "output_type": "stream",
          "name": "stdout",
          "text": [
            "<class 'pandas.core.frame.DataFrame'>\n",
            "RangeIndex: 303824 entries, 0 to 303823\n",
            "Data columns (total 4 columns):\n",
            " #   Column        Non-Null Count   Dtype \n",
            "---  ------        --------------   ----- \n",
            " 0   timestamps    303824 non-null  int64 \n",
            " 1   station       303824 non-null  int64 \n",
            " 2   rail_ids      303824 non-null  object\n",
            " 3   station_name  303824 non-null  object\n",
            "dtypes: int64(2), object(2)\n",
            "memory usage: 9.3+ MB\n"
          ]
        }
      ]
    },
    {
      "cell_type": "code",
      "source": [
        "y_list = []\n",
        "x_list = []\n",
        "for u in range(0,len(final_main_df['timestamps'])):\n",
        "  if u in index_for_x:\n",
        "    y_list.append(final_main_df['timestamps'][u])\n",
        "    x_list.append(final_main_df['station'][u])\n",
        "\n"
      ],
      "metadata": {
        "id": "H45FTBrxxJq0"
      },
      "execution_count": 604,
      "outputs": []
    },
    {
      "cell_type": "markdown",
      "source": [
        "# Test"
      ],
      "metadata": {
        "id": "xmeZaQqT-w-z"
      }
    },
    {
      "cell_type": "code",
      "source": [
        "from sklearn.metrics import precision_recall_fscore_support\n",
        "from sklearn.metrics import f1_score"
      ],
      "metadata": {
        "id": "iayGLY2wDqrQ"
      },
      "execution_count": 605,
      "outputs": []
    },
    {
      "cell_type": "code",
      "source": [
        "# Splitting into training and testing\n",
        "#splitting into train and test\n",
        "from sklearn.model_selection import train_test_split\n",
        "\n",
        "# Without stratification divide into first partition and test set.\n",
        "train_X,test_X, train_y, test_y= train_test_split (x_list,y_list, test_size=0.4,random_state=10)\n"
      ],
      "metadata": {
        "id": "ck0oe8AfDQ3X"
      },
      "execution_count": 606,
      "outputs": []
    },
    {
      "cell_type": "code",
      "source": [
        "train_X = np.array(train_X).reshape(-1,1)\n",
        "train_y = np.array(train_y).reshape(-1,1)\n",
        "test_X = np.array(test_X).reshape(-1,1)\n",
        "test_y = np.array(test_y).reshape(-1,1)"
      ],
      "metadata": {
        "id": "ZAVkKTMHQJEo"
      },
      "execution_count": 607,
      "outputs": []
    },
    {
      "cell_type": "code",
      "source": [
        "#classifier 1\n",
        "#LinearSVC\n",
        "\n",
        "from sklearn.svm import LinearSVC\n",
        "\n",
        "svc = LinearSVC()\n",
        "svc.fit(train_X, train_y);"
      ],
      "metadata": {
        "colab": {
          "base_uri": "https://localhost:8080/"
        },
        "id": "VxN8zXxbDdNs",
        "outputId": "cd14ccda-65f4-43e6-825e-a4bfe12c5e2b"
      },
      "execution_count": 608,
      "outputs": [
        {
          "output_type": "stream",
          "name": "stderr",
          "text": [
            "/usr/local/lib/python3.7/dist-packages/sklearn/utils/validation.py:993: DataConversionWarning: A column-vector y was passed when a 1d array was expected. Please change the shape of y to (n_samples, ), for example using ravel().\n",
            "  y = column_or_1d(y, warn=True)\n",
            "/usr/local/lib/python3.7/dist-packages/sklearn/svm/_base.py:1208: ConvergenceWarning: Liblinear failed to converge, increase the number of iterations.\n",
            "  ConvergenceWarning,\n"
          ]
        }
      ]
    },
    {
      "cell_type": "code",
      "source": [
        "precision_recall_fscore_support(test_y, svc.predict(test_X), average='macro')"
      ],
      "metadata": {
        "colab": {
          "base_uri": "https://localhost:8080/"
        },
        "id": "92eX-GGVDxOq",
        "outputId": "5b6028e5-48c3-4a19-cf78-4b566db34d9d"
      },
      "execution_count": 609,
      "outputs": [
        {
          "output_type": "stream",
          "name": "stderr",
          "text": [
            "/usr/local/lib/python3.7/dist-packages/sklearn/metrics/_classification.py:1318: UndefinedMetricWarning: Precision and F-score are ill-defined and being set to 0.0 in labels with no predicted samples. Use `zero_division` parameter to control this behavior.\n",
            "  _warn_prf(average, modifier, msg_start, len(result))\n"
          ]
        },
        {
          "output_type": "execute_result",
          "data": {
            "text/plain": [
              "(0.052642368838009254, 0.1, 0.06102452598929453, None)"
            ]
          },
          "metadata": {},
          "execution_count": 609
        }
      ]
    },
    {
      "cell_type": "code",
      "source": [
        "#classifier 2\n",
        "#NaiveBayes\n",
        "\n",
        "from sklearn.naive_bayes import GaussianNB\n",
        "\n",
        "naive_bayes = GaussianNB()\n",
        "naive_bayes.fit(train_X, train_y);"
      ],
      "metadata": {
        "id": "XCTrVEVUD5iu",
        "colab": {
          "base_uri": "https://localhost:8080/"
        },
        "outputId": "8ab7bae4-fd48-479d-cca8-4c0de2cbab61"
      },
      "execution_count": 610,
      "outputs": [
        {
          "output_type": "stream",
          "name": "stderr",
          "text": [
            "/usr/local/lib/python3.7/dist-packages/sklearn/utils/validation.py:993: DataConversionWarning: A column-vector y was passed when a 1d array was expected. Please change the shape of y to (n_samples, ), for example using ravel().\n",
            "  y = column_or_1d(y, warn=True)\n"
          ]
        }
      ]
    },
    {
      "cell_type": "code",
      "source": [
        "precision_recall_fscore_support(test_y, naive_bayes.predict(test_X), average='macro')"
      ],
      "metadata": {
        "colab": {
          "base_uri": "https://localhost:8080/"
        },
        "id": "YxlvjyWfD6Mc",
        "outputId": "9270174a-bea3-4daf-995d-b4b43830c1da"
      },
      "execution_count": 611,
      "outputs": [
        {
          "output_type": "stream",
          "name": "stderr",
          "text": [
            "/usr/local/lib/python3.7/dist-packages/sklearn/metrics/_classification.py:1318: UndefinedMetricWarning: Precision and F-score are ill-defined and being set to 0.0 in labels with no predicted samples. Use `zero_division` parameter to control this behavior.\n",
            "  _warn_prf(average, modifier, msg_start, len(result))\n"
          ]
        },
        {
          "output_type": "execute_result",
          "data": {
            "text/plain": [
              "(0.5438434314714722, 0.5666666666666667, 0.5536577648064896, None)"
            ]
          },
          "metadata": {},
          "execution_count": 611
        }
      ]
    },
    {
      "cell_type": "code",
      "source": [
        "#classifier 3\n",
        "#stochastic gradient descent\n",
        "from sklearn.linear_model import SGDClassifier\n",
        "\n",
        "sgd = SGDClassifier()\n",
        "sgd.fit(train_X, train_y);"
      ],
      "metadata": {
        "id": "9O09-JaVD-xR",
        "colab": {
          "base_uri": "https://localhost:8080/"
        },
        "outputId": "5cd7711b-0416-485a-8c9d-997e05b47662"
      },
      "execution_count": 612,
      "outputs": [
        {
          "output_type": "stream",
          "name": "stderr",
          "text": [
            "/usr/local/lib/python3.7/dist-packages/sklearn/utils/validation.py:993: DataConversionWarning: A column-vector y was passed when a 1d array was expected. Please change the shape of y to (n_samples, ), for example using ravel().\n",
            "  y = column_or_1d(y, warn=True)\n"
          ]
        }
      ]
    },
    {
      "cell_type": "code",
      "source": [
        "precision_recall_fscore_support(test_y, sgd.predict(test_X), average='macro')"
      ],
      "metadata": {
        "colab": {
          "base_uri": "https://localhost:8080/"
        },
        "id": "jGNEOwbTED3H",
        "outputId": "3b45b716-4c92-45c5-9534-1c9b96f0bd3f"
      },
      "execution_count": 613,
      "outputs": [
        {
          "output_type": "stream",
          "name": "stderr",
          "text": [
            "/usr/local/lib/python3.7/dist-packages/sklearn/metrics/_classification.py:1318: UndefinedMetricWarning: Precision and F-score are ill-defined and being set to 0.0 in labels with no predicted samples. Use `zero_division` parameter to control this behavior.\n",
            "  _warn_prf(average, modifier, msg_start, len(result))\n"
          ]
        },
        {
          "output_type": "execute_result",
          "data": {
            "text/plain": [
              "(0.05401452609735192, 0.1, 0.06311960492282939, None)"
            ]
          },
          "metadata": {},
          "execution_count": 613
        }
      ]
    },
    {
      "cell_type": "code",
      "source": [
        "#classifier 4\n",
        "#knn classifier\n",
        "from sklearn.neighbors import KNeighborsClassifier\n",
        "\n",
        "clf_nn = KNeighborsClassifier(n_neighbors=5)\n",
        "clf_knn=clf_nn\n",
        "clf_knn.fit(train_X,train_y)\n",
        "y_hat = clf_knn.predict(test_X)\n",
        "y_hat\n",
        "\n",
        "\n",
        "from sklearn.metrics import accuracy_score\n",
        "\n",
        "#we can use the built in accuracy metrics in sklearn.\n",
        "accuracy = accuracy_score(test_y, y_hat)\n",
        "print('calculated accuracy:',accuracy)"
      ],
      "metadata": {
        "colab": {
          "base_uri": "https://localhost:8080/"
        },
        "id": "J8Qu939gEGTB",
        "outputId": "1be50ccc-eabe-4138-dac1-4f63ea158412"
      },
      "execution_count": 614,
      "outputs": [
        {
          "output_type": "stream",
          "name": "stderr",
          "text": [
            "/usr/local/lib/python3.7/dist-packages/sklearn/neighbors/_classification.py:198: DataConversionWarning: A column-vector y was passed when a 1d array was expected. Please change the shape of y to (n_samples,), for example using ravel().\n",
            "  return self._fit(X, y)\n"
          ]
        },
        {
          "output_type": "stream",
          "name": "stdout",
          "text": [
            "calculated accuracy: 0.9710806697108066\n"
          ]
        }
      ]
    },
    {
      "cell_type": "code",
      "source": [
        "precision_recall_fscore_support(test_y, y_hat, average='macro')"
      ],
      "metadata": {
        "colab": {
          "base_uri": "https://localhost:8080/"
        },
        "id": "aDKMcAxlEK3L",
        "outputId": "ad2434c6-509d-4a2b-f402-39950e23b102"
      },
      "execution_count": 615,
      "outputs": [
        {
          "output_type": "stream",
          "name": "stderr",
          "text": [
            "/usr/local/lib/python3.7/dist-packages/sklearn/metrics/_classification.py:1318: UndefinedMetricWarning: Precision and F-score are ill-defined and being set to 0.0 in labels with no predicted samples. Use `zero_division` parameter to control this behavior.\n",
            "  _warn_prf(average, modifier, msg_start, len(result))\n"
          ]
        },
        {
          "output_type": "execute_result",
          "data": {
            "text/plain": [
              "(0.510166455526455, 0.5333333333333333, 0.520151719901481, None)"
            ]
          },
          "metadata": {},
          "execution_count": 615
        }
      ]
    },
    {
      "cell_type": "code",
      "source": [
        "#classifier 5\n",
        "#Random forest classifier\n",
        "from sklearn.ensemble import RandomForestClassifier\n",
        "\n",
        "random_variable = RandomForestClassifier(max_depth=100)\n",
        "\n",
        "random_variable.fit(train_X,train_y)\n",
        "\n",
        "new_random_variable = random_variable.predict(test_X)\n",
        "\n",
        "new_random_variable\n",
        "\n",
        "\n",
        "from sklearn.metrics import accuracy_score\n",
        "\n",
        "#we can use the built in accuracy metrics in sklearn.\n",
        "accuracy2 = accuracy_score(test_y, new_random_variable)\n",
        "print('Sklearn calculated accuracy:',accuracy2)"
      ],
      "metadata": {
        "colab": {
          "base_uri": "https://localhost:8080/"
        },
        "id": "6du2e3vUEN_K",
        "outputId": "ded6bc49-b701-495e-ae9d-c54f29df14d2"
      },
      "execution_count": 616,
      "outputs": [
        {
          "output_type": "stream",
          "name": "stderr",
          "text": [
            "/usr/local/lib/python3.7/dist-packages/ipykernel_launcher.py:7: DataConversionWarning: A column-vector y was passed when a 1d array was expected. Please change the shape of y to (n_samples,), for example using ravel().\n",
            "  import sys\n"
          ]
        },
        {
          "output_type": "stream",
          "name": "stdout",
          "text": [
            "Sklearn calculated accuracy: 0.971841704718417\n"
          ]
        }
      ]
    },
    {
      "cell_type": "code",
      "source": [
        "precision_recall_fscore_support(test_y, new_random_variable, average='macro')"
      ],
      "metadata": {
        "colab": {
          "base_uri": "https://localhost:8080/"
        },
        "id": "pPYFv4OwEY8b",
        "outputId": "e9374346-b7d9-430d-e46d-a97999abab9d"
      },
      "execution_count": 617,
      "outputs": [
        {
          "output_type": "stream",
          "name": "stderr",
          "text": [
            "/usr/local/lib/python3.7/dist-packages/sklearn/metrics/_classification.py:1318: UndefinedMetricWarning: Precision and F-score are ill-defined and being set to 0.0 in labels with no predicted samples. Use `zero_division` parameter to control this behavior.\n",
            "  _warn_prf(average, modifier, msg_start, len(result))\n"
          ]
        },
        {
          "output_type": "execute_result",
          "data": {
            "text/plain": [
              "(0.5438434314714722, 0.5666666666666667, 0.5536577648064896, None)"
            ]
          },
          "metadata": {},
          "execution_count": 617
        }
      ]
    },
    {
      "cell_type": "code",
      "source": [
        "#classifier 6\n",
        "#decision tree classifier\n",
        "from sklearn.tree import DecisionTreeClassifier\n",
        "\n",
        "decision_tree = DecisionTreeClassifier(max_depth=100)\n",
        "\n",
        "decision_tree.fit(train_X,train_y)\n",
        "\n",
        "new_decision_tree = decision_tree.predict(test_X)\n",
        "\n",
        "decision_tree\n",
        "\n",
        "\n",
        "from sklearn.metrics import accuracy_score\n",
        "\n",
        "#we can use the built in accuracy metrics in sklearn.\n",
        "accuracy3 = accuracy_score(test_y, new_decision_tree)\n",
        "print('Sklearn calculated accuracy:',accuracy3)"
      ],
      "metadata": {
        "colab": {
          "base_uri": "https://localhost:8080/"
        },
        "id": "5PQrqCkUEbq1",
        "outputId": "9d9ec660-8166-409e-db22-617f5ac91a14"
      },
      "execution_count": 618,
      "outputs": [
        {
          "output_type": "stream",
          "name": "stdout",
          "text": [
            "Sklearn calculated accuracy: 0.971841704718417\n"
          ]
        }
      ]
    },
    {
      "cell_type": "code",
      "source": [
        "precision_recall_fscore_support(test_y, new_decision_tree, average='macro')"
      ],
      "metadata": {
        "colab": {
          "base_uri": "https://localhost:8080/"
        },
        "id": "56oydpfOEfCt",
        "outputId": "dadc6051-adb3-4e9a-b6f4-09b75e34758c"
      },
      "execution_count": 619,
      "outputs": [
        {
          "output_type": "stream",
          "name": "stderr",
          "text": [
            "/usr/local/lib/python3.7/dist-packages/sklearn/metrics/_classification.py:1318: UndefinedMetricWarning: Precision and F-score are ill-defined and being set to 0.0 in labels with no predicted samples. Use `zero_division` parameter to control this behavior.\n",
            "  _warn_prf(average, modifier, msg_start, len(result))\n"
          ]
        },
        {
          "output_type": "execute_result",
          "data": {
            "text/plain": [
              "(0.5438434314714722, 0.5666666666666667, 0.5536577648064896, None)"
            ]
          },
          "metadata": {},
          "execution_count": 619
        }
      ]
    },
    {
      "cell_type": "code",
      "source": [
        "#scores\n",
        "#comparison of classifiers\n",
        "\n",
        "from sklearn.metrics import accuracy_score\n",
        "\n",
        "classifiers = [svc, sgd,  naive_bayes ,clf_nn,decision_tree, random_variable]\n",
        "\n",
        "# for each classifier get the accuracy score\n",
        "scores = [accuracy_score(clf.predict(test_X), test_y) for clf in classifiers]\n",
        "    \n",
        "index = np.argmax(scores)\n",
        "\n",
        "print(scores,2)\n",
        "\n",
        "print(classifiers[index])\n",
        "print(\"highest score\",round(scores[index],2))\n",
        "accuracy_percentage = (round(scores[index],2))*100\n",
        "print(\"ACCURACY PERCENTAGE FOR CLASSIFIER \",accuracy_percentage,\"%\") "
      ],
      "metadata": {
        "colab": {
          "base_uri": "https://localhost:8080/"
        },
        "id": "y6bPEG0SEmN9",
        "outputId": "2a0d2641-ce86-4501-9bc9-b6fa0b86be39"
      },
      "execution_count": 620,
      "outputs": [
        {
          "output_type": "stream",
          "name": "stdout",
          "text": [
            "[0.21689497716894976, 0.2267884322678843, 0.971841704718417, 0.9710806697108066, 0.971841704718417, 0.971841704718417] 2\n",
            "GaussianNB()\n",
            "highest score 0.97\n",
            "ACCURACY PERCENTAGE FOR CLASSIFIER  97.0 %\n"
          ]
        }
      ]
    },
    {
      "cell_type": "markdown",
      "source": [
        "# Test for linear regression\n"
      ],
      "metadata": {
        "id": "8QWhhmKyHe3h"
      }
    },
    {
      "cell_type": "code",
      "source": [
        "new_df.head(5)"
      ],
      "metadata": {
        "colab": {
          "base_uri": "https://localhost:8080/",
          "height": 206
        },
        "id": "7Pk6Ui0o6o6u",
        "outputId": "1fff9958-fb38-487e-ea28-f143176f833e"
      },
      "execution_count": 621,
      "outputs": [
        {
          "output_type": "execute_result",
          "data": {
            "text/html": [
              "\n",
              "  <div id=\"df-c65aba45-fa4d-45e1-8b73-2912f68947ed\">\n",
              "    <div class=\"colab-df-container\">\n",
              "      <div>\n",
              "<style scoped>\n",
              "    .dataframe tbody tr th:only-of-type {\n",
              "        vertical-align: middle;\n",
              "    }\n",
              "\n",
              "    .dataframe tbody tr th {\n",
              "        vertical-align: top;\n",
              "    }\n",
              "\n",
              "    .dataframe thead th {\n",
              "        text-align: right;\n",
              "    }\n",
              "</style>\n",
              "<table border=\"1\" class=\"dataframe\">\n",
              "  <thead>\n",
              "    <tr style=\"text-align: right;\">\n",
              "      <th></th>\n",
              "      <th>year</th>\n",
              "      <th>rail_id</th>\n",
              "      <th>station</th>\n",
              "      <th>planned_arr</th>\n",
              "      <th>planned_dep</th>\n",
              "      <th>actual_arr</th>\n",
              "      <th>month_fmt</th>\n",
              "      <th>day_fmt</th>\n",
              "      <th>required_time</th>\n",
              "      <th>timeStamp</th>\n",
              "    </tr>\n",
              "  </thead>\n",
              "  <tbody>\n",
              "    <tr>\n",
              "      <th>0</th>\n",
              "      <td>2017</td>\n",
              "      <td>8734960</td>\n",
              "      <td>DRCHS</td>\n",
              "      <td>09:12</td>\n",
              "      <td>09:12</td>\n",
              "      <td>09:11</td>\n",
              "      <td>02</td>\n",
              "      <td>01</td>\n",
              "      <td>2017020109:12</td>\n",
              "      <td>33120</td>\n",
              "    </tr>\n",
              "    <tr>\n",
              "      <th>1</th>\n",
              "      <td>2017</td>\n",
              "      <td>8734960</td>\n",
              "      <td>WARHAM</td>\n",
              "      <td>09:27</td>\n",
              "      <td>09:29</td>\n",
              "      <td>09:27</td>\n",
              "      <td>02</td>\n",
              "      <td>01</td>\n",
              "      <td>2017020109:27</td>\n",
              "      <td>34020</td>\n",
              "    </tr>\n",
              "    <tr>\n",
              "      <th>2</th>\n",
              "      <td>2017</td>\n",
              "      <td>8734960</td>\n",
              "      <td>HMWTHY</td>\n",
              "      <td>09:34</td>\n",
              "      <td>09:35</td>\n",
              "      <td>09:33</td>\n",
              "      <td>02</td>\n",
              "      <td>01</td>\n",
              "      <td>2017020109:34</td>\n",
              "      <td>34440</td>\n",
              "    </tr>\n",
              "    <tr>\n",
              "      <th>3</th>\n",
              "      <td>2017</td>\n",
              "      <td>8734960</td>\n",
              "      <td>POOLE</td>\n",
              "      <td>09:39</td>\n",
              "      <td>09:39</td>\n",
              "      <td>09:38</td>\n",
              "      <td>02</td>\n",
              "      <td>01</td>\n",
              "      <td>2017020109:39</td>\n",
              "      <td>34740</td>\n",
              "    </tr>\n",
              "    <tr>\n",
              "      <th>4</th>\n",
              "      <td>2017</td>\n",
              "      <td>8734960</td>\n",
              "      <td>PSTONE</td>\n",
              "      <td>09:44</td>\n",
              "      <td>09:43</td>\n",
              "      <td>09:41</td>\n",
              "      <td>02</td>\n",
              "      <td>01</td>\n",
              "      <td>2017020109:44</td>\n",
              "      <td>35040</td>\n",
              "    </tr>\n",
              "  </tbody>\n",
              "</table>\n",
              "</div>\n",
              "      <button class=\"colab-df-convert\" onclick=\"convertToInteractive('df-c65aba45-fa4d-45e1-8b73-2912f68947ed')\"\n",
              "              title=\"Convert this dataframe to an interactive table.\"\n",
              "              style=\"display:none;\">\n",
              "        \n",
              "  <svg xmlns=\"http://www.w3.org/2000/svg\" height=\"24px\"viewBox=\"0 0 24 24\"\n",
              "       width=\"24px\">\n",
              "    <path d=\"M0 0h24v24H0V0z\" fill=\"none\"/>\n",
              "    <path d=\"M18.56 5.44l.94 2.06.94-2.06 2.06-.94-2.06-.94-.94-2.06-.94 2.06-2.06.94zm-11 1L8.5 8.5l.94-2.06 2.06-.94-2.06-.94L8.5 2.5l-.94 2.06-2.06.94zm10 10l.94 2.06.94-2.06 2.06-.94-2.06-.94-.94-2.06-.94 2.06-2.06.94z\"/><path d=\"M17.41 7.96l-1.37-1.37c-.4-.4-.92-.59-1.43-.59-.52 0-1.04.2-1.43.59L10.3 9.45l-7.72 7.72c-.78.78-.78 2.05 0 2.83L4 21.41c.39.39.9.59 1.41.59.51 0 1.02-.2 1.41-.59l7.78-7.78 2.81-2.81c.8-.78.8-2.07 0-2.86zM5.41 20L4 18.59l7.72-7.72 1.47 1.35L5.41 20z\"/>\n",
              "  </svg>\n",
              "      </button>\n",
              "      \n",
              "  <style>\n",
              "    .colab-df-container {\n",
              "      display:flex;\n",
              "      flex-wrap:wrap;\n",
              "      gap: 12px;\n",
              "    }\n",
              "\n",
              "    .colab-df-convert {\n",
              "      background-color: #E8F0FE;\n",
              "      border: none;\n",
              "      border-radius: 50%;\n",
              "      cursor: pointer;\n",
              "      display: none;\n",
              "      fill: #1967D2;\n",
              "      height: 32px;\n",
              "      padding: 0 0 0 0;\n",
              "      width: 32px;\n",
              "    }\n",
              "\n",
              "    .colab-df-convert:hover {\n",
              "      background-color: #E2EBFA;\n",
              "      box-shadow: 0px 1px 2px rgba(60, 64, 67, 0.3), 0px 1px 3px 1px rgba(60, 64, 67, 0.15);\n",
              "      fill: #174EA6;\n",
              "    }\n",
              "\n",
              "    [theme=dark] .colab-df-convert {\n",
              "      background-color: #3B4455;\n",
              "      fill: #D2E3FC;\n",
              "    }\n",
              "\n",
              "    [theme=dark] .colab-df-convert:hover {\n",
              "      background-color: #434B5C;\n",
              "      box-shadow: 0px 1px 3px 1px rgba(0, 0, 0, 0.15);\n",
              "      filter: drop-shadow(0px 1px 2px rgba(0, 0, 0, 0.3));\n",
              "      fill: #FFFFFF;\n",
              "    }\n",
              "  </style>\n",
              "\n",
              "      <script>\n",
              "        const buttonEl =\n",
              "          document.querySelector('#df-c65aba45-fa4d-45e1-8b73-2912f68947ed button.colab-df-convert');\n",
              "        buttonEl.style.display =\n",
              "          google.colab.kernel.accessAllowed ? 'block' : 'none';\n",
              "\n",
              "        async function convertToInteractive(key) {\n",
              "          const element = document.querySelector('#df-c65aba45-fa4d-45e1-8b73-2912f68947ed');\n",
              "          const dataTable =\n",
              "            await google.colab.kernel.invokeFunction('convertToInteractive',\n",
              "                                                     [key], {});\n",
              "          if (!dataTable) return;\n",
              "\n",
              "          const docLinkHtml = 'Like what you see? Visit the ' +\n",
              "            '<a target=\"_blank\" href=https://colab.research.google.com/notebooks/data_table.ipynb>data table notebook</a>'\n",
              "            + ' to learn more about interactive tables.';\n",
              "          element.innerHTML = '';\n",
              "          dataTable['output_type'] = 'display_data';\n",
              "          await google.colab.output.renderOutput(dataTable, element);\n",
              "          const docLink = document.createElement('div');\n",
              "          docLink.innerHTML = docLinkHtml;\n",
              "          element.appendChild(docLink);\n",
              "        }\n",
              "      </script>\n",
              "    </div>\n",
              "  </div>\n",
              "  "
            ],
            "text/plain": [
              "0  year  rail_id station  ... day_fmt  required_time timeStamp\n",
              "0  2017  8734960   DRCHS  ...      01  2017020109:12     33120\n",
              "1  2017  8734960  WARHAM  ...      01  2017020109:27     34020\n",
              "2  2017  8734960  HMWTHY  ...      01  2017020109:34     34440\n",
              "3  2017  8734960   POOLE  ...      01  2017020109:39     34740\n",
              "4  2017  8734960  PSTONE  ...      01  2017020109:44     35040\n",
              "\n",
              "[5 rows x 10 columns]"
            ]
          },
          "metadata": {},
          "execution_count": 621
        }
      ]
    },
    {
      "cell_type": "code",
      "source": [
        "y_array = np.array(y_list)"
      ],
      "metadata": {
        "id": "HNZCEaX40fTh"
      },
      "execution_count": 622,
      "outputs": []
    },
    {
      "cell_type": "code",
      "source": [
        "x_list = np.array(x_list).reshape(-1,1)"
      ],
      "metadata": {
        "id": "PFGGFkB2SRi8"
      },
      "execution_count": 623,
      "outputs": []
    },
    {
      "cell_type": "code",
      "source": [
        "model = LinearRegression()\n",
        "model.fit(x_list, y_array)\n",
        "r_sq = model.score(x_list, y_array)\n",
        "print(r_sq*100)"
      ],
      "metadata": {
        "colab": {
          "base_uri": "https://localhost:8080/"
        },
        "id": "tKf4M6so1P76",
        "outputId": "6aa1de4a-10b8-4a78-b212-dd11d597c761"
      },
      "execution_count": 624,
      "outputs": [
        {
          "output_type": "stream",
          "name": "stdout",
          "text": [
            "29.906440854576843\n"
          ]
        }
      ]
    },
    {
      "cell_type": "code",
      "source": [
        "# predict\n",
        "y_pred = model.predict(np.array(x_list).reshape(-1,1))"
      ],
      "metadata": {
        "id": "VYfvLVAj32jk"
      },
      "execution_count": 625,
      "outputs": []
    },
    {
      "cell_type": "code",
      "source": [
        "plt.figure(figsize=(10,5))\n",
        "plt.scatter(x_list,y_array,color=\"orange\")\n",
        "plt.plot(x_list,y_pred,\"blue\")\n",
        "plt.title('Linear Regression Model')\n",
        "plt.xlabel('Station')\n",
        "plt.ylabel('Time(Total seconds)')\n",
        "plt.show()"
      ],
      "metadata": {
        "colab": {
          "base_uri": "https://localhost:8080/",
          "height": 350
        },
        "id": "VSMlpCdu5heg",
        "outputId": "ce94e8b4-5610-4340-e469-eada69bcac71"
      },
      "execution_count": 626,
      "outputs": [
        {
          "output_type": "display_data",
          "data": {
            "image/png": "[encoded data removed]",
            "text/plain": [
              "<Figure size 720x360 with 1 Axes>"
            ]
          },
          "metadata": {
            "needs_background": "light"
          }
        }
      ]
    },
    {
      "cell_type": "code",
      "source": [
        "# polynomial regression model\n",
        "from sklearn.preprocessing import PolynomialFeatures\n",
        "poly_reg = PolynomialFeatures(degree=25)\n",
        "X_poly = poly_reg.fit_transform(x_list)\n",
        " \n",
        "lin_reg2 = LinearRegression()\n",
        "lin_reg2.fit(X_poly,y_array)\n",
        " \n",
        "  \n",
        "X_grid = np.arange(min(x_list),max(x_list),0.1)\n",
        "X_grid = X_grid.reshape(len(X_grid),1) \n",
        "\n",
        "r2_value = r2_score(y_array, lin_reg2.predict(poly_reg.fit_transform(x_list)))#r2 values\n",
        "plt.figure(figsize=(20,10))  \n",
        "plt.plot(X_grid, lin_reg2.predict(poly_reg.fit_transform(X_grid)),color='red') \n",
        "plt.scatter(x_list,y_array, color='blue')  \n",
        "plt.title(f\"Station timings with {r2_value}\")\n",
        "plt.xlabel('Station')\n",
        "plt.ylabel('Time')\n",
        "plt.show()"
      ],
      "metadata": {
        "colab": {
          "base_uri": "https://localhost:8080/",
          "height": 621
        },
        "id": "14xTJRtqFGUJ",
        "outputId": "2c0389ca-4550-4704-8842-abaa7f84bfd6"
      },
      "execution_count": 627,
      "outputs": [
        {
          "output_type": "display_data",
          "data": {
            "image/png": "[encoded data removed]",
            "text/plain": [
              "<Figure size 1440x720 with 1 Axes>"
            ]
          },
          "metadata": {
            "needs_background": "light"
          }
        }
      ]
    },
    {
      "cell_type": "code",
      "source": [
        "\"\"\"from sklearn.preprocessing import PolynomialFeatures\n",
        "r2_list = []\n",
        "features_list = []\n",
        "for i in range(0,70):\n",
        "\n",
        "    poly_reg = PolynomialFeatures(degree=i)\n",
        "    X_poly = poly_reg.fit_transform(x_list)\n",
        "    \n",
        "    lin_reg2 = LinearRegression()\n",
        "    lin_reg2.fit(X_poly,y_array)\n",
        "    \n",
        "      \n",
        "    X_grid = np.arange(min(x_list),max(x_list),0.1)\n",
        "    X_grid = X_grid.reshape(len(X_grid),1) \n",
        "\n",
        "    r2_value = r2_score(y_array, lin_reg2.predict(poly_reg.fit_transform(x_list)))#r2 values\n",
        "\n",
        "    r2_list.append(r2_value*100)\n",
        "    features_list.append(i)\n",
        "\n",
        "    plt.figure(figsize=(20,10))  \n",
        "    plt.plot(X_grid, lin_reg2.predict(poly_reg.fit_transform(X_grid)),color='red') \n",
        "    plt.scatter(x_list,y_array, color='blue')  \n",
        "    plt.title(f\"Station timings with {r2_value}\")\n",
        "    plt.xlabel('Station')\n",
        "    plt.ylabel('Time')\n",
        "    plt.show()\"\"\""
      ],
      "metadata": {
        "colab": {
          "base_uri": "https://localhost:8080/",
          "height": 105
        },
        "id": "31I-B9iYHX07",
        "outputId": "aa3c7138-39f9-4b0c-9879-146238f776ae"
      },
      "execution_count": 628,
      "outputs": [
        {
          "output_type": "execute_result",
          "data": {
            "application/vnd.google.colaboratory.intrinsic+json": {
              "type": "string"
            },
            "text/plain": [
              "'from sklearn.preprocessing import PolynomialFeatures\\nr2_list = []\\nfeatures_list = []\\nfor i in range(0,70):\\n\\n    poly_reg = PolynomialFeatures(degree=i)\\n    X_poly = poly_reg.fit_transform(x_list)\\n    \\n    lin_reg2 = LinearRegression()\\n    lin_reg2.fit(X_poly,y_array)\\n    \\n      \\n    X_grid = np.arange(min(x_list),max(x_list),0.1)\\n    X_grid = X_grid.reshape(len(X_grid),1) \\n\\n    r2_value = r2_score(y_array, lin_reg2.predict(poly_reg.fit_transform(x_list)))#r2 values\\n\\n    r2_list.append(r2_value*100)\\n    features_list.append(i)\\n\\n    plt.figure(figsize=(20,10))  \\n    plt.plot(X_grid, lin_reg2.predict(poly_reg.fit_transform(X_grid)),color=\\'red\\') \\n    plt.scatter(x_list,y_array, color=\\'blue\\')  \\n    plt.title(f\"Station timings with {r2_value}\")\\n    plt.xlabel(\\'Station\\')\\n    plt.ylabel(\\'Time\\')\\n    plt.show()'"
            ]
          },
          "metadata": {},
          "execution_count": 628
        }
      ]
    },
    {
      "cell_type": "code",
      "source": [
        "# polynomial regression model\n",
        "from sklearn.preprocessing import PolynomialFeatures\n",
        "poly_reg = PolynomialFeatures(degree=25)\n",
        "X_poly = poly_reg.fit_transform(x_list)\n",
        " \n",
        "lin_reg2 = LinearRegression()\n",
        "lin_reg2.fit(X_poly,y_array)\n",
        " \n",
        "  \n",
        "X_grid = np.arange(min(x_list),max(x_list),0.1)\n",
        "X_grid = X_grid.reshape(len(X_grid),1) \n",
        "\n",
        "r2_value = r2_score(y_array, lin_reg2.predict(poly_reg.fit_transform(x_list)))#r2 values\n",
        "plt.figure(figsize=(10,5))  \n",
        "plt.plot(X_grid, lin_reg2.predict(poly_reg.fit_transform(X_grid)),color='blue') \n",
        "plt.scatter(x_list,y_array, color='red')  \n",
        "plt.title(f\"Station timings\")\n",
        "plt.xlabel('Station(Integer encoded)')\n",
        "plt.ylabel('Time(Seconds)')\n",
        "plt.show()"
      ],
      "metadata": {
        "colab": {
          "base_uri": "https://localhost:8080/",
          "height": 350
        },
        "id": "tdI_zd0VTR3j",
        "outputId": "cf2e6e00-ae10-43c1-d159-9794523f2206"
      },
      "execution_count": 629,
      "outputs": [
        {
          "output_type": "display_data",
          "data": {
            "image/png": "[encoded data removed]",
            "text/plain": [
              "<Figure size 720x360 with 1 Axes>"
            ]
          },
          "metadata": {
            "needs_background": "light"
          }
        }
      ]
    },
    {
      "cell_type": "code",
      "source": [
        "# data frame for features and its r2 values\n",
        "features_df = pd.DataFrame()\n",
        "features_df['features'] = features_list\n",
        "features_df['r2_value'] = r2_list"
      ],
      "metadata": {
        "id": "ugb9C5mMNkHa"
      },
      "execution_count": 630,
      "outputs": []
    },
    {
      "cell_type": "code",
      "source": [
        "\"\"\"features_df.style.background_gradient(cmap=\"Blues\")\"\"\""
      ],
      "metadata": {
        "colab": {
          "base_uri": "https://localhost:8080/",
          "height": 35
        },
        "id": "GGbgXjH_O9nh",
        "outputId": "983ac2ef-82f9-48c6-88b0-6f330200797f"
      },
      "execution_count": 631,
      "outputs": [
        {
          "output_type": "execute_result",
          "data": {
            "application/vnd.google.colaboratory.intrinsic+json": {
              "type": "string"
            },
            "text/plain": [
              "'features_df.style.background_gradient(cmap=\"Blues\")'"
            ]
          },
          "metadata": {},
          "execution_count": 631
        }
      ]
    },
    {
      "cell_type": "code",
      "source": [
        "\"\"\"plt.figure(figsize=(10,5))\n",
        "\n",
        "plt.plot(features_df)\n",
        "plt.xlabel('Features')\n",
        "plt.ylabel('R2 value(%)')\n",
        "plt.title('Features vs r2 value(%) for Ploynomial regression')\n",
        "plt.show()\"\"\""
      ],
      "metadata": {
        "colab": {
          "base_uri": "https://localhost:8080/",
          "height": 35
        },
        "id": "IfQx5fpSNz9I",
        "outputId": "e62d24b4-cb31-4155-875b-41183e7c00e7"
      },
      "execution_count": 632,
      "outputs": [
        {
          "output_type": "execute_result",
          "data": {
            "application/vnd.google.colaboratory.intrinsic+json": {
              "type": "string"
            },
            "text/plain": [
              "\"plt.figure(figsize=(10,5))\\n\\nplt.plot(features_df)\\nplt.xlabel('Features')\\nplt.ylabel('R2 value(%)')\\nplt.title('Features vs r2 value(%) for Ploynomial regression')\\nplt.show()\""
            ]
          },
          "metadata": {},
          "execution_count": 632
        }
      ]
    },
    {
      "cell_type": "code",
      "source": [
        "y_poly_pred = lin_reg2.predict(poly_reg.fit_transform(np.array(x_list).reshape(-1,1)))"
      ],
      "metadata": {
        "id": "WD32cJimF--v"
      },
      "execution_count": 633,
      "outputs": []
    },
    {
      "cell_type": "markdown",
      "source": [
        "# Number to hours and minutes\n"
      ],
      "metadata": {
        "id": "9B1brvHGD6ze"
      }
    },
    {
      "cell_type": "code",
      "source": [
        "def convertor(num):\n",
        "  b = num/3600\n",
        "  a = int(num/3600)\n",
        "  c = b - a \n",
        "  d = int(c * 60)\n",
        "  print(f'{a}:{d}')\n",
        "\n"
      ],
      "metadata": {
        "id": "ZBEujNHaFIrJ"
      },
      "execution_count": 634,
      "outputs": []
    },
    {
      "cell_type": "code",
      "source": [
        "convertor(y_array[0])\n"
      ],
      "metadata": {
        "colab": {
          "base_uri": "https://localhost:8080/"
        },
        "id": "bW7C0S1DFUgi",
        "outputId": "c3cb3a9c-68ae-402a-8b40-b061be6162a0"
      },
      "execution_count": 635,
      "outputs": [
        {
          "output_type": "stream",
          "name": "stdout",
          "text": [
            "9:11\n"
          ]
        }
      ]
    },
    {
      "cell_type": "code",
      "source": [
        "convertor(y_poly_pred[0])"
      ],
      "metadata": {
        "colab": {
          "base_uri": "https://localhost:8080/"
        },
        "id": "aZDPrhBm3Er9",
        "outputId": "5d12a574-b868-48cc-b00e-5bff3e332ed3"
      },
      "execution_count": 636,
      "outputs": [
        {
          "output_type": "stream",
          "name": "stdout",
          "text": [
            "9:39\n"
          ]
        }
      ]
    },
    {
      "cell_type": "markdown",
      "source": [
        "# Test for stations\n"
      ],
      "metadata": {
        "id": "PtUJKnIB46Gj"
      }
    },
    {
      "cell_type": "code",
      "source": [
        "final_main_df['pta'] = data_frame['planned_arr']\n",
        "final_main_df['ptd'] = data_frame['planned_dep']"
      ],
      "metadata": {
        "id": "TVbT3zPLfPg7"
      },
      "execution_count": 638,
      "outputs": []
    },
    {
      "cell_type": "code",
      "source": [
        "final_main_df['pta'].values[0]"
      ],
      "metadata": {
        "colab": {
          "base_uri": "https://localhost:8080/",
          "height": 35
        },
        "id": "hIW2jh8Mg1Ew",
        "outputId": "826a7f28-7762-4170-ef2b-fce001c9823e"
      },
      "execution_count": 644,
      "outputs": [
        {
          "output_type": "execute_result",
          "data": {
            "application/vnd.google.colaboratory.intrinsic+json": {
              "type": "string"
            },
            "text/plain": [
              "'09:12'"
            ]
          },
          "metadata": {},
          "execution_count": 644
        }
      ]
    },
    {
      "cell_type": "code",
      "source": [
        "\"\"\"import time\n",
        "import datetime\n",
        "\n",
        "\"\"\"date = datetime.datetime.strptime(x[0], \"%H:%M\")\"\"\"\n",
        "\n",
        "actual_arr_list = []\n",
        "for x in new_df['planned_arr'].values:\n",
        "  if len(x) == 5:\n",
        "    k = datetime.datetime.strptime(x, \"%H:%M\")\n",
        "    t = (k.hour * 60 * 60) + (k.minute * 60)\n",
        "  else:\n",
        "    t = 0\n",
        "\n",
        "  actual_arr_list.append(t)  \"\"\""
      ],
      "metadata": {
        "id": "ZQ8szQi3hEXU"
      },
      "execution_count": null,
      "outputs": []
    },
    {
      "cell_type": "code",
      "source": [
        "planned_arr_list = []\n",
        "planned_dep_list = []\n",
        "for x,y in zip(final_main_df['pta'].values,final_main_df['ptd'].values):\n",
        "  if len(x) == 5:\n",
        "    k = datetime.datetime.strptime(x, \"%H:%M\")    \n",
        "    t = (k.hour * 60 * 60) + (k.minute * 60)\n",
        "    \n",
        "  if len(y) == 5:\n",
        "    k1 = datetime.datetime.strptime(y, \"%H:%M\")\n",
        "    t1 = (k1.hour * 60 * 60) + (k1.minute * 60)\n",
        "\n",
        "  else:\n",
        "    t = 0\n",
        "    t1 = 0\n",
        "\n",
        "  planned_arr_list.append(t)\n",
        "  planned_dep_list.append(t1)"
      ],
      "metadata": {
        "id": "nONWcoAehxp5"
      },
      "execution_count": 648,
      "outputs": []
    },
    {
      "cell_type": "code",
      "source": [
        "planned_dep_list[1:10]"
      ],
      "metadata": {
        "colab": {
          "base_uri": "https://localhost:8080/"
        },
        "id": "i2JrzHxGi655",
        "outputId": "7404e406-ca2a-4c6a-fa4d-30165ab7a691"
      },
      "execution_count": 650,
      "outputs": [
        {
          "output_type": "execute_result",
          "data": {
            "text/plain": [
              "[34140, 34500, 34740, 34980, 35220, 35640, 36600, 37800, 38220]"
            ]
          },
          "metadata": {},
          "execution_count": 650
        }
      ]
    },
    {
      "cell_type": "code",
      "source": [
        "planned_arr_list[1:10]"
      ],
      "metadata": {
        "colab": {
          "base_uri": "https://localhost:8080/"
        },
        "id": "vuXPB-YvjRsZ",
        "outputId": "9dcd6283-5527-4c61-bb51-fb5143d9809a"
      },
      "execution_count": 651,
      "outputs": [
        {
          "output_type": "execute_result",
          "data": {
            "text/plain": [
              "[34020, 34440, 34740, 35040, 35280, 35580, 36600, 37560, 38220]"
            ]
          },
          "metadata": {},
          "execution_count": 651
        }
      ]
    },
    {
      "cell_type": "code",
      "source": [
        "planned_time_diff = [x-y for x,y in zip(planned_arr_list,planned_dep_list)]"
      ],
      "metadata": {
        "id": "VNM_tO5Oja6J"
      },
      "execution_count": 652,
      "outputs": []
    },
    {
      "cell_type": "code",
      "source": [
        "final_main_df['planned_differnce'] = planned_time_diff"
      ],
      "metadata": {
        "id": "GfqGsaecjk8t"
      },
      "execution_count": 655,
      "outputs": []
    },
    {
      "cell_type": "code",
      "source": [
        "final_main_df.head(20)"
      ],
      "metadata": {
        "colab": {
          "base_uri": "https://localhost:8080/",
          "height": 676
        },
        "id": "4x9OyGyljyF3",
        "outputId": "5befa6fb-0666-49e9-b8b4-bde34a8925af"
      },
      "execution_count": 657,
      "outputs": [
        {
          "output_type": "execute_result",
          "data": {
            "text/html": [
              "\n",
              "  <div id=\"df-20016616-550f-4802-9d25-643fdc03f4e8\">\n",
              "    <div class=\"colab-df-container\">\n",
              "      <div>\n",
              "<style scoped>\n",
              "    .dataframe tbody tr th:only-of-type {\n",
              "        vertical-align: middle;\n",
              "    }\n",
              "\n",
              "    .dataframe tbody tr th {\n",
              "        vertical-align: top;\n",
              "    }\n",
              "\n",
              "    .dataframe thead th {\n",
              "        text-align: right;\n",
              "    }\n",
              "</style>\n",
              "<table border=\"1\" class=\"dataframe\">\n",
              "  <thead>\n",
              "    <tr style=\"text-align: right;\">\n",
              "      <th></th>\n",
              "      <th>timestamps</th>\n",
              "      <th>station</th>\n",
              "      <th>rail_ids</th>\n",
              "      <th>station_name</th>\n",
              "      <th>pta</th>\n",
              "      <th>ptd</th>\n",
              "      <th>planned_differnce</th>\n",
              "    </tr>\n",
              "  </thead>\n",
              "  <tbody>\n",
              "    <tr>\n",
              "      <th>0</th>\n",
              "      <td>33120</td>\n",
              "      <td>12</td>\n",
              "      <td>8734960</td>\n",
              "      <td>DRCHS</td>\n",
              "      <td>09:12</td>\n",
              "      <td>09:12</td>\n",
              "      <td>0</td>\n",
              "    </tr>\n",
              "    <tr>\n",
              "      <th>1</th>\n",
              "      <td>34020</td>\n",
              "      <td>61</td>\n",
              "      <td>8734960</td>\n",
              "      <td>WARHAM</td>\n",
              "      <td>09:27</td>\n",
              "      <td>09:29</td>\n",
              "      <td>-120</td>\n",
              "    </tr>\n",
              "    <tr>\n",
              "      <th>2</th>\n",
              "      <td>34440</td>\n",
              "      <td>28</td>\n",
              "      <td>8734960</td>\n",
              "      <td>HMWTHY</td>\n",
              "      <td>09:34</td>\n",
              "      <td>09:35</td>\n",
              "      <td>-60</td>\n",
              "    </tr>\n",
              "    <tr>\n",
              "      <th>3</th>\n",
              "      <td>34740</td>\n",
              "      <td>40</td>\n",
              "      <td>8734960</td>\n",
              "      <td>POOLE</td>\n",
              "      <td>09:39</td>\n",
              "      <td>09:39</td>\n",
              "      <td>0</td>\n",
              "    </tr>\n",
              "    <tr>\n",
              "      <th>4</th>\n",
              "      <td>35040</td>\n",
              "      <td>41</td>\n",
              "      <td>8734960</td>\n",
              "      <td>PSTONE</td>\n",
              "      <td>09:44</td>\n",
              "      <td>09:43</td>\n",
              "      <td>60</td>\n",
              "    </tr>\n",
              "    <tr>\n",
              "      <th>5</th>\n",
              "      <td>35280</td>\n",
              "      <td>4</td>\n",
              "      <td>8734960</td>\n",
              "      <td>BRANKSM</td>\n",
              "      <td>09:48</td>\n",
              "      <td>09:47</td>\n",
              "      <td>60</td>\n",
              "    </tr>\n",
              "    <tr>\n",
              "      <th>6</th>\n",
              "      <td>35580</td>\n",
              "      <td>3</td>\n",
              "      <td>8734960</td>\n",
              "      <td>BOMO</td>\n",
              "      <td>09:53</td>\n",
              "      <td>09:54</td>\n",
              "      <td>-60</td>\n",
              "    </tr>\n",
              "    <tr>\n",
              "      <th>7</th>\n",
              "      <td>36600</td>\n",
              "      <td>1</td>\n",
              "      <td>8734960</td>\n",
              "      <td>BKNHRST</td>\n",
              "      <td>10:10</td>\n",
              "      <td>10:10</td>\n",
              "      <td>0</td>\n",
              "    </tr>\n",
              "    <tr>\n",
              "      <th>8</th>\n",
              "      <td>37560</td>\n",
              "      <td>48</td>\n",
              "      <td>8734960</td>\n",
              "      <td>SOTON</td>\n",
              "      <td>10:26</td>\n",
              "      <td>10:30</td>\n",
              "      <td>-240</td>\n",
              "    </tr>\n",
              "    <tr>\n",
              "      <th>9</th>\n",
              "      <td>38220</td>\n",
              "      <td>49</td>\n",
              "      <td>8734960</td>\n",
              "      <td>SOTPKWY</td>\n",
              "      <td>10:37</td>\n",
              "      <td>10:37</td>\n",
              "      <td>0</td>\n",
              "    </tr>\n",
              "    <tr>\n",
              "      <th>10</th>\n",
              "      <td>38820</td>\n",
              "      <td>69</td>\n",
              "      <td>8734960</td>\n",
              "      <td>WNCHSTR</td>\n",
              "      <td>10:47</td>\n",
              "      <td>10:48</td>\n",
              "      <td>-60</td>\n",
              "    </tr>\n",
              "    <tr>\n",
              "      <th>11</th>\n",
              "      <td>40740</td>\n",
              "      <td>70</td>\n",
              "      <td>8734960</td>\n",
              "      <td>WOKING</td>\n",
              "      <td>11:19</td>\n",
              "      <td>11:35</td>\n",
              "      <td>-960</td>\n",
              "    </tr>\n",
              "    <tr>\n",
              "      <th>12</th>\n",
              "      <td>42540</td>\n",
              "      <td>62</td>\n",
              "      <td>8734960</td>\n",
              "      <td>WATRLMN</td>\n",
              "      <td>11:49</td>\n",
              "      <td></td>\n",
              "      <td>0</td>\n",
              "    </tr>\n",
              "    <tr>\n",
              "      <th>13</th>\n",
              "      <td>36720</td>\n",
              "      <td>12</td>\n",
              "      <td>8734963</td>\n",
              "      <td>DRCHS</td>\n",
              "      <td>10:12</td>\n",
              "      <td>10:13</td>\n",
              "      <td>-60</td>\n",
              "    </tr>\n",
              "    <tr>\n",
              "      <th>14</th>\n",
              "      <td>37620</td>\n",
              "      <td>61</td>\n",
              "      <td>8734963</td>\n",
              "      <td>WARHAM</td>\n",
              "      <td>10:27</td>\n",
              "      <td>10:29</td>\n",
              "      <td>-120</td>\n",
              "    </tr>\n",
              "    <tr>\n",
              "      <th>15</th>\n",
              "      <td>38040</td>\n",
              "      <td>28</td>\n",
              "      <td>8734963</td>\n",
              "      <td>HMWTHY</td>\n",
              "      <td>10:34</td>\n",
              "      <td>10:35</td>\n",
              "      <td>-60</td>\n",
              "    </tr>\n",
              "    <tr>\n",
              "      <th>16</th>\n",
              "      <td>38340</td>\n",
              "      <td>40</td>\n",
              "      <td>8734963</td>\n",
              "      <td>POOLE</td>\n",
              "      <td>10:39</td>\n",
              "      <td>10:40</td>\n",
              "      <td>-60</td>\n",
              "    </tr>\n",
              "    <tr>\n",
              "      <th>17</th>\n",
              "      <td>38640</td>\n",
              "      <td>41</td>\n",
              "      <td>8734963</td>\n",
              "      <td>PSTONE</td>\n",
              "      <td>10:44</td>\n",
              "      <td>10:44</td>\n",
              "      <td>0</td>\n",
              "    </tr>\n",
              "    <tr>\n",
              "      <th>18</th>\n",
              "      <td>38880</td>\n",
              "      <td>4</td>\n",
              "      <td>8734963</td>\n",
              "      <td>BRANKSM</td>\n",
              "      <td>10:48</td>\n",
              "      <td>10:48</td>\n",
              "      <td>0</td>\n",
              "    </tr>\n",
              "    <tr>\n",
              "      <th>19</th>\n",
              "      <td>39240</td>\n",
              "      <td>3</td>\n",
              "      <td>8734963</td>\n",
              "      <td>BOMO</td>\n",
              "      <td>10:54</td>\n",
              "      <td>10:58</td>\n",
              "      <td>-240</td>\n",
              "    </tr>\n",
              "  </tbody>\n",
              "</table>\n",
              "</div>\n",
              "      <button class=\"colab-df-convert\" onclick=\"convertToInteractive('df-20016616-550f-4802-9d25-643fdc03f4e8')\"\n",
              "              title=\"Convert this dataframe to an interactive table.\"\n",
              "              style=\"display:none;\">\n",
              "        \n",
              "  <svg xmlns=\"http://www.w3.org/2000/svg\" height=\"24px\"viewBox=\"0 0 24 24\"\n",
              "       width=\"24px\">\n",
              "    <path d=\"M0 0h24v24H0V0z\" fill=\"none\"/>\n",
              "    <path d=\"M18.56 5.44l.94 2.06.94-2.06 2.06-.94-2.06-.94-.94-2.06-.94 2.06-2.06.94zm-11 1L8.5 8.5l.94-2.06 2.06-.94-2.06-.94L8.5 2.5l-.94 2.06-2.06.94zm10 10l.94 2.06.94-2.06 2.06-.94-2.06-.94-.94-2.06-.94 2.06-2.06.94z\"/><path d=\"M17.41 7.96l-1.37-1.37c-.4-.4-.92-.59-1.43-.59-.52 0-1.04.2-1.43.59L10.3 9.45l-7.72 7.72c-.78.78-.78 2.05 0 2.83L4 21.41c.39.39.9.59 1.41.59.51 0 1.02-.2 1.41-.59l7.78-7.78 2.81-2.81c.8-.78.8-2.07 0-2.86zM5.41 20L4 18.59l7.72-7.72 1.47 1.35L5.41 20z\"/>\n",
              "  </svg>\n",
              "      </button>\n",
              "      \n",
              "  <style>\n",
              "    .colab-df-container {\n",
              "      display:flex;\n",
              "      flex-wrap:wrap;\n",
              "      gap: 12px;\n",
              "    }\n",
              "\n",
              "    .colab-df-convert {\n",
              "      background-color: #E8F0FE;\n",
              "      border: none;\n",
              "      border-radius: 50%;\n",
              "      cursor: pointer;\n",
              "      display: none;\n",
              "      fill: #1967D2;\n",
              "      height: 32px;\n",
              "      padding: 0 0 0 0;\n",
              "      width: 32px;\n",
              "    }\n",
              "\n",
              "    .colab-df-convert:hover {\n",
              "      background-color: #E2EBFA;\n",
              "      box-shadow: 0px 1px 2px rgba(60, 64, 67, 0.3), 0px 1px 3px 1px rgba(60, 64, 67, 0.15);\n",
              "      fill: #174EA6;\n",
              "    }\n",
              "\n",
              "    [theme=dark] .colab-df-convert {\n",
              "      background-color: #3B4455;\n",
              "      fill: #D2E3FC;\n",
              "    }\n",
              "\n",
              "    [theme=dark] .colab-df-convert:hover {\n",
              "      background-color: #434B5C;\n",
              "      box-shadow: 0px 1px 3px 1px rgba(0, 0, 0, 0.15);\n",
              "      filter: drop-shadow(0px 1px 2px rgba(0, 0, 0, 0.3));\n",
              "      fill: #FFFFFF;\n",
              "    }\n",
              "  </style>\n",
              "\n",
              "      <script>\n",
              "        const buttonEl =\n",
              "          document.querySelector('#df-20016616-550f-4802-9d25-643fdc03f4e8 button.colab-df-convert');\n",
              "        buttonEl.style.display =\n",
              "          google.colab.kernel.accessAllowed ? 'block' : 'none';\n",
              "\n",
              "        async function convertToInteractive(key) {\n",
              "          const element = document.querySelector('#df-20016616-550f-4802-9d25-643fdc03f4e8');\n",
              "          const dataTable =\n",
              "            await google.colab.kernel.invokeFunction('convertToInteractive',\n",
              "                                                     [key], {});\n",
              "          if (!dataTable) return;\n",
              "\n",
              "          const docLinkHtml = 'Like what you see? Visit the ' +\n",
              "            '<a target=\"_blank\" href=https://colab.research.google.com/notebooks/data_table.ipynb>data table notebook</a>'\n",
              "            + ' to learn more about interactive tables.';\n",
              "          element.innerHTML = '';\n",
              "          dataTable['output_type'] = 'display_data';\n",
              "          await google.colab.output.renderOutput(dataTable, element);\n",
              "          const docLink = document.createElement('div');\n",
              "          docLink.innerHTML = docLinkHtml;\n",
              "          element.appendChild(docLink);\n",
              "        }\n",
              "      </script>\n",
              "    </div>\n",
              "  </div>\n",
              "  "
            ],
            "text/plain": [
              "    timestamps  station rail_ids station_name    pta    ptd  planned_differnce\n",
              "0        33120       12  8734960        DRCHS  09:12  09:12                  0\n",
              "1        34020       61  8734960       WARHAM  09:27  09:29               -120\n",
              "2        34440       28  8734960       HMWTHY  09:34  09:35                -60\n",
              "3        34740       40  8734960        POOLE  09:39  09:39                  0\n",
              "4        35040       41  8734960       PSTONE  09:44  09:43                 60\n",
              "5        35280        4  8734960      BRANKSM  09:48  09:47                 60\n",
              "6        35580        3  8734960         BOMO  09:53  09:54                -60\n",
              "7        36600        1  8734960      BKNHRST  10:10  10:10                  0\n",
              "8        37560       48  8734960        SOTON  10:26  10:30               -240\n",
              "9        38220       49  8734960      SOTPKWY  10:37  10:37                  0\n",
              "10       38820       69  8734960      WNCHSTR  10:47  10:48                -60\n",
              "11       40740       70  8734960       WOKING  11:19  11:35               -960\n",
              "12       42540       62  8734960      WATRLMN  11:49                         0\n",
              "13       36720       12  8734963        DRCHS  10:12  10:13                -60\n",
              "14       37620       61  8734963       WARHAM  10:27  10:29               -120\n",
              "15       38040       28  8734963       HMWTHY  10:34  10:35                -60\n",
              "16       38340       40  8734963        POOLE  10:39  10:40                -60\n",
              "17       38640       41  8734963       PSTONE  10:44  10:44                  0\n",
              "18       38880        4  8734963      BRANKSM  10:48  10:48                  0\n",
              "19       39240        3  8734963         BOMO  10:54  10:58               -240"
            ]
          },
          "metadata": {},
          "execution_count": 657
        }
      ]
    },
    {
      "cell_type": "markdown",
      "source": [
        "# Function for calculating all required values"
      ],
      "metadata": {
        "id": "jq9cSqF9kEdL"
      }
    },
    {
      "cell_type": "code",
      "source": [
        "# get the sttaion realted row indices\n",
        "list_for_stations = []\n",
        "for i in range(0,len(final_main_df['station_name'])):\n",
        "  if final_main_df['station_name'][i] == 'POOLE':\n",
        "    list_for_stations.append(i)"
      ],
      "metadata": {
        "id": "-EzKqcShkKWZ"
      },
      "execution_count": 662,
      "outputs": []
    },
    {
      "cell_type": "code",
      "source": [
        "# set the station name as index\n",
        "indexed_df = final_main_df.set_index('station_name')"
      ],
      "metadata": {
        "id": "Ib7virRglXw0"
      },
      "execution_count": 697,
      "outputs": []
    },
    {
      "cell_type": "code",
      "source": [
        "# get the unique train ids by station name\n",
        "unique_train = np.unique(indexed_df.loc['POOLE'].rail_ids.values)"
      ],
      "metadata": {
        "id": "eb4ejWwTyIy4"
      },
      "execution_count": 731,
      "outputs": []
    },
    {
      "cell_type": "code",
      "source": [
        "# get the number of unique trains\n",
        "unique_trains = unique_train"
      ],
      "metadata": {
        "id": "FKQRYce-yRHF"
      },
      "execution_count": 741,
      "outputs": []
    },
    {
      "cell_type": "code",
      "source": [
        "numb = int(int(len(unique_train)/100)/2)"
      ],
      "metadata": {
        "id": "fElzoKvq4U9O"
      },
      "execution_count": 754,
      "outputs": []
    },
    {
      "cell_type": "code",
      "source": [
        "top_trains = unique_train[0:numb]"
      ],
      "metadata": {
        "id": "ZRbxlRksza5M"
      },
      "execution_count": 755,
      "outputs": []
    },
    {
      "cell_type": "code",
      "source": [
        "top_trains"
      ],
      "metadata": {
        "colab": {
          "base_uri": "https://localhost:8080/"
        },
        "id": "1-F_kR_U8lPL",
        "outputId": "222ff872-5e6c-4952-d6e0-2f5a4bd52917"
      },
      "execution_count": 766,
      "outputs": [
        {
          "output_type": "execute_result",
          "data": {
            "text/plain": [
              "array(['7900005', '7900006', '7900033'], dtype=object)"
            ]
          },
          "metadata": {},
          "execution_count": 766
        }
      ]
    },
    {
      "cell_type": "code",
      "source": [
        "for rail_id in top_trains:\n",
        "  # for loop - rail ids\n",
        "  list_of_columns = final_main_df.columns\n",
        "  latest_df = pd.DataFrame(columns = list_of_columns)\n",
        "  for i in range(0,len(final_main_df['rail_ids'])):\n",
        "    if final_main_df['rail_ids'][i] == rail_id:     \n",
        "      series = pd.Series(final_main_df.iloc[i].values, index=latest_df.columns)\n",
        "      latest_df = latest_df.append(series,ignore_index=True)\n",
        "  print(f'*************** Data frame for {rail_id} ***************************')  \n",
        "  print(latest_df)"
      ],
      "metadata": {
        "colab": {
          "base_uri": "https://localhost:8080/"
        },
        "id": "pU0NQawl2nj5",
        "outputId": "90e923c7-5036-43c3-d069-8f7c6a9b65dc"
      },
      "execution_count": 828,
      "outputs": [
        {
          "output_type": "stream",
          "name": "stdout",
          "text": [
            "*************** Data frame for 7900005 ***************************\n",
            "   timestamps station rail_ids station_name    pta    ptd planned_differnce\n",
            "0       33840      58  7900005        UPWEY  09:24                        0\n",
            "1       34260      12  7900005        DRCHS  09:31                        0\n",
            "2       34740      35  7900005      MORETON  09:39                        0\n",
            "3       35100      72  7900005         WOOL  09:45                        0\n",
            "4       35520      61  7900005       WARHAM  09:52                        0\n",
            "5       35760      29  7900005      HOLTONH  09:56                        0\n",
            "6       36060      28  7900005       HMWTHY  10:01                        0\n",
            "7       36360      40  7900005        POOLE  10:06                        0\n",
            "8       37560      39  7900005      POKSDWN  10:26                        0\n",
            "9       37740       8  7900005      CHRISTC  10:29                        0\n",
            "10      38160      37  7900005      NMILTON  10:36                        0\n",
            "11      38640       1  7900005      BKNHRST  10:44                        0\n",
            "12      39480      48  7900005        SOTON  10:58                        0\n",
            "13      40020      49  7900005      SOTPKWY  11:07                        0\n",
            "14      40620      69  7900005      WNCHSTR  11:17                        0\n",
            "15      41640       6  7900005      BSNGSTK  11:34  12:01             -1620\n",
            "16      43920       9  7900005      CLPHMJM  12:12                        0\n",
            "17      44400      62  7900005      WATRLMN  12:20                        0\n",
            "*************** Data frame for 7900006 ***************************\n",
            "   timestamps station rail_ids station_name    pta    ptd planned_differnce\n",
            "0       33840      58  7900006        UPWEY  09:24  09:34              -600\n",
            "1       34260      12  7900006        DRCHS  09:31  09:44              -780\n",
            "2       34740      35  7900006      MORETON  09:39                        0\n",
            "3       35100      72  7900006         WOOL  09:45  09:57              -720\n",
            "4       35520      61  7900006       WARHAM  09:52  10:04              -720\n",
            "5       35760      29  7900006      HOLTONH  09:56                        0\n",
            "6       36060      28  7900006       HMWTHY  10:01  10:12              -660\n",
            "7       36360      40  7900006        POOLE  10:06  10:17              -660\n",
            "8       36480      41  7900006       PSTONE  10:08  10:21              -780\n",
            "9       36660       4  7900006      BRANKSM  10:11  10:25              -840\n",
            "10      37020       3  7900006         BOMO  10:17  10:33              -960\n",
            "11      37560      39  7900006      POKSDWN  10:26  10:37              -660\n",
            "12      37740       8  7900006      CHRISTC  10:29  10:40              -660\n",
            "13      38160      37  7900006      NMILTON  10:36  10:49              -780\n",
            "14      38640       1  7900006      BKNHRST  10:44  10:56              -720\n",
            "15      39480      48  7900006        SOTON  10:58  11:11              -780\n",
            "16      40020      49  7900006      SOTPKWY  11:07  11:18              -660\n",
            "17      40620      69  7900006      WNCHSTR  11:17  11:28              -660\n",
            "18      41640       6  7900006      BSNGSTK  11:34  11:54             -1200\n",
            "19      43920       9  7900006      CLPHMJM  12:12                        0\n",
            "20      44400      62  7900006      WATRLMN  12:20                        0\n",
            "*************** Data frame for 7900033 ***************************\n",
            "   timestamps station rail_ids station_name    pta    ptd planned_differnce\n",
            "0       36480      58  7900033        UPWEY  10:08  10:19              -660\n",
            "1       36720      12  7900033        DRCHS  10:12                        0\n",
            "2       37620      61  7900033       WARHAM  10:27                        0\n",
            "3       38040      28  7900033       HMWTHY  10:34                        0\n",
            "4       38340      40  7900033        POOLE  10:39                        0\n",
            "5       38640      41  7900033       PSTONE  10:44                        0\n",
            "6       38880       4  7900033      BRANKSM  10:48                        0\n",
            "7       39240       3  7900033         BOMO  10:54                        0\n",
            "8       40440       1  7900033      BKNHRST  11:14                        0\n",
            "9       41280      48  7900033        SOTON  11:28  11:38              -600\n",
            "10      41820      49  7900033      SOTPKWY  11:37  11:38               -60\n",
            "11      42420      69  7900033      WNCHSTR  11:47  11:39               480\n",
            "12      44340      70  7900033       WOKING  12:19  12:24              -300\n",
            "13      46140      62  7900033      WATRLMN  12:49                        0\n"
          ]
        }
      ]
    }
  ]
}