{
  "nbformat": 4,
  "nbformat_minor": 0,
  "metadata": {
    "colab": {
      "name": "NL&TEXTMIning_sample.ipynb",
      "provenance": [],
      "collapsed_sections": [],
      "toc_visible": true,
      "authorship_tag": "ABX9TyOo6ljLx0ZOfQv0tF6V5a3s",
      "include_colab_link": true
    },
    "kernelspec": {
      "name": "python3",
      "display_name": "Python 3"
    },
    "language_info": {
      "name": "python"
    }
  },
  "cells": [
    {
      "cell_type": "markdown",
      "metadata": {
        "id": "view-in-github",
        "colab_type": "text"
      },
      "source": [
        "<a href=\"https://colab.research.google.com/github/PriyathamVarma/PriyathamVarma/blob/main/NL%26TEXTMIning_sample.ipynb\" target=\"_parent\"><img src=\"https://colab.research.google.com/assets/colab-badge.svg\" alt=\"Open In Colab\"/></a>"
      ]
    },
    {
      "cell_type": "markdown",
      "source": [
        "# <h1> This is for text mining and natural language processing </h1>\n",
        "# <h2 style=\"color:red\"> Text ming is the process of extracting text data from various types of sources and analysing it for patterns. </h2>\n",
        "# NLTK python library for natural langugae processing is used for analysis process of unstructured text data.\n"
      ],
      "metadata": {
        "id": "NvoIzGErpdnx"
      }
    },
    {
      "cell_type": "code",
      "source": [
        "# Imports\n",
        "\n",
        "!pip install nltk"
      ],
      "metadata": {
        "colab": {
          "base_uri": "https://localhost:8080/"
        },
        "id": "--Mw3rxpqFzY",
        "outputId": "1ce38771-c4a4-404b-8571-48d52f36d250"
      },
      "execution_count": 172,
      "outputs": [
        {
          "output_type": "stream",
          "name": "stdout",
          "text": [
            "Requirement already satisfied: nltk in /usr/local/lib/python3.7/dist-packages (3.2.5)\n",
            "Requirement already satisfied: six in /usr/local/lib/python3.7/dist-packages (from nltk) (1.15.0)\n"
          ]
        }
      ]
    },
    {
      "cell_type": "code",
      "source": [
        "import nltk"
      ],
      "metadata": {
        "id": "LjPU_ONEqMmU"
      },
      "execution_count": 173,
      "outputs": []
    },
    {
      "cell_type": "code",
      "source": [
        "nltk.download()"
      ],
      "metadata": {
        "colab": {
          "base_uri": "https://localhost:8080/"
        },
        "id": "NbkaWKpLrDR3",
        "outputId": "e4e484d3-1a10-4dcf-8232-17f4139030a5"
      },
      "execution_count": 174,
      "outputs": [
        {
          "name": "stdout",
          "output_type": "stream",
          "text": [
            "NLTK Downloader\n",
            "---------------------------------------------------------------------------\n",
            "    d) Download   l) List    u) Update   c) Config   h) Help   q) Quit\n",
            "---------------------------------------------------------------------------\n",
            "Downloader> q\n"
          ]
        },
        {
          "output_type": "execute_result",
          "data": {
            "text/plain": [
              "True"
            ]
          },
          "metadata": {},
          "execution_count": 174
        }
      ]
    },
    {
      "cell_type": "code",
      "source": [
        "from nltk.corpus import brown"
      ],
      "metadata": {
        "id": "myOkTDVDqRif"
      },
      "execution_count": 175,
      "outputs": []
    },
    {
      "cell_type": "code",
      "source": [
        "# Important corpus\n",
        "nltk.download('brown')\n",
        "nltk.download('gutenberg')\n",
        "nltk.download('genesis')\n",
        "nltk.download('inaugural')\n",
        "nltk.download('nps_chat')\n",
        "nltk.download('webtext')\n",
        "nltk.download('treebank')"
      ],
      "metadata": {
        "colab": {
          "base_uri": "https://localhost:8080/"
        },
        "id": "xiWDfYksrXAO",
        "outputId": "a09ec389-5f9d-429b-f85b-08fc45259c8e"
      },
      "execution_count": 176,
      "outputs": [
        {
          "output_type": "stream",
          "name": "stdout",
          "text": [
            "[nltk_data] Downloading package brown to /root/nltk_data...\n",
            "[nltk_data]   Package brown is already up-to-date!\n",
            "[nltk_data] Downloading package gutenberg to /root/nltk_data...\n",
            "[nltk_data]   Package gutenberg is already up-to-date!\n",
            "[nltk_data] Downloading package genesis to /root/nltk_data...\n",
            "[nltk_data]   Package genesis is already up-to-date!\n",
            "[nltk_data] Downloading package inaugural to /root/nltk_data...\n",
            "[nltk_data]   Package inaugural is already up-to-date!\n",
            "[nltk_data] Downloading package nps_chat to /root/nltk_data...\n",
            "[nltk_data]   Package nps_chat is already up-to-date!\n",
            "[nltk_data] Downloading package webtext to /root/nltk_data...\n",
            "[nltk_data]   Package webtext is already up-to-date!\n",
            "[nltk_data] Downloading package treebank to /root/nltk_data...\n",
            "[nltk_data]   Package treebank is already up-to-date!\n"
          ]
        },
        {
          "output_type": "execute_result",
          "data": {
            "text/plain": [
              "True"
            ]
          },
          "metadata": {},
          "execution_count": 176
        }
      ]
    },
    {
      "cell_type": "code",
      "source": [
        "brown.words()"
      ],
      "metadata": {
        "colab": {
          "base_uri": "https://localhost:8080/"
        },
        "id": "meLwZ46Zq3I_",
        "outputId": "af6cdf1b-a03e-4417-908e-d5b3c98f1c4f"
      },
      "execution_count": 177,
      "outputs": [
        {
          "output_type": "execute_result",
          "data": {
            "text/plain": [
              "['The', 'Fulton', 'County', 'Grand', 'Jury', 'said', ...]"
            ]
          },
          "metadata": {},
          "execution_count": 177
        }
      ]
    },
    {
      "cell_type": "code",
      "source": [
        "from nltk.book import *"
      ],
      "metadata": {
        "id": "rPhqeJ3Crngi"
      },
      "execution_count": 178,
      "outputs": []
    },
    {
      "cell_type": "code",
      "source": [
        "brown.categories()"
      ],
      "metadata": {
        "colab": {
          "base_uri": "https://localhost:8080/"
        },
        "id": "8BOrpghVrqV3",
        "outputId": "58ea9bff-8636-4b15-b359-1cc46462f722"
      },
      "execution_count": 179,
      "outputs": [
        {
          "output_type": "execute_result",
          "data": {
            "text/plain": [
              "['adventure',\n",
              " 'belles_lettres',\n",
              " 'editorial',\n",
              " 'fiction',\n",
              " 'government',\n",
              " 'hobbies',\n",
              " 'humor',\n",
              " 'learned',\n",
              " 'lore',\n",
              " 'mystery',\n",
              " 'news',\n",
              " 'religion',\n",
              " 'reviews',\n",
              " 'romance',\n",
              " 'science_fiction']"
            ]
          },
          "metadata": {},
          "execution_count": 179
        }
      ]
    },
    {
      "cell_type": "code",
      "source": [
        "review_words = brown.words(categories='mystery')\n",
        "review_words"
      ],
      "metadata": {
        "colab": {
          "base_uri": "https://localhost:8080/"
        },
        "id": "Fwg_1i_FsfMi",
        "outputId": "241abdc7-fa3f-4dbc-bac5-4405b1a39771"
      },
      "execution_count": 180,
      "outputs": [
        {
          "output_type": "execute_result",
          "data": {
            "text/plain": [
              "['There', 'were', 'thirty-eight', 'patients', 'on', ...]"
            ]
          },
          "metadata": {},
          "execution_count": 180
        }
      ]
    },
    {
      "cell_type": "markdown",
      "source": [
        "# Text extraction and preprocessing "
      ],
      "metadata": {
        "id": "pD_dk4bJwJod"
      }
    },
    {
      "cell_type": "code",
      "source": [
        "from nltk.tokenize import word_tokenize"
      ],
      "metadata": {
        "id": "gr3ZaSIlwQU-"
      },
      "execution_count": 181,
      "outputs": []
    },
    {
      "cell_type": "code",
      "source": [
        "nltk.download('punkt')"
      ],
      "metadata": {
        "colab": {
          "base_uri": "https://localhost:8080/"
        },
        "id": "6iYtHEi8xFIl",
        "outputId": "89106c8b-3f3c-4feb-dc78-7d5ae633ce34"
      },
      "execution_count": 182,
      "outputs": [
        {
          "output_type": "stream",
          "name": "stdout",
          "text": [
            "[nltk_data] Downloading package punkt to /root/nltk_data...\n",
            "[nltk_data]   Package punkt is already up-to-date!\n"
          ]
        },
        {
          "output_type": "execute_result",
          "data": {
            "text/plain": [
              "True"
            ]
          },
          "metadata": {},
          "execution_count": 182
        }
      ]
    },
    {
      "cell_type": "code",
      "source": [
        "sample_text_for_words_tokenization = \"hello world. how are you and what are you guys doing?\""
      ],
      "metadata": {
        "id": "22kiatcawlsW"
      },
      "execution_count": 183,
      "outputs": []
    },
    {
      "cell_type": "code",
      "source": [
        "word_tokenize(sample_text_for_words_tokenization)"
      ],
      "metadata": {
        "colab": {
          "base_uri": "https://localhost:8080/"
        },
        "id": "Skjjeq5ww04_",
        "outputId": "4bd24f82-b09f-4b4d-e703-c52f5aea3666"
      },
      "execution_count": 184,
      "outputs": [
        {
          "output_type": "execute_result",
          "data": {
            "text/plain": [
              "['hello',\n",
              " 'world',\n",
              " '.',\n",
              " 'how',\n",
              " 'are',\n",
              " 'you',\n",
              " 'and',\n",
              " 'what',\n",
              " 'are',\n",
              " 'you',\n",
              " 'guys',\n",
              " 'doing',\n",
              " '?']"
            ]
          },
          "metadata": {},
          "execution_count": 184
        }
      ]
    },
    {
      "cell_type": "markdown",
      "source": [
        "# Sentence tokenization"
      ],
      "metadata": {
        "id": "E0NrKQP7xf4n"
      }
    },
    {
      "cell_type": "code",
      "source": [
        "from nltk.tokenize import sent_tokenize"
      ],
      "metadata": {
        "id": "7wOEnPsMxizQ"
      },
      "execution_count": 185,
      "outputs": []
    },
    {
      "cell_type": "code",
      "source": [
        "sent_tokenize(sample_text_for_words_tokenization)"
      ],
      "metadata": {
        "colab": {
          "base_uri": "https://localhost:8080/"
        },
        "id": "3T_koxoBxlJ-",
        "outputId": "a75d4ac5-e5fb-41b9-ff61-c2591abcc995"
      },
      "execution_count": 186,
      "outputs": [
        {
          "output_type": "execute_result",
          "data": {
            "text/plain": [
              "['hello world.', 'how are you and what are you guys doing?']"
            ]
          },
          "metadata": {},
          "execution_count": 186
        }
      ]
    },
    {
      "cell_type": "markdown",
      "source": [
        "#Stop words"
      ],
      "metadata": {
        "id": "nwB3wcpA2KPG"
      }
    },
    {
      "cell_type": "code",
      "source": [
        "# List of stop words\n",
        "from nltk.corpus import stopwords"
      ],
      "metadata": {
        "id": "miQSWpp7yACV"
      },
      "execution_count": 187,
      "outputs": []
    },
    {
      "cell_type": "code",
      "source": [
        "nltk.download('stopwords')"
      ],
      "metadata": {
        "colab": {
          "base_uri": "https://localhost:8080/"
        },
        "id": "Lh0BO51Vy41M",
        "outputId": "3fc74517-fc27-4f40-ac20-65525cc0b55e"
      },
      "execution_count": 188,
      "outputs": [
        {
          "output_type": "stream",
          "name": "stdout",
          "text": [
            "[nltk_data] Downloading package stopwords to /root/nltk_data...\n",
            "[nltk_data]   Package stopwords is already up-to-date!\n"
          ]
        },
        {
          "output_type": "execute_result",
          "data": {
            "text/plain": [
              "True"
            ]
          },
          "metadata": {},
          "execution_count": 188
        }
      ]
    },
    {
      "cell_type": "code",
      "source": [
        "set(stopwords.words('english'))"
      ],
      "metadata": {
        "colab": {
          "base_uri": "https://localhost:8080/"
        },
        "id": "oTVJSgPmyoQw",
        "outputId": "4570442b-4d32-4850-8785-57db802450a4"
      },
      "execution_count": 189,
      "outputs": [
        {
          "output_type": "execute_result",
          "data": {
            "text/plain": [
              "{'a',\n",
              " 'about',\n",
              " 'above',\n",
              " 'after',\n",
              " 'again',\n",
              " 'against',\n",
              " 'ain',\n",
              " 'all',\n",
              " 'am',\n",
              " 'an',\n",
              " 'and',\n",
              " 'any',\n",
              " 'are',\n",
              " 'aren',\n",
              " \"aren't\",\n",
              " 'as',\n",
              " 'at',\n",
              " 'be',\n",
              " 'because',\n",
              " 'been',\n",
              " 'before',\n",
              " 'being',\n",
              " 'below',\n",
              " 'between',\n",
              " 'both',\n",
              " 'but',\n",
              " 'by',\n",
              " 'can',\n",
              " 'couldn',\n",
              " \"couldn't\",\n",
              " 'd',\n",
              " 'did',\n",
              " 'didn',\n",
              " \"didn't\",\n",
              " 'do',\n",
              " 'does',\n",
              " 'doesn',\n",
              " \"doesn't\",\n",
              " 'doing',\n",
              " 'don',\n",
              " \"don't\",\n",
              " 'down',\n",
              " 'during',\n",
              " 'each',\n",
              " 'few',\n",
              " 'for',\n",
              " 'from',\n",
              " 'further',\n",
              " 'had',\n",
              " 'hadn',\n",
              " \"hadn't\",\n",
              " 'has',\n",
              " 'hasn',\n",
              " \"hasn't\",\n",
              " 'have',\n",
              " 'haven',\n",
              " \"haven't\",\n",
              " 'having',\n",
              " 'he',\n",
              " 'her',\n",
              " 'here',\n",
              " 'hers',\n",
              " 'herself',\n",
              " 'him',\n",
              " 'himself',\n",
              " 'his',\n",
              " 'how',\n",
              " 'i',\n",
              " 'if',\n",
              " 'in',\n",
              " 'into',\n",
              " 'is',\n",
              " 'isn',\n",
              " \"isn't\",\n",
              " 'it',\n",
              " \"it's\",\n",
              " 'its',\n",
              " 'itself',\n",
              " 'just',\n",
              " 'll',\n",
              " 'm',\n",
              " 'ma',\n",
              " 'me',\n",
              " 'mightn',\n",
              " \"mightn't\",\n",
              " 'more',\n",
              " 'most',\n",
              " 'mustn',\n",
              " \"mustn't\",\n",
              " 'my',\n",
              " 'myself',\n",
              " 'needn',\n",
              " \"needn't\",\n",
              " 'no',\n",
              " 'nor',\n",
              " 'not',\n",
              " 'now',\n",
              " 'o',\n",
              " 'of',\n",
              " 'off',\n",
              " 'on',\n",
              " 'once',\n",
              " 'only',\n",
              " 'or',\n",
              " 'other',\n",
              " 'our',\n",
              " 'ours',\n",
              " 'ourselves',\n",
              " 'out',\n",
              " 'over',\n",
              " 'own',\n",
              " 're',\n",
              " 's',\n",
              " 'same',\n",
              " 'shan',\n",
              " \"shan't\",\n",
              " 'she',\n",
              " \"she's\",\n",
              " 'should',\n",
              " \"should've\",\n",
              " 'shouldn',\n",
              " \"shouldn't\",\n",
              " 'so',\n",
              " 'some',\n",
              " 'such',\n",
              " 't',\n",
              " 'than',\n",
              " 'that',\n",
              " \"that'll\",\n",
              " 'the',\n",
              " 'their',\n",
              " 'theirs',\n",
              " 'them',\n",
              " 'themselves',\n",
              " 'then',\n",
              " 'there',\n",
              " 'these',\n",
              " 'they',\n",
              " 'this',\n",
              " 'those',\n",
              " 'through',\n",
              " 'to',\n",
              " 'too',\n",
              " 'under',\n",
              " 'until',\n",
              " 'up',\n",
              " 've',\n",
              " 'very',\n",
              " 'was',\n",
              " 'wasn',\n",
              " \"wasn't\",\n",
              " 'we',\n",
              " 'were',\n",
              " 'weren',\n",
              " \"weren't\",\n",
              " 'what',\n",
              " 'when',\n",
              " 'where',\n",
              " 'which',\n",
              " 'while',\n",
              " 'who',\n",
              " 'whom',\n",
              " 'why',\n",
              " 'will',\n",
              " 'with',\n",
              " 'won',\n",
              " \"won't\",\n",
              " 'wouldn',\n",
              " \"wouldn't\",\n",
              " 'y',\n",
              " 'you',\n",
              " \"you'd\",\n",
              " \"you'll\",\n",
              " \"you're\",\n",
              " \"you've\",\n",
              " 'your',\n",
              " 'yours',\n",
              " 'yourself',\n",
              " 'yourselves'}"
            ]
          },
          "metadata": {},
          "execution_count": 189
        }
      ]
    },
    {
      "cell_type": "code",
      "source": [
        "# Text filtering\n",
        "# sample code for tokenizing and removal of stop words\n",
        "\n",
        "required_words_list = []\n",
        "stop_words_list = []\n",
        "\n",
        "for w in word_tokenize(sample_text_for_words_tokenization):\n",
        "  if w in stopwords.words('english'):\n",
        "    stop_words_list.append(w)\n",
        "  else:\n",
        "    required_words_list.append(w)\n"
      ],
      "metadata": {
        "id": "1k7S5ArCzLWW"
      },
      "execution_count": 190,
      "outputs": []
    },
    {
      "cell_type": "code",
      "source": [
        "stop_words_list"
      ],
      "metadata": {
        "colab": {
          "base_uri": "https://localhost:8080/"
        },
        "id": "8QMaX9br0reC",
        "outputId": "4f0f41c7-568c-42c0-e2cc-9745f4265cc2"
      },
      "execution_count": 191,
      "outputs": [
        {
          "output_type": "execute_result",
          "data": {
            "text/plain": [
              "['how', 'are', 'you', 'and', 'what', 'are', 'you', 'doing']"
            ]
          },
          "metadata": {},
          "execution_count": 191
        }
      ]
    },
    {
      "cell_type": "code",
      "source": [
        "required_words_list"
      ],
      "metadata": {
        "colab": {
          "base_uri": "https://localhost:8080/"
        },
        "id": "tHu21oD20u0h",
        "outputId": "f50018a8-8a61-4426-e18e-a68bfbb0ec0b"
      },
      "execution_count": 192,
      "outputs": [
        {
          "output_type": "execute_result",
          "data": {
            "text/plain": [
              "['hello', 'world', '.', 'guys', '?']"
            ]
          },
          "metadata": {},
          "execution_count": 192
        }
      ]
    },
    {
      "cell_type": "markdown",
      "source": [
        "# STEMMING\n",
        "\n",
        "# <h3>Algorithms - Porter Stemmer, Lancaster Stemmer, Snowball Stemmer</h3>"
      ],
      "metadata": {
        "id": "u87Z6qHB2FWO"
      }
    },
    {
      "cell_type": "code",
      "source": [
        "from nltk.stem import PorterStemmer, SnowballStemmer"
      ],
      "metadata": {
        "id": "wVPbqluG1at3"
      },
      "execution_count": 193,
      "outputs": []
    },
    {
      "cell_type": "code",
      "source": [
        "p = PorterStemmer()\n",
        "p"
      ],
      "metadata": {
        "colab": {
          "base_uri": "https://localhost:8080/"
        },
        "id": "Pm6r-Kf42DDe",
        "outputId": "7509ee91-f16f-482f-d2d0-b06fbff4252e"
      },
      "execution_count": 194,
      "outputs": [
        {
          "output_type": "execute_result",
          "data": {
            "text/plain": [
              "<PorterStemmer>"
            ]
          },
          "metadata": {},
          "execution_count": 194
        }
      ]
    },
    {
      "cell_type": "code",
      "source": [
        "snowball = SnowballStemmer('english')"
      ],
      "metadata": {
        "id": "3AeanXx26-OE"
      },
      "execution_count": 195,
      "outputs": []
    },
    {
      "cell_type": "code",
      "source": [
        "sample_text_for_stemming = \"The problem in India is our potential buyers are not as interested in mundane features and specs. They want to know what’s in it for them—how it will address their biggest pain points. Successfully executing how to write a product description requires you to highlight those benefits of each feature.\""
      ],
      "metadata": {
        "id": "JVHhoAjM2oUa"
      },
      "execution_count": 196,
      "outputs": []
    },
    {
      "cell_type": "code",
      "source": [
        "words = word_tokenize(sample_text_for_stemming)\n",
        "words_after_stemming_withPorter_list = []\n",
        "words_after_stemming_withSnowball_list = []\n",
        "for w in words:\n",
        "  words_after_stemming_withPorter_list.append(p.stem(w))\n",
        "  words_after_stemming_withSnowball_list.append(snowball.stem(w))"
      ],
      "metadata": {
        "id": "wt3ubwvY22jB"
      },
      "execution_count": 197,
      "outputs": []
    },
    {
      "cell_type": "code",
      "source": [
        "words_after_stemming_list"
      ],
      "metadata": {
        "colab": {
          "base_uri": "https://localhost:8080/"
        },
        "id": "yBKfnEqx33Ji",
        "outputId": "47140325-2d5e-41a4-d742-c4eda6ed242e"
      },
      "execution_count": 198,
      "outputs": [
        {
          "output_type": "execute_result",
          "data": {
            "text/plain": [
              "['the',\n",
              " 'problem',\n",
              " 'is',\n",
              " 'our',\n",
              " 'potenti',\n",
              " 'buyer',\n",
              " 'are',\n",
              " 'not',\n",
              " 'as',\n",
              " 'interest',\n",
              " 'in',\n",
              " 'mundan',\n",
              " 'featur',\n",
              " 'and',\n",
              " 'spec',\n",
              " '.',\n",
              " 'they',\n",
              " 'want',\n",
              " 'to',\n",
              " 'know',\n",
              " 'what',\n",
              " '’',\n",
              " 's',\n",
              " 'in',\n",
              " 'it',\n",
              " 'for',\n",
              " 'them—how',\n",
              " 'it',\n",
              " 'will',\n",
              " 'address',\n",
              " 'their',\n",
              " 'biggest',\n",
              " 'pain',\n",
              " 'point',\n",
              " '.',\n",
              " 'success',\n",
              " 'execut',\n",
              " 'how',\n",
              " 'to',\n",
              " 'write',\n",
              " 'a',\n",
              " 'product',\n",
              " 'descript',\n",
              " 'requir',\n",
              " 'you',\n",
              " 'to',\n",
              " 'highlight',\n",
              " 'those',\n",
              " 'benefit',\n",
              " 'of',\n",
              " 'each',\n",
              " 'featur',\n",
              " '.',\n",
              " 'the',\n",
              " 'problem',\n",
              " 'is',\n",
              " 'our',\n",
              " 'potenti',\n",
              " 'buyer',\n",
              " 'are',\n",
              " 'not',\n",
              " 'as',\n",
              " 'interest',\n",
              " 'in',\n",
              " 'mundan',\n",
              " 'featur',\n",
              " 'and',\n",
              " 'spec',\n",
              " '.',\n",
              " 'they',\n",
              " 'want',\n",
              " 'to',\n",
              " 'know',\n",
              " 'what',\n",
              " '’',\n",
              " 's',\n",
              " 'in',\n",
              " 'it',\n",
              " 'for',\n",
              " 'them—how',\n",
              " 'it',\n",
              " 'will',\n",
              " 'address',\n",
              " 'their',\n",
              " 'biggest',\n",
              " 'pain',\n",
              " 'point',\n",
              " '.',\n",
              " 'success',\n",
              " 'execut',\n",
              " 'how',\n",
              " 'to',\n",
              " 'write',\n",
              " 'a',\n",
              " 'product',\n",
              " 'descript',\n",
              " 'requir',\n",
              " 'you',\n",
              " 'to',\n",
              " 'highlight',\n",
              " 'those',\n",
              " 'benefit',\n",
              " 'of',\n",
              " 'each',\n",
              " 'featur',\n",
              " '.',\n",
              " 'the',\n",
              " 'problem',\n",
              " 'in',\n",
              " 'india',\n",
              " 'is',\n",
              " 'our',\n",
              " 'potenti',\n",
              " 'buyer',\n",
              " 'are',\n",
              " 'not',\n",
              " 'as',\n",
              " 'interest',\n",
              " 'in',\n",
              " 'mundan',\n",
              " 'featur',\n",
              " 'and',\n",
              " 'spec',\n",
              " '.',\n",
              " 'they',\n",
              " 'want',\n",
              " 'to',\n",
              " 'know',\n",
              " 'what',\n",
              " '’',\n",
              " 's',\n",
              " 'in',\n",
              " 'it',\n",
              " 'for',\n",
              " 'them—how',\n",
              " 'it',\n",
              " 'will',\n",
              " 'address',\n",
              " 'their',\n",
              " 'biggest',\n",
              " 'pain',\n",
              " 'point',\n",
              " '.',\n",
              " 'success',\n",
              " 'execut',\n",
              " 'how',\n",
              " 'to',\n",
              " 'write',\n",
              " 'a',\n",
              " 'product',\n",
              " 'descript',\n",
              " 'requir',\n",
              " 'you',\n",
              " 'to',\n",
              " 'highlight',\n",
              " 'those',\n",
              " 'benefit',\n",
              " 'of',\n",
              " 'each',\n",
              " 'featur',\n",
              " '.']"
            ]
          },
          "metadata": {},
          "execution_count": 198
        }
      ]
    },
    {
      "cell_type": "code",
      "source": [
        "words_after_stemming_withSnowball_list"
      ],
      "metadata": {
        "colab": {
          "base_uri": "https://localhost:8080/"
        },
        "id": "qblgd90x7nk7",
        "outputId": "fdef5315-26dc-4625-c62c-9341e0148099"
      },
      "execution_count": 199,
      "outputs": [
        {
          "output_type": "execute_result",
          "data": {
            "text/plain": [
              "['the',\n",
              " 'problem',\n",
              " 'in',\n",
              " 'india',\n",
              " 'is',\n",
              " 'our',\n",
              " 'potenti',\n",
              " 'buyer',\n",
              " 'are',\n",
              " 'not',\n",
              " 'as',\n",
              " 'interest',\n",
              " 'in',\n",
              " 'mundan',\n",
              " 'featur',\n",
              " 'and',\n",
              " 'spec',\n",
              " '.',\n",
              " 'they',\n",
              " 'want',\n",
              " 'to',\n",
              " 'know',\n",
              " 'what',\n",
              " '’',\n",
              " 's',\n",
              " 'in',\n",
              " 'it',\n",
              " 'for',\n",
              " 'them—how',\n",
              " 'it',\n",
              " 'will',\n",
              " 'address',\n",
              " 'their',\n",
              " 'biggest',\n",
              " 'pain',\n",
              " 'point',\n",
              " '.',\n",
              " 'success',\n",
              " 'execut',\n",
              " 'how',\n",
              " 'to',\n",
              " 'write',\n",
              " 'a',\n",
              " 'product',\n",
              " 'descript',\n",
              " 'requir',\n",
              " 'you',\n",
              " 'to',\n",
              " 'highlight',\n",
              " 'those',\n",
              " 'benefit',\n",
              " 'of',\n",
              " 'each',\n",
              " 'featur',\n",
              " '.']"
            ]
          },
          "metadata": {},
          "execution_count": 199
        }
      ]
    },
    {
      "cell_type": "code",
      "source": [
        "required_words_list_after_stemming = []\n",
        "stop_words_list_after_stemming = []\n",
        "\n",
        "for w in words_after_stemming_withSnowball_list:\n",
        "  if w in stopwords.words('english'):\n",
        "    stop_words_list_after_stemming.append(w)\n",
        "  else:\n",
        "    required_words_list_after_stemming.append(w)"
      ],
      "metadata": {
        "id": "Z5CldDT53o_s"
      },
      "execution_count": 214,
      "outputs": []
    },
    {
      "cell_type": "code",
      "source": [
        "required_words_list_after_stemming"
      ],
      "metadata": {
        "colab": {
          "base_uri": "https://localhost:8080/"
        },
        "id": "fwKklpBU4LpB",
        "outputId": "75dea2b0-ae36-4d50-836a-b1afa6704066"
      },
      "execution_count": 201,
      "outputs": [
        {
          "output_type": "execute_result",
          "data": {
            "text/plain": [
              "['problem',\n",
              " 'potenti',\n",
              " 'buyer',\n",
              " 'interest',\n",
              " 'mundan',\n",
              " 'featur',\n",
              " 'spec',\n",
              " '.',\n",
              " 'want',\n",
              " 'know',\n",
              " '’',\n",
              " 'them—how',\n",
              " 'address',\n",
              " 'biggest',\n",
              " 'pain',\n",
              " 'point',\n",
              " '.',\n",
              " 'success',\n",
              " 'execut',\n",
              " 'write',\n",
              " 'product',\n",
              " 'descript',\n",
              " 'requir',\n",
              " 'highlight',\n",
              " 'benefit',\n",
              " 'featur',\n",
              " '.',\n",
              " 'problem',\n",
              " 'potenti',\n",
              " 'buyer',\n",
              " 'interest',\n",
              " 'mundan',\n",
              " 'featur',\n",
              " 'spec',\n",
              " '.',\n",
              " 'want',\n",
              " 'know',\n",
              " '’',\n",
              " 'them—how',\n",
              " 'address',\n",
              " 'biggest',\n",
              " 'pain',\n",
              " 'point',\n",
              " '.',\n",
              " 'success',\n",
              " 'execut',\n",
              " 'write',\n",
              " 'product',\n",
              " 'descript',\n",
              " 'requir',\n",
              " 'highlight',\n",
              " 'benefit',\n",
              " 'featur',\n",
              " '.',\n",
              " 'problem',\n",
              " 'india',\n",
              " 'potenti',\n",
              " 'buyer',\n",
              " 'interest',\n",
              " 'mundan',\n",
              " 'featur',\n",
              " 'spec',\n",
              " '.',\n",
              " 'want',\n",
              " 'know',\n",
              " '’',\n",
              " 'them—how',\n",
              " 'address',\n",
              " 'biggest',\n",
              " 'pain',\n",
              " 'point',\n",
              " '.',\n",
              " 'success',\n",
              " 'execut',\n",
              " 'write',\n",
              " 'product',\n",
              " 'descript',\n",
              " 'requir',\n",
              " 'highlight',\n",
              " 'benefit',\n",
              " 'featur',\n",
              " '.']"
            ]
          },
          "metadata": {},
          "execution_count": 201
        }
      ]
    },
    {
      "cell_type": "markdown",
      "source": [
        "# Lemmatization"
      ],
      "metadata": {
        "id": "zmjWUN788_my"
      }
    },
    {
      "cell_type": "code",
      "source": [
        "from nltk.stem import WordNetLemmatizer"
      ],
      "metadata": {
        "id": "Jzetqtdl8Hux"
      },
      "execution_count": 215,
      "outputs": []
    },
    {
      "cell_type": "code",
      "source": [
        "nltk.download('wordnet')"
      ],
      "metadata": {
        "colab": {
          "base_uri": "https://localhost:8080/"
        },
        "id": "j_pu_FTM9lvc",
        "outputId": "a398c8e5-58b8-4f4b-8a88-71b6eb478def"
      },
      "execution_count": 216,
      "outputs": [
        {
          "output_type": "stream",
          "name": "stdout",
          "text": [
            "[nltk_data] Downloading package wordnet to /root/nltk_data...\n",
            "[nltk_data]   Package wordnet is already up-to-date!\n"
          ]
        },
        {
          "output_type": "execute_result",
          "data": {
            "text/plain": [
              "True"
            ]
          },
          "metadata": {},
          "execution_count": 216
        }
      ]
    },
    {
      "cell_type": "code",
      "source": [
        "lemmatizer = WordNetLemmatizer()"
      ],
      "metadata": {
        "id": "bt87ovHi9JTk"
      },
      "execution_count": 217,
      "outputs": []
    },
    {
      "cell_type": "code",
      "source": [
        "lemmaitized_words_list = []\n",
        "for words in required_words_list_after_stemming:\n",
        "  lm = lemmatizer.lemmatize(words)\n",
        "  lemmaitized_words_list.append(lm)\n",
        "  print(lemmatizer.lemmatize(words,\"v\"))# using verb for pos tagging"
      ],
      "metadata": {
        "colab": {
          "base_uri": "https://localhost:8080/"
        },
        "id": "Wx0TSkRn9NLg",
        "outputId": "65fd0de4-eef4-46c8-919e-a22c6b17367a"
      },
      "execution_count": 218,
      "outputs": [
        {
          "output_type": "stream",
          "name": "stdout",
          "text": [
            "problem\n",
            "india\n",
            "potenti\n",
            "buyer\n",
            "interest\n",
            "mundan\n",
            "featur\n",
            "spec\n",
            ".\n",
            "want\n",
            "know\n",
            "’\n",
            "them—how\n",
            "address\n",
            "biggest\n",
            "pain\n",
            "point\n",
            ".\n",
            "success\n",
            "execut\n",
            "write\n",
            "product\n",
            "descript\n",
            "requir\n",
            "highlight\n",
            "benefit\n",
            "featur\n",
            ".\n"
          ]
        }
      ]
    },
    {
      "cell_type": "code",
      "source": [
        "lemmaitized_words_list"
      ],
      "metadata": {
        "colab": {
          "base_uri": "https://localhost:8080/"
        },
        "id": "c71Si9GA_EJN",
        "outputId": "294ce4e1-78ac-4a9d-d29a-6c685c993994"
      },
      "execution_count": 219,
      "outputs": [
        {
          "output_type": "execute_result",
          "data": {
            "text/plain": [
              "['problem',\n",
              " 'india',\n",
              " 'potenti',\n",
              " 'buyer',\n",
              " 'interest',\n",
              " 'mundan',\n",
              " 'featur',\n",
              " 'spec',\n",
              " '.',\n",
              " 'want',\n",
              " 'know',\n",
              " '’',\n",
              " 'them—how',\n",
              " 'address',\n",
              " 'biggest',\n",
              " 'pain',\n",
              " 'point',\n",
              " '.',\n",
              " 'success',\n",
              " 'execut',\n",
              " 'write',\n",
              " 'product',\n",
              " 'descript',\n",
              " 'requir',\n",
              " 'highlight',\n",
              " 'benefit',\n",
              " 'featur',\n",
              " '.']"
            ]
          },
          "metadata": {},
          "execution_count": 219
        }
      ]
    },
    {
      "cell_type": "markdown",
      "source": [
        "# Parts of speech(POS) Tagging"
      ],
      "metadata": {
        "id": "3eDEiT7J-RtQ"
      }
    },
    {
      "cell_type": "code",
      "source": [
        "nltk.download('averaged_perceptron_tagger')\n"
      ],
      "metadata": {
        "colab": {
          "base_uri": "https://localhost:8080/"
        },
        "id": "VtlxZNyc-XO6",
        "outputId": "9148f8a6-4cc7-43ab-b3c9-52c444001d22"
      },
      "execution_count": 220,
      "outputs": [
        {
          "output_type": "stream",
          "name": "stdout",
          "text": [
            "[nltk_data] Downloading package averaged_perceptron_tagger to\n",
            "[nltk_data]     /root/nltk_data...\n",
            "[nltk_data]   Package averaged_perceptron_tagger is already up-to-\n",
            "[nltk_data]       date!\n"
          ]
        },
        {
          "output_type": "execute_result",
          "data": {
            "text/plain": [
              "True"
            ]
          },
          "metadata": {},
          "execution_count": 220
        }
      ]
    },
    {
      "cell_type": "code",
      "source": [
        "sentence_before_posTagging = ' '.join(lemmaitized_words_list)"
      ],
      "metadata": {
        "id": "kE0Y_mjY_WzT"
      },
      "execution_count": 221,
      "outputs": []
    },
    {
      "cell_type": "code",
      "source": [
        "final_posTagged_list = []\n",
        "\n",
        "for w in lemmaitized_words_list:\n",
        "  tokenize_text = nltk.word_tokenize(w)\n",
        "  posTagging_text = nltk.pos_tag(tokenize_text)\n",
        "  final_posTagged_list.append(posTagging_text)\n",
        "  print(posTagging_text)"
      ],
      "metadata": {
        "colab": {
          "base_uri": "https://localhost:8080/"
        },
        "id": "i9RTUrt4BaRu",
        "outputId": "5629c66b-cc04-40f7-9f15-eb8de0cdc3b0"
      },
      "execution_count": 222,
      "outputs": [
        {
          "output_type": "stream",
          "name": "stdout",
          "text": [
            "[('problem', 'NN')]\n",
            "[('india', 'NN')]\n",
            "[('potenti', 'NN')]\n",
            "[('buyer', 'NN')]\n",
            "[('interest', 'NN')]\n",
            "[('mundan', 'NN')]\n",
            "[('featur', 'NN')]\n",
            "[('spec', 'NN')]\n",
            "[('.', '.')]\n",
            "[('want', 'NN')]\n",
            "[('know', 'VB')]\n",
            "[('’', 'NN')]\n",
            "[('them—how', 'NN')]\n",
            "[('address', 'NN')]\n",
            "[('biggest', 'JJS')]\n",
            "[('pain', 'NN')]\n",
            "[('point', 'NN')]\n",
            "[('.', '.')]\n",
            "[('success', 'NN')]\n",
            "[('execut', 'NN')]\n",
            "[('write', 'NN')]\n",
            "[('product', 'NN')]\n",
            "[('descript', 'NN')]\n",
            "[('requir', 'NN')]\n",
            "[('highlight', 'NN')]\n",
            "[('benefit', 'NN')]\n",
            "[('featur', 'NN')]\n",
            "[('.', '.')]\n"
          ]
        }
      ]
    },
    {
      "cell_type": "markdown",
      "source": [
        "# Named Entity Recognition (NER)"
      ],
      "metadata": {
        "id": "flpCeoCZDGXi"
      }
    },
    {
      "cell_type": "code",
      "source": [
        "nltk.download('maxent_ne_chunker')\n",
        "nltk.download('words')"
      ],
      "metadata": {
        "colab": {
          "base_uri": "https://localhost:8080/"
        },
        "id": "yVqdbjybGW4i",
        "outputId": "3cfe8330-bf1e-438f-98a5-c5ec37e2e308"
      },
      "execution_count": 223,
      "outputs": [
        {
          "output_type": "stream",
          "name": "stdout",
          "text": [
            "[nltk_data] Downloading package maxent_ne_chunker to\n",
            "[nltk_data]     /root/nltk_data...\n",
            "[nltk_data]   Package maxent_ne_chunker is already up-to-date!\n",
            "[nltk_data] Downloading package words to /root/nltk_data...\n",
            "[nltk_data]   Package words is already up-to-date!\n"
          ]
        },
        {
          "output_type": "execute_result",
          "data": {
            "text/plain": [
              "True"
            ]
          },
          "metadata": {},
          "execution_count": 223
        }
      ]
    },
    {
      "cell_type": "code",
      "source": [
        "chunked_words_list = []\n",
        "for words in final_posTagged_list:\n",
        "  nltk.ne_chunk(words)\n",
        "  chunked_words_list.append(nltk.ne_chunk(words))\n",
        "  print(nltk.ne_chunk(words))"
      ],
      "metadata": {
        "colab": {
          "base_uri": "https://localhost:8080/"
        },
        "id": "GhB0PbfXDKWj",
        "outputId": "885d63fc-e8b3-4220-a912-5b7eeac7651c"
      },
      "execution_count": 224,
      "outputs": [
        {
          "output_type": "stream",
          "name": "stdout",
          "text": [
            "(S problem/NN)\n",
            "(S india/NN)\n",
            "(S potenti/NN)\n",
            "(S buyer/NN)\n",
            "(S interest/NN)\n",
            "(S mundan/NN)\n",
            "(S featur/NN)\n",
            "(S spec/NN)\n",
            "(S ./.)\n",
            "(S want/NN)\n",
            "(S know/VB)\n",
            "(S ’/NN)\n",
            "(S them—how/NN)\n",
            "(S address/NN)\n",
            "(S biggest/JJS)\n",
            "(S pain/NN)\n",
            "(S point/NN)\n",
            "(S ./.)\n",
            "(S success/NN)\n",
            "(S execut/NN)\n",
            "(S write/NN)\n",
            "(S product/NN)\n",
            "(S descript/NN)\n",
            "(S requir/NN)\n",
            "(S highlight/NN)\n",
            "(S benefit/NN)\n",
            "(S featur/NN)\n",
            "(S ./.)\n"
          ]
        }
      ]
    },
    {
      "cell_type": "code",
      "source": [
        "chunked_words_list"
      ],
      "metadata": {
        "colab": {
          "base_uri": "https://localhost:8080/"
        },
        "id": "7LNuue5-HIjM",
        "outputId": "8dbf16bc-0211-4798-834a-f02e3a2b0206"
      },
      "execution_count": 225,
      "outputs": [
        {
          "output_type": "execute_result",
          "data": {
            "text/plain": [
              "[Tree('S', [('problem', 'NN')]),\n",
              " Tree('S', [('india', 'NN')]),\n",
              " Tree('S', [('potenti', 'NN')]),\n",
              " Tree('S', [('buyer', 'NN')]),\n",
              " Tree('S', [('interest', 'NN')]),\n",
              " Tree('S', [('mundan', 'NN')]),\n",
              " Tree('S', [('featur', 'NN')]),\n",
              " Tree('S', [('spec', 'NN')]),\n",
              " Tree('S', [('.', '.')]),\n",
              " Tree('S', [('want', 'NN')]),\n",
              " Tree('S', [('know', 'VB')]),\n",
              " Tree('S', [('’', 'NN')]),\n",
              " Tree('S', [('them—how', 'NN')]),\n",
              " Tree('S', [('address', 'NN')]),\n",
              " Tree('S', [('biggest', 'JJS')]),\n",
              " Tree('S', [('pain', 'NN')]),\n",
              " Tree('S', [('point', 'NN')]),\n",
              " Tree('S', [('.', '.')]),\n",
              " Tree('S', [('success', 'NN')]),\n",
              " Tree('S', [('execut', 'NN')]),\n",
              " Tree('S', [('write', 'NN')]),\n",
              " Tree('S', [('product', 'NN')]),\n",
              " Tree('S', [('descript', 'NN')]),\n",
              " Tree('S', [('requir', 'NN')]),\n",
              " Tree('S', [('highlight', 'NN')]),\n",
              " Tree('S', [('benefit', 'NN')]),\n",
              " Tree('S', [('featur', 'NN')]),\n",
              " Tree('S', [('.', '.')])]"
            ]
          },
          "metadata": {},
          "execution_count": 225
        }
      ]
    },
    {
      "cell_type": "code",
      "source": [
        "for words in chunked_words_list:\n",
        "  if hasattr(words, 'label'):\n",
        "    print(words.label())"
      ],
      "metadata": {
        "colab": {
          "base_uri": "https://localhost:8080/"
        },
        "id": "jyUHH0yxHlAv",
        "outputId": "0ab91d80-68e2-4438-b1df-c62a057f4f7a"
      },
      "execution_count": 226,
      "outputs": [
        {
          "output_type": "stream",
          "name": "stdout",
          "text": [
            "S\n",
            "S\n",
            "S\n",
            "S\n",
            "S\n",
            "S\n",
            "S\n",
            "S\n",
            "S\n",
            "S\n",
            "S\n",
            "S\n",
            "S\n",
            "S\n",
            "S\n",
            "S\n",
            "S\n",
            "S\n",
            "S\n",
            "S\n",
            "S\n",
            "S\n",
            "S\n",
            "S\n",
            "S\n",
            "S\n",
            "S\n",
            "S\n"
          ]
        }
      ]
    },
    {
      "cell_type": "code",
      "source": [
        ""
      ],
      "metadata": {
        "id": "bWXcT4nGMPO0"
      },
      "execution_count": null,
      "outputs": []
    }
  ]
}