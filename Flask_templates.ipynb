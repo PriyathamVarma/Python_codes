{
  "nbformat": 4,
  "nbformat_minor": 0,
  "metadata": {
    "colab": {
      "name": "Flask_templates.ipynb",
      "provenance": [],
      "authorship_tag": "ABX9TyOAhGF3jKWrU7BCxvEmRL7u",
      "include_colab_link": true
    },
    "kernelspec": {
      "name": "python3",
      "display_name": "Python 3"
    },
    "language_info": {
      "name": "python"
    }
  },
  "cells": [
    {
      "cell_type": "markdown",
      "metadata": {
        "id": "view-in-github",
        "colab_type": "text"
      },
      "source": [
        "<a href=\"https://colab.research.google.com/github/PriyathamVarma/PriyathamVarma/blob/main/Flask_templates.ipynb\" target=\"_parent\"><img src=\"https://colab.research.google.com/assets/colab-badge.svg\" alt=\"Open In Colab\"/></a>"
      ]
    },
    {
      "cell_type": "markdown",
      "source": [
        "# This notebook is for creating templates and flask"
      ],
      "metadata": {
        "id": "MLHAuTiyljOE"
      }
    },
    {
      "cell_type": "code",
      "source": [
        "!pip install flask-ngrok\n",
        "!pip install flask==0.12.2  # Newer versions of flask don't work in Colab\n",
        "                            # See https://github.com/plotly/dash/issues/257"
      ],
      "metadata": {
        "colab": {
          "base_uri": "https://localhost:8080/"
        },
        "id": "j_-e6D2klput",
        "outputId": "d88e8e04-39a0-4d8a-d73e-c268e3bf5e13"
      },
      "execution_count": 1,
      "outputs": [
        {
          "output_type": "stream",
          "name": "stdout",
          "text": [
            "Collecting flask-ngrok\n",
            "  Downloading flask_ngrok-0.0.25-py3-none-any.whl (3.1 kB)\n",
            "Requirement already satisfied: requests in /usr/local/lib/python3.7/dist-packages (from flask-ngrok) (2.23.0)\n",
            "Requirement already satisfied: Flask>=0.8 in /usr/local/lib/python3.7/dist-packages (from flask-ngrok) (1.1.4)\n",
            "Requirement already satisfied: click<8.0,>=5.1 in /usr/local/lib/python3.7/dist-packages (from Flask>=0.8->flask-ngrok) (7.1.2)\n",
            "Requirement already satisfied: Jinja2<3.0,>=2.10.1 in /usr/local/lib/python3.7/dist-packages (from Flask>=0.8->flask-ngrok) (2.11.3)\n",
            "Requirement already satisfied: Werkzeug<2.0,>=0.15 in /usr/local/lib/python3.7/dist-packages (from Flask>=0.8->flask-ngrok) (1.0.1)\n",
            "Requirement already satisfied: itsdangerous<2.0,>=0.24 in /usr/local/lib/python3.7/dist-packages (from Flask>=0.8->flask-ngrok) (1.1.0)\n",
            "Requirement already satisfied: MarkupSafe>=0.23 in /usr/local/lib/python3.7/dist-packages (from Jinja2<3.0,>=2.10.1->Flask>=0.8->flask-ngrok) (2.0.1)\n",
            "Requirement already satisfied: certifi>=2017.4.17 in /usr/local/lib/python3.7/dist-packages (from requests->flask-ngrok) (2021.10.8)\n",
            "Requirement already satisfied: chardet<4,>=3.0.2 in /usr/local/lib/python3.7/dist-packages (from requests->flask-ngrok) (3.0.4)\n",
            "Requirement already satisfied: urllib3!=1.25.0,!=1.25.1,<1.26,>=1.21.1 in /usr/local/lib/python3.7/dist-packages (from requests->flask-ngrok) (1.24.3)\n",
            "Requirement already satisfied: idna<3,>=2.5 in /usr/local/lib/python3.7/dist-packages (from requests->flask-ngrok) (2.10)\n",
            "Installing collected packages: flask-ngrok\n",
            "Successfully installed flask-ngrok-0.0.25\n",
            "Collecting flask==0.12.2\n",
            "  Downloading Flask-0.12.2-py2.py3-none-any.whl (83 kB)\n",
            "\u001b[K     |████████████████████████████████| 83 kB 939 kB/s \n",
            "\u001b[?25hRequirement already satisfied: click>=2.0 in /usr/local/lib/python3.7/dist-packages (from flask==0.12.2) (7.1.2)\n",
            "Requirement already satisfied: Werkzeug>=0.7 in /usr/local/lib/python3.7/dist-packages (from flask==0.12.2) (1.0.1)\n",
            "Requirement already satisfied: Jinja2>=2.4 in /usr/local/lib/python3.7/dist-packages (from flask==0.12.2) (2.11.3)\n",
            "Requirement already satisfied: itsdangerous>=0.21 in /usr/local/lib/python3.7/dist-packages (from flask==0.12.2) (1.1.0)\n",
            "Requirement already satisfied: MarkupSafe>=0.23 in /usr/local/lib/python3.7/dist-packages (from Jinja2>=2.4->flask==0.12.2) (2.0.1)\n",
            "Installing collected packages: flask\n",
            "  Attempting uninstall: flask\n",
            "    Found existing installation: Flask 1.1.4\n",
            "    Uninstalling Flask-1.1.4:\n",
            "      Successfully uninstalled Flask-1.1.4\n",
            "Successfully installed flask-0.12.2\n"
          ]
        }
      ]
    },
    {
      "cell_type": "code",
      "source": [
        "!pip install pyngrok\n"
      ],
      "metadata": {
        "colab": {
          "base_uri": "https://localhost:8080/"
        },
        "id": "zctVwp_3o0pB",
        "outputId": "8106529b-2801-486d-fd57-13844b813ec8"
      },
      "execution_count": 2,
      "outputs": [
        {
          "output_type": "stream",
          "name": "stdout",
          "text": [
            "Collecting pyngrok\n",
            "  Downloading pyngrok-5.1.0.tar.gz (745 kB)\n",
            "\u001b[?25l\r\u001b[K     |▍                               | 10 kB 27.7 MB/s eta 0:00:01\r\u001b[K     |▉                               | 20 kB 11.0 MB/s eta 0:00:01\r\u001b[K     |█▎                              | 30 kB 8.1 MB/s eta 0:00:01\r\u001b[K     |█▊                              | 40 kB 8.2 MB/s eta 0:00:01\r\u001b[K     |██▏                             | 51 kB 4.9 MB/s eta 0:00:01\r\u001b[K     |██▋                             | 61 kB 5.1 MB/s eta 0:00:01\r\u001b[K     |███                             | 71 kB 5.3 MB/s eta 0:00:01\r\u001b[K     |███▌                            | 81 kB 6.0 MB/s eta 0:00:01\r\u001b[K     |████                            | 92 kB 4.7 MB/s eta 0:00:01\r\u001b[K     |████▍                           | 102 kB 5.0 MB/s eta 0:00:01\r\u001b[K     |████▉                           | 112 kB 5.0 MB/s eta 0:00:01\r\u001b[K     |█████▎                          | 122 kB 5.0 MB/s eta 0:00:01\r\u001b[K     |█████▊                          | 133 kB 5.0 MB/s eta 0:00:01\r\u001b[K     |██████▏                         | 143 kB 5.0 MB/s eta 0:00:01\r\u001b[K     |██████▋                         | 153 kB 5.0 MB/s eta 0:00:01\r\u001b[K     |███████                         | 163 kB 5.0 MB/s eta 0:00:01\r\u001b[K     |███████▌                        | 174 kB 5.0 MB/s eta 0:00:01\r\u001b[K     |████████                        | 184 kB 5.0 MB/s eta 0:00:01\r\u001b[K     |████████▍                       | 194 kB 5.0 MB/s eta 0:00:01\r\u001b[K     |████████▉                       | 204 kB 5.0 MB/s eta 0:00:01\r\u001b[K     |█████████▎                      | 215 kB 5.0 MB/s eta 0:00:01\r\u001b[K     |█████████▊                      | 225 kB 5.0 MB/s eta 0:00:01\r\u001b[K     |██████████▏                     | 235 kB 5.0 MB/s eta 0:00:01\r\u001b[K     |██████████▌                     | 245 kB 5.0 MB/s eta 0:00:01\r\u001b[K     |███████████                     | 256 kB 5.0 MB/s eta 0:00:01\r\u001b[K     |███████████▍                    | 266 kB 5.0 MB/s eta 0:00:01\r\u001b[K     |███████████▉                    | 276 kB 5.0 MB/s eta 0:00:01\r\u001b[K     |████████████▎                   | 286 kB 5.0 MB/s eta 0:00:01\r\u001b[K     |████████████▊                   | 296 kB 5.0 MB/s eta 0:00:01\r\u001b[K     |█████████████▏                  | 307 kB 5.0 MB/s eta 0:00:01\r\u001b[K     |█████████████▋                  | 317 kB 5.0 MB/s eta 0:00:01\r\u001b[K     |██████████████                  | 327 kB 5.0 MB/s eta 0:00:01\r\u001b[K     |██████████████▌                 | 337 kB 5.0 MB/s eta 0:00:01\r\u001b[K     |███████████████                 | 348 kB 5.0 MB/s eta 0:00:01\r\u001b[K     |███████████████▍                | 358 kB 5.0 MB/s eta 0:00:01\r\u001b[K     |███████████████▉                | 368 kB 5.0 MB/s eta 0:00:01\r\u001b[K     |████████████████▎               | 378 kB 5.0 MB/s eta 0:00:01\r\u001b[K     |████████████████▊               | 389 kB 5.0 MB/s eta 0:00:01\r\u001b[K     |█████████████████▏              | 399 kB 5.0 MB/s eta 0:00:01\r\u001b[K     |█████████████████▋              | 409 kB 5.0 MB/s eta 0:00:01\r\u001b[K     |██████████████████              | 419 kB 5.0 MB/s eta 0:00:01\r\u001b[K     |██████████████████▌             | 430 kB 5.0 MB/s eta 0:00:01\r\u001b[K     |███████████████████             | 440 kB 5.0 MB/s eta 0:00:01\r\u001b[K     |███████████████████▍            | 450 kB 5.0 MB/s eta 0:00:01\r\u001b[K     |███████████████████▉            | 460 kB 5.0 MB/s eta 0:00:01\r\u001b[K     |████████████████████▎           | 471 kB 5.0 MB/s eta 0:00:01\r\u001b[K     |████████████████████▋           | 481 kB 5.0 MB/s eta 0:00:01\r\u001b[K     |█████████████████████           | 491 kB 5.0 MB/s eta 0:00:01\r\u001b[K     |█████████████████████▌          | 501 kB 5.0 MB/s eta 0:00:01\r\u001b[K     |██████████████████████          | 512 kB 5.0 MB/s eta 0:00:01\r\u001b[K     |██████████████████████▍         | 522 kB 5.0 MB/s eta 0:00:01\r\u001b[K     |██████████████████████▉         | 532 kB 5.0 MB/s eta 0:00:01\r\u001b[K     |███████████████████████▎        | 542 kB 5.0 MB/s eta 0:00:01\r\u001b[K     |███████████████████████▊        | 552 kB 5.0 MB/s eta 0:00:01\r\u001b[K     |████████████████████████▏       | 563 kB 5.0 MB/s eta 0:00:01\r\u001b[K     |████████████████████████▋       | 573 kB 5.0 MB/s eta 0:00:01\r\u001b[K     |█████████████████████████       | 583 kB 5.0 MB/s eta 0:00:01\r\u001b[K     |█████████████████████████▌      | 593 kB 5.0 MB/s eta 0:00:01\r\u001b[K     |██████████████████████████      | 604 kB 5.0 MB/s eta 0:00:01\r\u001b[K     |██████████████████████████▍     | 614 kB 5.0 MB/s eta 0:00:01\r\u001b[K     |██████████████████████████▉     | 624 kB 5.0 MB/s eta 0:00:01\r\u001b[K     |███████████████████████████▎    | 634 kB 5.0 MB/s eta 0:00:01\r\u001b[K     |███████████████████████████▊    | 645 kB 5.0 MB/s eta 0:00:01\r\u001b[K     |████████████████████████████▏   | 655 kB 5.0 MB/s eta 0:00:01\r\u001b[K     |████████████████████████████▋   | 665 kB 5.0 MB/s eta 0:00:01\r\u001b[K     |█████████████████████████████   | 675 kB 5.0 MB/s eta 0:00:01\r\u001b[K     |█████████████████████████████▌  | 686 kB 5.0 MB/s eta 0:00:01\r\u001b[K     |██████████████████████████████  | 696 kB 5.0 MB/s eta 0:00:01\r\u001b[K     |██████████████████████████████▍ | 706 kB 5.0 MB/s eta 0:00:01\r\u001b[K     |██████████████████████████████▊ | 716 kB 5.0 MB/s eta 0:00:01\r\u001b[K     |███████████████████████████████▏| 727 kB 5.0 MB/s eta 0:00:01\r\u001b[K     |███████████████████████████████▋| 737 kB 5.0 MB/s eta 0:00:01\r\u001b[K     |████████████████████████████████| 745 kB 5.0 MB/s \n",
            "\u001b[?25hRequirement already satisfied: PyYAML in /usr/local/lib/python3.7/dist-packages (from pyngrok) (3.13)\n",
            "Building wheels for collected packages: pyngrok\n",
            "  Building wheel for pyngrok (setup.py) ... \u001b[?25l\u001b[?25hdone\n",
            "  Created wheel for pyngrok: filename=pyngrok-5.1.0-py3-none-any.whl size=19007 sha256=40d7b653b8c3e2d0b522c73a1963d3cb70fb441de96a105aaaa1e5b3040261c3\n",
            "  Stored in directory: /root/.cache/pip/wheels/bf/e6/af/ccf6598ecefecd44104069371795cb9b3afbcd16987f6ccfb3\n",
            "Successfully built pyngrok\n",
            "Installing collected packages: pyngrok\n",
            "Successfully installed pyngrok-5.1.0\n"
          ]
        }
      ]
    },
    {
      "cell_type": "markdown",
      "source": [
        "# !ngrok authtoken 23l3lpOIHEAtyVQc72MUKAgIckO_7iYugAoeYbGucp3KhKsrZ this is my auth id dont use it ever"
      ],
      "metadata": {
        "id": "7Y3V2u9qo5qe"
      }
    },
    {
      "cell_type": "code",
      "source": [
        "!ngrok authtoken 23l3lpOIHEAtyVQc72MUKAgIckO_7iYugAoeYbGucp3KhKsrZ"
      ],
      "metadata": {
        "colab": {
          "base_uri": "https://localhost:8080/"
        },
        "id": "V0yIkI3Po3hg",
        "outputId": "85eacbd2-ab5f-4567-9f2c-4709cd0b7ec5"
      },
      "execution_count": 3,
      "outputs": [
        {
          "output_type": "stream",
          "name": "stdout",
          "text": [
            "Authtoken saved to configuration file: /root/.ngrok2/ngrok.yml\n"
          ]
        }
      ]
    },
    {
      "cell_type": "code",
      "source": [
        "# flask_ngrok_example.py\n",
        "from flask import Flask\n",
        "from flask_ngrok import run_with_ngrok\n",
        "\n",
        "app = Flask(__name__)\n",
        "run_with_ngrok(app)  # Start ngrok when app is run\n",
        "\n",
        "@app.route(\"/\")\n",
        "def hello():\n",
        "    return \"Hello World!\"\n",
        "\n",
        "if __name__ == '__main__':\n",
        "    app.run()  # If address is in use, may need to terminate other sessions:\n",
        "               # Runtime > Manage Sessions > Terminate Other Sessions"
      ],
      "metadata": {
        "colab": {
          "base_uri": "https://localhost:8080/"
        },
        "id": "bMwZADhyo_Fl",
        "outputId": "0633284c-c873-48a9-bddd-a924c915ec3b"
      },
      "execution_count": null,
      "outputs": [
        {
          "output_type": "stream",
          "name": "stderr",
          "text": [
            " * Running on http://127.0.0.1:5000/ (Press CTRL+C to quit)\n"
          ]
        },
        {
          "output_type": "stream",
          "name": "stdout",
          "text": [
            " * Running on http://602d-35-237-230-135.ngrok.io\n",
            " * Traffic stats available on http://127.0.0.1:4040\n"
          ]
        },
        {
          "output_type": "stream",
          "name": "stderr",
          "text": [
            "127.0.0.1 - - [21/Jan/2022 21:56:39] \"\u001b[37mGET / HTTP/1.1\u001b[0m\" 200 -\n",
            "127.0.0.1 - - [21/Jan/2022 21:56:45] \"\u001b[37mGET / HTTP/1.1\u001b[0m\" 200 -\n",
            "127.0.0.1 - - [21/Jan/2022 21:56:46] \"\u001b[33mGET /favicon.ico HTTP/1.1\u001b[0m\" 404 -\n"
          ]
        }
      ]
    },
    {
      "cell_type": "code",
      "source": [
        ""
      ],
      "metadata": {
        "id": "FPM3FuU4pBJW"
      },
      "execution_count": null,
      "outputs": []
    }
  ]
}