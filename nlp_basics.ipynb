{
  "nbformat": 4,
  "nbformat_minor": 0,
  "metadata": {
    "colab": {
      "name": "nlp-basics.ipynb",
      "provenance": [],
      "authorship_tag": "ABX9TyMmHeNFwaTSyBSbDsWCRuJU",
      "include_colab_link": true
    },
    "kernelspec": {
      "name": "python3",
      "display_name": "Python 3"
    },
    "language_info": {
      "name": "python"
    }
  },
  "cells": [
    {
      "cell_type": "markdown",
      "metadata": {
        "id": "view-in-github",
        "colab_type": "text"
      },
      "source": [
        "<a href=\"https://colab.research.google.com/github/PriyathamVarma/PriyathamVarma/blob/main/nlp_basics.ipynb\" target=\"_parent\"><img src=\"https://colab.research.google.com/assets/colab-badge.svg\" alt=\"Open In Colab\"/></a>"
      ]
    },
    {
      "cell_type": "markdown",
      "source": [
        "# NLP chat bot"
      ],
      "metadata": {
        "id": "WxxVkLjVs3Nv"
      }
    },
    {
      "cell_type": "code",
      "source": [
        "# using dialogflow and google"
      ],
      "metadata": {
        "id": "G8XUZdfKs5tK"
      },
      "execution_count": 1,
      "outputs": []
    },
    {
      "cell_type": "code",
      "source": [
        ""
      ],
      "metadata": {
        "id": "OBXv_cy-LqQs"
      },
      "execution_count": null,
      "outputs": []
    }
  ]
}